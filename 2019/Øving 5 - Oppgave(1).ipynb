{
 "cells": [
  {
   "cell_type": "markdown",
   "metadata": {},
   "source": [
    "# TMA4320 - Øving 5, Iterative metoder\n",
    "\n",
    "Dette er en liten øving som du burde kunne gjøre før du starter opp med Prosjekt 2.\n",
    "Den bli veiledet i øvingstimen fredag 22.2, kl 9-10. Innleveringsfrist er fredag 1. mars.\n",
    "\n",
    "\n",
    "**Oppgave 1** Vi skal løse et spesifikt ligningssystem\n",
    "$$\n",
    "     A \\mathbf{u} = b,\\quad A\\in\\mathbb{R}^{n\\times n},\\quad b\\in\\mathbb{R}^n\n",
    "$$\n",
    "\n",
    "med hensyn på $\\mathbf{u}$ ved å bruke SOR-metoden. La $h=\\frac{1}{n+1}$ og la $b_i=h^2f(x_i)$\n",
    "der $f(x)$ er en funksjon definert på intervallet $x\\in[0,1]$. Vi tenker oss at systemet stammer fra Poisson-problemet $-u''(x)=f(x)$ der den dobbelderiverte er erstattet med en differenseformel, og en bruker randverdier $u(0)=u(1)=0$.\n",
    "Vi har da at\n",
    "\n",
    "$$\n",
    "A = \\left[\n",
    "\\begin{array}{rrrrrrr}\n",
    "2 & -1 & 0 &  \\cdots & 0  \\\\\n",
    "-1&  2 & -1    &   \\ddots      & \\vdots \\\\\n",
    "0 & \\ddots & \\ddots & \\ddots & 0 \\\\\n",
    "\\vdots &\\ddots & \\ddots &\\ddots & -1 \\\\\n",
    "0 &\\cdots & 0 & -1 & 2\n",
    "\\end{array} \n",
    "\\right]\n",
    "$$\n",
    "\n",
    "Du kan bruke følgende verdier til å teste ut:\n",
    "\n",
    "* $n=10$\n",
    "* $f(x)=x$ som impliserer at den eksakte løsningen er $u(x) = \\frac{1}{6}\\,x\\,(1-x^2)$ eller\n",
    "$\\mathbf{u}_i\\,=\\,ih\\,(1-(ih)^2),\\ i=1,\\ldots,n$\n",
    "* $\\mathtt{tol}=$1e-5\n",
    "* $\\omega=1.2$\n",
    "* $\\mathtt{maxiter}=1000$\n",
    "* $u_0=[0,\\ldots,0]^T$ (numpy.zeros(n))\n",
    "\n",
    "Bruk algoritmen beskrevet i boka på side 110 og bruk gjerne en funksjonsheader som nedenfor.\n",
    "Bruk det enkle feilestimatet $\\mathtt{est}=\\|u^{(k+1)}-u^{(k)}\\|$ (numpy.linalg.norm()).\n",
    "\n",
    "**NB!** Du kan skrive funksjonen som *dedikert* til matrisen $A$, dvs funksjonen hardkoder at $A$ er gitt som ovenfor og behøver ikke å kunne brukes for en vilkårlig $A$.\n",
    "\n",
    "**Kontrollspørsmål 1** Hvor mange iterasjoner trengs for å oppnå det spesifiserte stoppkriteriet ovenfor.\n",
    "Denne gangen angir du ditt resultat (ikke flervalg).\n",
    "\n",
    "**Oppgave 2** For tilfellet $n=30$, $f(x)=-\\sin x\\ln x$, $\\mathtt{tol}=$1e-5, $u_0=[0,\\ldots,0]^T$, prøv deg fram for å finne hvilken $\\omega$ som gjør at iterasjonen konvergerer raskest.\n",
    "\n",
    "**Kontrollspørsmål 2:** Angi din optimale $\\omega$ med 2 gjeldende siffer (dvs f.eks. 1.3). Du kan nøye deg med å søke etter $\\omega$-verdier i intervallet $[1,2]$. Her angir du også verdi (ikke flervalg).\n",
    "\n",
    "\n",
    "**Godkjenningskrav**\n",
    "En Jupyter notebook fil med funksjon som implementerer SOR-metoden som spesifisert skal lastes opp i Bb og det skal svares på kontrollspørsmål.\n",
    "\n"
   ]
  },
  {
   "cell_type": "code",
   "execution_count": 68,
   "metadata": {},
   "outputs": [
    {
     "data": {
      "image/png": "[encoded data removed]",
      "text/plain": [
       "<Figure size 432x288 with 1 Axes>"
      ]
     },
     "metadata": {
      "needs_background": "light"
     },
     "output_type": "display_data"
    },
    {
     "name": "stdout",
     "output_type": "stream",
     "text": [
      "2.220446049250313e-16\n",
      "[[ 2. -1.  0.  0.  0.  0.  0.  0.  0.  0.]\n",
      " [-1.  2. -1.  0.  0.  0.  0.  0.  0.  0.]\n",
      " [ 0. -1.  2. -1.  0.  0.  0.  0.  0.  0.]\n",
      " [ 0.  0. -1.  2. -1.  0.  0.  0.  0.  0.]\n",
      " [ 0.  0.  0. -1.  2. -1.  0.  0.  0.  0.]\n",
      " [ 0.  0.  0.  0. -1.  2. -1.  0.  0.  0.]\n",
      " [ 0.  0.  0.  0.  0. -1.  2. -1.  0.  0.]\n",
      " [ 0.  0.  0.  0.  0.  0. -1.  2. -1.  0.]\n",
      " [ 0.  0.  0.  0.  0.  0.  0. -1.  2. -1.]\n",
      " [ 0.  0.  0.  0.  0.  0.  0.  0. -1.  2.]]\n"
     ]
    },
    {
     "data": {
      "text/plain": [
       "[<matplotlib.lines.Line2D at 0x7fbfb2db6d50>]"
      ]
     },
     "execution_count": 68,
     "metadata": {},
     "output_type": "execute_result"
    },
    {
     "data": {
      "image/png": "[encoded data removed]",
      "text/plain": [
       "<Figure size 432x288 with 1 Axes>"
      ]
     },
     "metadata": {
      "needs_background": "light"
     },
     "output_type": "display_data"
    }
   ],
   "source": [
    "import numpy as np\n",
    "import matplotlib.pyplot as plt\n",
    "from scipy.sparse import diags\n",
    "import warnings \n",
    "#warnings.filterwarnings(\"ignore\")\n",
    "\n",
    "def Poisson(omega,f,u0,tol,maxiter):\n",
    "    '''\n",
    "    Compute the solution to Poisson's equation in 1D by means of the SOR method. \n",
    "    Return the computed solution u.\n",
    "    omega: Value of the relaxation parameter in SOR\n",
    "    f: The right hand side of the Poisson equation as in -u''(x) = f(x)\n",
    "    u0: The initial value for the iteration\n",
    "    tol: The tolerance to be used in the stopping criterion (est < tol)\n",
    "    maxiter: The maximum number of iterations\n",
    "    \n",
    "    '''\n",
    "    eps = np.finfo(\"float\").eps\n",
    "    print(eps)\n",
    "    #Constructs array A in the given shape\n",
    "    n = 10\n",
    "    diagonal = np.zeros(n)\n",
    "    diagonal.fill(2)\n",
    "    udiagonal = np.zeros(n-1)\n",
    "    udiagonal.fill(-1)\n",
    "    diagonals = [udiagonal, diagonal, udiagonal]\n",
    "    A = diags(diagonals, [-1,0,1]).toarray()\n",
    "    print(A)\n",
    "    \n",
    "    \n",
    "    np.where(A==0, eps, A) #Prøver å bytte ut alle 0-verdier med eps, som er minste verdi (precision) på maskinen. \n",
    "    #print(A)\n",
    "    \n",
    "    #Comstruct b . is this the way to do it?\n",
    "    h = 1/(1+n)\n",
    "    x = np.linspace(0,1,n)\n",
    "    b = np.full(n, (-h**2*f(x))) #UIsikker på om det er sånn b skal lages?\n",
    "    \n",
    "    k = 0\n",
    "    est = 2*tol\n",
    "    while est > tol:\n",
    "        k += 1\n",
    "        dividend = omega*np.tril(A, -1)+np.diag(np.diag(A))\n",
    "        u = ((1-omega)*np.diag(np.diag(A))*u0-omega*np.triu(A, 1)*u0)/dividend + omega*b/dividend\n",
    "        u = np.nan_to_num(u) #Sleipt triks!\n",
    "        est = np.linalg.norm(u-u0)\n",
    "        if k > maxiter:\n",
    "            break;\n",
    "        u0 = u #Moves the iteration along\n",
    "    return u\n",
    "\n",
    "def f(x):\n",
    "    return x\n",
    "\n",
    "def u(x):\n",
    "    ''' Exact solution '''\n",
    "    return (1/6)*x*(1-x**2)\n",
    "\n",
    "u0 = np.ones(10)\n",
    "x = np.linspace(0,1,1000)\n",
    "plt.plot(x, u(x), label=\"Exact sol\")\n",
    "plt.legend()\n",
    "plt.show()\n",
    "\n",
    "omega = 1.2\n",
    "tol = 1e-5\n",
    "maxiter = 1000\n",
    "u = Poisson(omega, f, u0, tol, maxiter) #Aner ikke om dette blir korrekt!?\n",
    "#Jeg burde vel fått en vektor tilbake!?!?\n",
    "x1 = np.linspace(0,1,10)\n",
    "plt.plot(x1, u[-1])\n",
    "\n",
    "#Skjønner ikke dette helt!"
   ]
  },
  {
   "cell_type": "code",
   "execution_count": null,
   "metadata": {},
   "outputs": [],
   "source": []
  }
 ],
 "metadata": {
  "kernelspec": {
   "display_name": "Python 3",
   "language": "python",
   "name": "python3"
  },
  "language_info": {
   "codemirror_mode": {
    "name": "ipython",
    "version": 3
   },
   "file_extension": ".py",
   "mimetype": "text/x-python",
   "name": "python",
   "nbconvert_exporter": "python",
   "pygments_lexer": "ipython3",
   "version": "3.7.6"
  },
  "toc": {
   "base_numbering": 1,
   "nav_menu": {},
   "number_sections": true,
   "sideBar": true,
   "skip_h1_title": true,
   "title_cell": "Table of Contents",
   "title_sidebar": "Contents",
   "toc_cell": false,
   "toc_position": {},
   "toc_section_display": true,
   "toc_window_display": false
  }
 },
 "nbformat": 4,
 "nbformat_minor": 2
}
