{
 "cells": [
  {
   "cell_type": "markdown",
   "metadata": {},
   "source": [
    "# TMA4320 Introduksjon til vitenskapelige beregninger - P-03 \n",
    "\n",
    "## Baklengs Euler\n",
    "\n",
    "I denne oppgaven skal du implementere metoden baklengs Euler for å løse systemer av differensialligninger \n",
    "av typen\n",
    "\n",
    "$$\n",
    "    y'(t) = f(y(t)),\\quad y\\in\\mathbb{R}^m,\\ f: \\mathbb{R}^m\\rightarrow\\mathbb{R}^m\n",
    "$$\n",
    "\n",
    "Vi skal altså implementere metoden som, gitt $y(0)=y_0\\in\\mathbb{R}^m$ og en konstant skrittlengde $h$, beregner\n",
    "$y_1, y_2,\\ldots$ ved å benytte formelen\n",
    "\n",
    "$$\n",
    "     y_{n+1} = y_n + h\\, f(y_{n+1})\n",
    "$$\n",
    "\n",
    "der $y_n$ er en approksimasjon til den eksakte løsningen $y(t_n)$ og der $t_n=n h$. Lokalt, i hvert skritt, må man løse en ikke-lineær ligning for $y_{n+1}$, vi søker en vektor $z\\in\\mathbb{R}^m$ slik at \n",
    "\n",
    "$$\n",
    "    G(z) := z-y_n- h\\, f(z) = 0\n",
    "$$\n",
    "\n",
    "Å løse $G(z)=0$ blir et delproblem som kan angripes med Newton's metode, som kan skrives \n",
    "\n",
    "$$\n",
    "     z^{(k+1)} = z^{(k)} - J_G(z^{(k)})^{-1} G(z^{(k)})\\quad\\text{der for eksempel}\\quad z^{(0)} = y_n\n",
    "$$\n",
    "\n",
    "Jacobimatrisen $J_G(z)$ er en $m\\times m$-matrise med elementer\n",
    "$$\n",
    "    [J_G(z)]_{ij} = \\frac{\\partial G_i}{\\partial y_j}(z)\n",
    "$$\n",
    "\n",
    "Med vår $G(z)$ kan vi skrive\n",
    "\n",
    "$$\n",
    "J_G(z) = I - hJ_f(z)\n",
    "$$\n",
    "\n",
    "* Gitt $z^{(0)}$\n",
    "* for $k=0,1,2\\ldots$\n",
    "    * Sett $A=J_G(z^{(k)})=I-hJ_f(z^{(k)})$ \n",
    "    * Sett $b=-G(z^{(k)})=y_n+hf(z^{(k)})-z^{(k)}$\n",
    "    * Løs $A\\delta = b$ med hensyn på $\\delta$\n",
    "    * Sett $z^{(k+1)}=z^{(k)}+\\delta$\n",
    "    * avbryt når konvergenskriterium er oppfylt\n",
    "\n",
    "I denne oppgaven skal du bruke en ferdig numpy-rutine for å løse $A\\delta = b$, nemlig **numpy.linalg.solve**.\n",
    "I vårt tilfelle skriver vi rett og slett **delta=np.linalg.solve(A,b)**.\n",
    "\n",
    "Som konvergenskriterium bruker vi: **np.linalg.norm(delta)<tol** for en oppgitt toleranse.\n",
    "Det kan også være nyttig å vite om funksjonen **numpy.eye** for å lage identitetsmatrise.\n",
    "\n",
    "**Oppgave** \n",
    "\n",
    "**(a)** Skriv en funksjon **beuler$\\underline{}$step** som angitt nedenfor.\n",
    "\n",
    "*Svaret på dette delspørsmålet er korrekt utfylt kode i følgende celle*\n"
   ]
  },
  {
   "cell_type": "code",
   "execution_count": 54,
   "metadata": {},
   "outputs": [],
   "source": [
    "import numpy as np\n",
    "import matplotlib.pyplot as plt\n",
    "\n",
    "def beuler_step(yn,P,h,tol):\n",
    "    ''' Ta ett skritt med baklengs Euler der \n",
    "    yn: initialverdien til skrittet\n",
    "    P: En klasse som inneholder to funksjoner\n",
    "        P.f: funksjon som tar ett argument y (numpy array) og returnerer dy=y'=f(y)  (numpy array)\n",
    "        P.Jf: funksjon som tar ett argument y (numpy array) og returnerer jacobi-matrisen J_f(y) (2D numpy array)\n",
    "    h: Skrittlengde\n",
    "    tol: toleranse i Newtoniterasjonen\n",
    "    Returnerer konvergert løsning etter ett skritt\n",
    "    '''\n",
    "    #antar at yn er et numpy array\n",
    "    errest = 2*tol\n",
    "    z0 = yn\n",
    "    m = len(yn)\n",
    "    while errest > tol:\n",
    "        A = np.eye(m,m) - h*P.Jf(z0)\n",
    "        b = yn + h*P.f(z0) - z0\n",
    "        delta = np.linalg.solve(A,b)\n",
    "        errest = np.linalg.norm(delta)\n",
    "        z = z0 + delta\n",
    "        z0 = z\n",
    "    return z"
   ]
  },
  {
   "cell_type": "markdown",
   "metadata": {},
   "source": [
    "**(b)** Skriv en funksjon **beuler**(y0,P,h,tol,nsteps) som tar nsteps skritt med **beuler$\\underline{}$step** og returnerer et $2\\times n$ numpy array med numerisk løsning av en generell diffligning over et vilkårlig intervall. \n",
    "Ta utgangspunkt i følgende template.\n",
    "\n",
    "*Svaret på dette spørsmålet er korrekt utfylt kode i følgende celle*\n"
   ]
  },
  {
   "cell_type": "code",
   "execution_count": 55,
   "metadata": {},
   "outputs": [],
   "source": [
    "def beuler(y0,P,h,tol,nsteps):\n",
    "    ''' Ta nsteps skritt med baklengs Euler\n",
    "    y0: Startverdien, numpy-array\n",
    "    P: Brukerdefinert klasse som beskrevet i beuler_step\n",
    "    h: Skrittlengde brukt i integrasjonen (se beuler_step)\n",
    "    tol: Toleranse brukt i Newtoniterasjonen (se beuler_step)\n",
    "    nsteps: Antall skritt i integrasjonen, løsningsintevallet er [0,h*nsteps]\n",
    "    Returner Y, et 2x(nsteps+1) numpy array der kolonne k er [yk, yk']^T, numerisk løsning ved tid t=k*h\n",
    "    '''\n",
    "    m = len(y0)\n",
    "    Y = np.zeros((m, nsteps+1))\n",
    "    Y[:, 0] = y0\n",
    "    for step in range(1, nsteps+1):\n",
    "        Y[:,step] = beuler_step(Y[:,step-1], P, h, tol)    \n",
    "    return Y\n"
   ]
  },
  {
   "cell_type": "markdown",
   "metadata": {},
   "source": [
    "**(c)** Vi skal anvende baklengs Euler på en bestemt stiv ligning, nemlig Van der Pol oscillatoren.\n",
    "Vi supplerer kode for å opprette problemklassen VanDerPol nedenfor. Dette problemet kan skrives som\n",
    "\n",
    "$$\n",
    "     y'' - \\mu(1-y^2)y' + y = 0\n",
    "$$\n",
    "\n",
    "I den supplerte koden er problemet omgjort til et system av to førsteordens diffligninger for $y$ og $y'$.\n",
    "Bruk $y_0=[2,0]^T$, $h=0.01$, $\\mathrm{tol}=10^{-6}$ og $\\mathrm{nsteps}=1500$.\n",
    "Vi bruker $\\mu=5$ i vår test, og for å opprette og kalle en instans av klassen skriver man for eksempel\n"
   ]
  },
  {
   "cell_type": "code",
   "execution_count": 46,
   "metadata": {},
   "outputs": [
    {
     "name": "stdout",
     "output_type": "stream",
     "text": [
      "P.f(y)= [ 2 -1]\n",
      "P.Jf(y)= [[  0   1]\n",
      " [-21   0]]\n"
     ]
    }
   ],
   "source": [
    "mu = 5\n",
    "P = VanDerPol(mu)\n",
    "# P er nå klar til å sendes som input-argument til beuler_step, beuler\n",
    "# Funksjonene f og Jf kalles som f.eks.\n",
    "y=np.array([1,2])\n",
    "print('P.f(y)=',P.f(y))\n",
    "print('P.Jf(y)=',P.Jf(y))\n"
   ]
  },
  {
   "cell_type": "markdown",
   "metadata": {},
   "source": [
    "*Du har svart på spørsmål **(c)** når du har supplert kode og genererte plott og utskrift som følger*\n",
    "\n",
    "* Har funnet løsningen for Van der Pol oscillatoren med de gitte parametre. \n",
    "* Har generert et faseplott av løsningen, det vil si en kurve i $xy$-planet som viser null'te mot første rad for løsningen Y som du får fra **beuler**.\n",
    "* Har skrevet ut løsningen etter 1000 skritt, dvs Y[:,1000]\n"
   ]
  },
  {
   "cell_type": "code",
   "execution_count": 56,
   "metadata": {},
   "outputs": [
    {
     "name": "stdout",
     "output_type": "stream",
     "text": [
      "Løsning etter 1000 skritt: [-1.01969992  0.60211016]\n",
      "\n",
      "Faseplott: \n"
     ]
    },
    {
     "data": {
      "image/png": "[encoded data removed]",
      "text/plain": [
       "<Figure size 432x288 with 1 Axes>"
      ]
     },
     "metadata": {
      "needs_background": "light"
     },
     "output_type": "display_data"
    }
   ],
   "source": [
    "# Skriv kode her for få fram løsning og lage plott og utskrift\n",
    "mu = 5\n",
    "P = VanDerPol(mu)\n",
    "y0 = np.array([2,0])\n",
    "h = 0.01\n",
    "tol = 1.0e-6\n",
    "nsteps = 1500\n",
    "Y = beuler(y0, P, h, tol, nsteps)\n",
    "print(\"Løsning etter 1000 skritt:\",Y[:,1000])\n",
    "print()\n",
    "print(\"Faseplott: \")\n",
    "plt.plot(Y[0,:], Y[1,:])\n",
    "plt.title(\"Faseplott\")\n",
    "plt.xlabel(\"y1\")\n",
    "plt.ylabel(\"y2\")\n",
    "plt.show()\n"
   ]
  },
  {
   "cell_type": "markdown",
   "metadata": {},
   "source": [
    "** SUPPLERTE FUNKSJONER **"
   ]
  },
  {
   "cell_type": "code",
   "execution_count": 5,
   "metadata": {},
   "outputs": [],
   "source": [
    "class VanDerPol():\n",
    "    def __init__(self,mu):\n",
    "        self.mu=mu\n",
    "        \n",
    "    def f(self,y):\n",
    "        return np.array([y[1],self.mu*(1-y[0]**2)*y[1]-y[0]])\n",
    "    def Jf(self,y):\n",
    "        Df = np.array([[0,1],[-2*self.mu*y[0]*y[1]-1,self.mu*(1-y[0]**2)]])\n",
    "        return Df\n",
    "    \n"
   ]
  },
  {
   "cell_type": "code",
   "execution_count": null,
   "metadata": {},
   "outputs": [],
   "source": []
  }
 ],
 "metadata": {
  "kernelspec": {
   "display_name": "Python 3",
   "language": "python",
   "name": "python3"
  },
  "language_info": {
   "codemirror_mode": {
    "name": "ipython",
    "version": 3
   },
   "file_extension": ".py",
   "mimetype": "text/x-python",
   "name": "python",
   "nbconvert_exporter": "python",
   "pygments_lexer": "ipython3",
   "version": "3.7.6"
  },
  "toc": {
   "base_numbering": 1,
   "nav_menu": {},
   "number_sections": true,
   "sideBar": true,
   "skip_h1_title": true,
   "title_cell": "Table of Contents",
   "title_sidebar": "Contents",
   "toc_cell": false,
   "toc_position": {},
   "toc_section_display": true,
   "toc_window_display": false
  }
 },
 "nbformat": 4,
 "nbformat_minor": 2
}
