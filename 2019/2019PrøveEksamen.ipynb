{
 "cells": [
  {
   "cell_type": "markdown",
   "metadata": {},
   "source": [
    "# TMA4320 V2019 - Programmeringsoppgave, prøveeksamen\n",
    "\n",
    "I denne oppgaven skal du implementere den klassiske fjerde ordens Runge-Kutta metoden (Kutta 1901) med konstant skrittlengde, og teste den ut på et angitt problem.\n",
    "\n",
    "Metoden, også oppgitt i formelarket, kan skrives over ett skritt som\n",
    "\n",
    "\\begin{align*}\n",
    "  F_1 &= f(t_n,y_n) \\\\\n",
    "  F_2 &= f(t_n+\\frac{h}{2},y_n+\\frac{h}{2}F_1) \\\\\n",
    "  F_3 &= f(t_n+\\frac{h}{2}, y_n + \\frac{h}{2} F_2) \\\\\n",
    "  F_4 &= f(t_n+h, y_n + h F_3) \\\\\n",
    "  y_{n+1} &= y_n + \\frac{h}{6}(F_1+2F_2+2F_3+F_4)\n",
    "\\end{align*}\n",
    "\n",
    "der $h$ er skrittlengden $t_{n+1}-t_n$ som altså holdes konstant for alle $n$.\n",
    "\n",
    "Vi skal løse et Lotka-Volterra (rovdyr-byttedyr) problem som kan skrives som\n",
    "\n",
    "\\begin{align*}\n",
    "u' &= u(v-2),& u(0)&=u_0 \\\\\n",
    "v' &=  v(1-u), & v(0)&= v_0\n",
    "\\end{align*}\n",
    "\n",
    "**Oppgave** \n",
    "\n",
    "**(a)** Skriv en funksjon Kutta4 med \n",
    "\n",
    "Input\n",
    "* f: En funksjon f(t,y) som definerer differensialligningen. t er en skalar og y et numpy array, se i/o def under **(b)**\n",
    "* t0: Startverdien for t.\n",
    "* y0: Startverdien for y y(t0)=y0 (numpy array)\n",
    "* h: Skrittlengde (konstant for alle skritt)\n",
    "* nsteps: Antall skritt som skal tas\n",
    "\n",
    "Output\n",
    "* T: numpy array av lengde nsteps+1 der [t0,t1,...,t(nsteps)] er lagret\n",
    "* Y: numpy array i 2d av størrelse (nsteps+1,m) der m er antall komponenter i y.\n",
    "\n",
    "**(b)** Skriv rutinen f som definerer differensialligningen\n",
    "\n",
    "Input\n",
    "* t: skalar (tid)\n",
    "* y: numpy array som representerer løsning ved tid t\n",
    "\n",
    "Output\n",
    "* yd: numpy array som angir den deriverte yd=f(t,y)\n",
    "\n",
    "**(c)** Skriv kode som finner løsningen av Lotka-Volterra problemet ovenfor med følgende \n",
    "5 valg av startverdier ($u_0, v_0$): $(1,1+0.2\\cdot \\ell),\\ \\ell=0,1,2,3,4$. Bruk $h=0.02$ og \n",
    "nsteps=250 for alle tilfellene. Plott første mot andre komponent av løsningen, alle 5 kurver i samme plott."
   ]
  },
  {
   "cell_type": "code",
   "execution_count": 53,
   "metadata": {},
   "outputs": [
    {
     "data": {
      "text/plain": [
       "'Her setter du opp startverdier, kaller Kutta4 en gang for hver startverdi, \\nog plotter resultatene. Husk alle 5 kurver i samme plott'"
      ]
     },
     "execution_count": 53,
     "metadata": {},
     "output_type": "execute_result"
    }
   ],
   "source": [
    "import numpy as np\n",
    "import matplotlib.pyplot as plt\n",
    "\n",
    "def Kutta4(f,t0,y0,h,nsteps):\n",
    "    \n",
    "    ''' Her skriver du inn koden som tar nsteps skritt med Kutta4-metoden'''\n",
    "    return T,Y\n",
    "    \n",
    "def f(t,y):\n",
    "    \n",
    "    '''Her definerer du diffligningen for Lotka-Volterra problemet'''\n",
    "    \n",
    "    return yd\n",
    "    \n",
    "    \n",
    "'''Her setter du opp startverdier, kaller Kutta4 en gang for hver startverdi, \n",
    "og plotter resultatene. Husk alle 5 kurver i samme plott'''\n"
   ]
  },
  {
   "cell_type": "code",
   "execution_count": null,
   "metadata": {},
   "outputs": [],
   "source": []
  }
 ],
 "metadata": {
  "kernelspec": {
   "display_name": "Python 3",
   "language": "python",
   "name": "python3"
  },
  "language_info": {
   "codemirror_mode": {
    "name": "ipython",
    "version": 3
   },
   "file_extension": ".py",
   "mimetype": "text/x-python",
   "name": "python",
   "nbconvert_exporter": "python",
   "pygments_lexer": "ipython3",
   "version": "3.6.5"
  },
  "toc": {
   "base_numbering": 1,
   "nav_menu": {},
   "number_sections": true,
   "sideBar": true,
   "skip_h1_title": true,
   "title_cell": "Table of Contents",
   "title_sidebar": "Contents",
   "toc_cell": false,
   "toc_position": {},
   "toc_section_display": true,
   "toc_window_display": false
  }
 },
 "nbformat": 4,
 "nbformat_minor": 2
}
