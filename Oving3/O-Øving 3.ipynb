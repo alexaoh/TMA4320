{
 "cells": [
  {
   "cell_type": "markdown",
   "metadata": {},
   "source": [
    "# Øving 3 - TMA4320\n",
    "* **Veiledning:** Torsdag 23. januar, 2020, 0815-0900 i H3\n",
    "* **Innleveringsfrist:** Torsdag 30. januar, 2020, kl 1400\n",
    "* **Innleveringsmetode** Følgende to krav er nødvendig for godkjenning\n",
    "    1. Opplasting av Jupyter Notebook (individuelt) i Blackboard\n",
    "    2. Svare på Blackboardskjema for de tre kontrollspørsmålene i øvingen\n",
    "\n",
    "Denne øvingen dreier seg om polynominterpolasjon. Bruk penn og papir til å finne svarene. Ta kopi av denne Jupyter Notebook'en og fyll inn svarene. Last opp den utfylte Notebook'en i Blackboard. Ta også quizen i Bb.\n",
    "\n",
    "**Oppgave 1**\n",
    "\n",
    "La følgende interpolasjonsdata være gitt\n",
    "\n",
    "$$\n",
    " \\begin{array}{|r||r|r|r|r|}\n",
    " \\hline\n",
    " x_i & 0 & \\frac12 & 1 & 2 \\\\ \\hline\n",
    " y_i & 1 & 1 & 2 & 1 \\\\ \\hline\n",
    " \\end{array}\n",
    "$$\n",
    "\n",
    "<div class=\"alert alert-block alert-success\">\n",
    "**Oppgave 1a.**\n",
    "Bestem Lagrangefunksjonene $L_i(x),\\ i=0,\\ldots,3$ og bestem interpolasjonspolynomet $P_3(x)$ av grad 3.\n",
    "</div>\n"
   ]
  },
  {
   "cell_type": "markdown",
   "metadata": {},
   "source": [
    "**Kontrollspørsmål 0:**\n",
    "Hva er koeffisienten foran $x^2$ i $L_0$? \n",
    "\n",
    "Svar: $\\frac72$\n",
    "\n",
    "**Kontrollspørsmål 1:**\n",
    "Hva er koeffisienten foran $x$ i $L_1$? \n",
    "\n",
    "Svar: $\\frac{16}{3}$\n",
    "\n",
    "**Kontrollspørsmål 2:**\n",
    "Hva er koeffisienten foran $x$ i $L_2$? \n",
    "\n",
    "Svar: -2\n",
    "\n",
    "**Kontrollspørsmål 3:**\n",
    "Hva er koeffisienten foran $x^2$ i $L_3$?\n",
    "\n",
    "Svar: $-\\frac{1}{2}$\n",
    "\n",
    "**Kontrollspørsmål 4:**\n",
    "Hva er koeffisienten foran $x^3$ i $P_3$? \n",
    "\n",
    "Svar: -2\n"
   ]
  },
  {
   "cell_type": "markdown",
   "metadata": {},
   "source": [
    "**Løsning 1a.** (fyll inn din løsning her)\n",
    "\n",
    "$L_0 = -x³+\\frac72x²-\\frac72x+1$\n",
    "\n",
    "$L_1$ = $\\frac{8}{3}x³-8x²+\\frac{16}{3}x$\n",
    "\n",
    "$L_2 = -2x³+5x²-2x$\n",
    "\n",
    "$L_3 = \\frac{1}{3}x³ - \\frac{1}{2}x² + \\frac{1}{6}x$\n",
    "\n",
    "$P_3(x) = -2x³+5x²-2x+1$"
   ]
  },
  {
   "cell_type": "markdown",
   "metadata": {},
   "source": [
    "<div class=\"alert alert-block alert-success\">\n",
    "**Oppgave 1b.** Sett opp tabellen over dividerte differenser for dataene ovenfor, og skriv ned interpolasjonspolynomet på Newton's form.\n",
    "</div>"
   ]
  },
  {
   "cell_type": "markdown",
   "metadata": {},
   "source": [
    "**Kontrollspørsmål 5:**\n",
    "Hva er $f\\left[x_0, x_1, x_2\\right]$? \n",
    "\n",
    "Svar: 2"
   ]
  },
  {
   "cell_type": "markdown",
   "metadata": {},
   "source": [
    "**Løsning 1b.** (fyll inn din løsning her)\n",
    "\n",
    "\\begin{equation}\n",
    "P(x) = 1 + 2x(x-\\frac{1}{2})-2x(x-\\frac{1}{2})(x-1)\n",
    "= -2x³+5x²-2x+1\n",
    "\\end{equation}"
   ]
  },
  {
   "cell_type": "markdown",
   "metadata": {},
   "source": [
    "**Oppgave 2**\n",
    " \n",
    "Kvadratrotfunksjonen, $f(x)=\\sqrt{x}$ skal approksimeres med lineær interpolasjon med hensyn på abscissene\n",
    "$x_0=\\frac14$ og $x_1=1$.\n",
    "\n",
    "*Kommentar.* Klassiske biblioteksrutiner for beregning av $\\sqrt{x}$ gjør følgende: Først skalerer de argumentet $x$ ved å skrive det på formen $x=2^{2m}y$ der $m$ er et heltall og $\\leq\\frac14\\leq y<1$ slik at $\\sqrt{x}=2^m\\sqrt{y}$. Man kan så bruke Newtoniterasjon på $f(z)=z^2-y=0$ som tar formen $z_{k+1}=\\frac12(z_k+\\frac{y}{z_k})$. Men $z_0$ må bestemmes. Da kan man for eksempel benytte interpolasjon slik vi gjør her, og feilskranke er viktig.\n",
    " \n",
    "<div class=\"alert alert-block alert-success\">\n",
    "**Oppgave 2a.** Finn det lineære interpolasjonspolynomet $P(x)$ som interpolerer $f(x)$ i abscissene $x_0$ og $x_1$.\n",
    "</div>\n",
    "\n",
    "\n",
    "**Kontrollspørsmål 6.** Angi $P(\\frac12)$.\n",
    "\n",
    "$P(\\frac{1}{2}) = \\frac{2}{3}$"
   ]
  },
  {
   "cell_type": "markdown",
   "metadata": {},
   "source": [
    "**Løsning 2a.** (fyll inn din løsning her)\n",
    "\n",
    "$P(x) = \\frac{2}{3}x+\\frac{1}{3}$"
   ]
  },
  {
   "cell_type": "markdown",
   "metadata": {},
   "source": [
    "<div class=\"alert alert-block alert-success\">\n",
    "**Oppgave 2b.** Bruk den generelle feilformelen for interpolasjon til å lage en øvre skranke for feilen.\n",
    "Gjør dette ved først å bestemme $M=\\max_{t\\in[\\frac14,1]} |f''(t)|$, og deretter finne maximum av absoluttverdien til\n",
    "datapolynomet $(x-x_0)(x-x_1)$.</div>\n",
    "\n",
    "**Kontrollspørsmål 7.** Angi feilskranken som en brøk $\\frac{p}{q}$ der $p$ og $q$ er relativt primiske heltall (dvs brøken er maksimalt forkortet).\n",
    "\n",
    "$\\frac{p}{q} = \\frac{9}{64}$"
   ]
  },
  {
   "cell_type": "markdown",
   "metadata": {},
   "source": [
    "**Løsning 2b.** (Fyll inn din løsning her\n",
    "\n",
    "M = 2\n",
    "\n",
    "max $\\lvert(x-\\frac14)(x-1)\\rvert = 9/64 \\approx 0.14$\n",
    "\n",
    "$\\implies$ Øvre skranke $ = \\frac{9}{64} \\approx 0.1406$"
   ]
  },
  {
   "cell_type": "markdown",
   "metadata": {},
   "source": [
    "<div class=\"alert alert-block alert-success\">\n",
    "**Oppgave 2c.** Finn deretter eksakt maksimalfeil $\\max_{x\\in[\\frac14,1]} |f(x)-P(x)|$ og sammenlign denne med skranken fra **2b.** </div>\n",
    "\n",
    "**Kontrollspørsmål 8.** Angi denne maksimalfeilen som en brøk $\\frac{p}{q}$ der $p$ og $q$ er relativt primiske heltall."
   ]
  },
  {
   "cell_type": "markdown",
   "metadata": {},
   "source": [
    "**Løsning 2c.** (Fyll inn din løsning her)\n",
    "\n",
    "max $\\lvert f(x)-P(x)\\rvert = \\lvert\\sqrt{x}-\\frac23x+\\frac23 \\rvert = \\frac{1}{24} \\approx 0.04167$"
   ]
  },
  {
   "cell_type": "code",
   "execution_count": null,
   "metadata": {},
   "outputs": [],
   "source": []
  }
 ],
 "metadata": {
  "kernelspec": {
   "display_name": "Python 3",
   "language": "python",
   "name": "python3"
  },
  "language_info": {
   "codemirror_mode": {
    "name": "ipython",
    "version": 3
   },
   "file_extension": ".py",
   "mimetype": "text/x-python",
   "name": "python",
   "nbconvert_exporter": "python",
   "pygments_lexer": "ipython3",
   "version": "3.7.6"
  },
  "toc": {
   "base_numbering": 1,
   "nav_menu": {},
   "number_sections": true,
   "sideBar": true,
   "skip_h1_title": true,
   "title_cell": "Table of Contents",
   "title_sidebar": "Contents",
   "toc_cell": false,
   "toc_position": {},
   "toc_section_display": true,
   "toc_window_display": false
  }
 },
 "nbformat": 4,
 "nbformat_minor": 2
}
