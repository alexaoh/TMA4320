{
 "cells": [
  {
   "cell_type": "markdown",
   "metadata": {},
   "source": [
    "# Øving 4 - TMA4320\n",
    "* **Veiledning:** Torsdag 13. februar, 2020, 0815-1000 i H3\n",
    "* **Innleveringsfrist:** Torsdag 20. februar, 2020, kl 1400\n",
    "* **Innleveringsmetode** Følgende to krav er nødvendig for godkjenning\n",
    "    1. Opplasting av Jupyter Notebook (individuelt) i Blackboard\n",
    "    2. Svare på Blackboardskjema for de tre kontrollspørsmålene i øvingen\n",
    "\n",
    "Denne øvingen dreier seg om numerisk integrasjon. Ta en kopi av denne Notebook'en og fyll inn dine svar. Ta quizen i Bb.\n",
    "\n",
    "**Oppgave 1**\n",
    "Vi ser i første omgang på en numerisk integrasjonsformel på intervallet $[0,1]$ av formen\n",
    "\n",
    "$$\n",
    "    Q[f] = s\\left(f(1)-f(0)\\right) + b f(\\alpha) \n",
    "$$\n",
    "\n",
    "der $s$, $b$ og $\\alpha$ er parametre som kan velges.\n",
    "\n",
    "\n",
    "<div class=\"alert alert-block alert-success\">\n",
    "**Oppgave 1a.**\n",
    "Finn verdier for $s$, $b$ og $\\alpha$ som gjør at formelen får høyest mulig presisjonsgrad.\n",
    "</div>\n"
   ]
  },
  {
   "cell_type": "markdown",
   "metadata": {},
   "source": [
    "#### Verdier for parameterne: \n",
    "\n",
    "Ligningssystemet jeg fikk for ulike k-er: \n",
    "\n",
    "$s+b\\alpha^k = \\frac{1}{k+1}$\n",
    "\n",
    "Løst for systemet med k = 0,1,2:\n",
    "\n",
    "\n",
    "$\\alpha_1 = \\frac12 + \\frac{\\sqrt3}{6}$, $b_1 = 1$, $s_1 = -\\frac{\\sqrt3}{6}$\n",
    "\n",
    "<br>\n",
    "\n",
    "$\\alpha_2 = \\frac12 - \\frac{\\sqrt3}{6}$, $b_2 = 1$, $s_2 = \\frac{\\sqrt3}{6}$\n"
   ]
  },
  {
   "cell_type": "markdown",
   "metadata": {},
   "source": [
    "**Kontrollspørsmål 1:**\n",
    "Hva er den største mulige presisjonsgrad?\n",
    "\n",
    "Prøver å sette inn disse løsningene (fra ligningssystemet k = 2)i systemet når k = 3, men de løser ikke denne. Dermed er høyeste presisjonsgrad til formelen k = 2. \n",
    "\n",
    "\n",
    "**Kontrollspørsmål 2:** Det fins to løsninger for $\\alpha$, hva er verdien av den minste av disse?\n",
    "\n",
    "$\\alpha_2 = \\frac12 - \\frac{\\sqrt3}{6}$"
   ]
  },
  {
   "cell_type": "markdown",
   "metadata": {},
   "source": [
    "Vi modifiserer nå formelen ved å transformere den til intervallet $[x_k,x_k+h]$.\n",
    "Et lineært variabelskifte, $x=x_k+th$, gir oss\n",
    "\n",
    "$$\n",
    "  \\int_{x_k}^{x_k+h}f(x)\\,dx = h\\int_0^1 f(x_k+th)\\,dt \n",
    "$$\n",
    "\n",
    "som gir den modifiserte formelen\n",
    "\n",
    "$$\n",
    "     Q_{[x_k,x_k+h]}[f] = h\\big(s(f(x_k+h)-f(x_k)) + b f(x_k+\\alpha h)\\big)\n",
    "$$\n",
    "\n",
    "Neste skritt er å lage en sammensatt formel; definer $x_k=a+kh$ der $h=\\frac{b-a}{n}$ og $n$ er antall intervaller. Vi kan nå lage den sammensatte formelen\n",
    "\n",
    "$$\n",
    "  \\bar{Q}_n[f] = \\sum_{k=0}^{n-1} Q_{[x_k,x_k+h]}[f]\n",
    "$$\n",
    "\n",
    "<div class=\"alert alert-block alert-success\">\n",
    "**Oppgave 1b.** Skriv opp formelen for $\\bar{Q}_n[f]$ med de verdiene du har funnet for parametrene $b, \\alpha, s$ i forrige oppgave.\n",
    "</div>"
   ]
  },
  {
   "cell_type": "markdown",
   "metadata": {},
   "source": [
    "**Kontrollspørsmål 3:**\n",
    "Hvor mange funksjonsevalueringer (beregninger av $f(x)$) trenger man med $n$ intervaller?\n"
   ]
  },
  {
   "cell_type": "markdown",
   "metadata": {},
   "source": [
    "Man trenger n+2 funksjonsevalueringer"
   ]
  },
  {
   "cell_type": "markdown",
   "metadata": {},
   "source": [
    "<div class=\"alert alert-block alert-success\">\n",
    "**Oppgave 1c.**\n",
    "Implementer metoden i Python. Anvend den på integralet\n",
    "\n",
    "$$\n",
    "I =   \\int_{-2}^2 \\frac{\\sin x}{x}\\,dx\n",
    "$$\n",
    "\n",
    "med $n=4,8,16,32,64,128, 256$ og sammenlign svaret med sammensatt trapesmetode med samme antall intervaller.\n",
    "Husk unntaksbehandling av $x=0$ (spesielt relevant for trapes).\n",
    "</div>"
   ]
  },
  {
   "cell_type": "markdown",
   "metadata": {},
   "source": [
    "Fyll inn koden i cellen nedenfor"
   ]
  },
  {
   "cell_type": "code",
   "execution_count": 25,
   "metadata": {},
   "outputs": [
    {
     "name": "stdout",
     "output_type": "stream",
     "text": [
      "Deviation: 0.028696972261059273 n=4\n",
      "Deviation:  1.1717643292280897 n=4\n",
      "Deviation: 0.028234144154339447 n=8\n",
      "Deviation:  1.1637041373843147 n=8\n",
      "Deviation: 0.028120601404225454 n=16\n",
      "Deviation:  1.1617195891689107 n=16\n",
      "Deviation: 0.028092348016798496 n=32\n",
      "Deviation:  1.1612253231046452 n=32\n",
      "Deviation: 0.02808529883623123 n=64\n",
      "Deviation:  1.161101872979998 n=64\n",
      "Deviation: 0.028083086013793945 n=128\n",
      "Deviation:  1.1610710177264991 n=128\n",
      "Deviation: 0.028074264526367188 n=256\n",
      "Deviation:  1.161063304374693 n=256\n",
      "It is apparent that the error in the new formula goes as n⁴ (n² for composite trapezoid)\n"
     ]
    }
   ],
   "source": [
    "import numpy as np\n",
    "\n",
    "def f(x):\n",
    "    '''Definer funksjonen f(x) her'''\n",
    "    return np.sin(x)/x if x!=0 else 1\n",
    "    \n",
    "\n",
    "def teleformula(f,a,b,n,c):\n",
    "    \n",
    "    '''Beregner approksimasjon til I basert på formelen utledet i denne oppgaven\n",
    "    f: integranden\n",
    "    a,b: Intervallgrenser\n",
    "    n: Antall intervaller\n",
    "    c: skal være 1 eller -1 og velger hvilken av de to metodene med presisjonsgrad 2 \n",
    "        som skal brukes\n",
    "    '''\n",
    "    #x_k = a + k*h\n",
    "    h = (b-a)/n\n",
    "    alpha = 0.5+c*np.sqrt(3)/6\n",
    "    #alpha = (3+np.sqrt(3)*c)/3\n",
    "    s = 0.5 - alpha #(-np.sqrt(3)/6)*c\n",
    "    Q_n = 0\n",
    "    for k in range(n):\n",
    "        Q_n += h*(s*(f(a+k*h+h)-f(a+k*h))+f(a+k*h+alpha*h))\n",
    "    return Q_n\n",
    "\n",
    "def trapesformula(f,a,b,n):\n",
    "    '''For sammenligning implementer sammensatt trapes her'''\n",
    "    h = (b-a)/n\n",
    "    middle_sum = 0\n",
    "    for i in range(1,n):\n",
    "        middle_sum += f(a+i*h)\n",
    "    T_n = (h/2)*f(a) + (h/2)*f(b) + h*middle_sum\n",
    "    return T_n\n",
    "\n",
    "\n",
    " \n",
    "na=[4,8,16,32,64,128,256]\n",
    "I = 3.2108259536053896972  # Har funnet 'eksakt svar' på integralet for sammenligning\n",
    "\n",
    "q_list = [5,4,3,2,1,0,-1,-2,-3,-4,-5,-6,-7,-8,-9,-10]\n",
    "for i in na:\n",
    "    #print(\"Teleformula for n =\",i,\"(c = 1) gives\", teleformula(f, -2, 2, i, 1), \"\\n\")\n",
    "    #print(\"Teleformula for n =\",i,\"(c = -1) gives\", teleformula(f, -2, 2, i, -1), \"\\n\")\n",
    "    #print(\"Trapesformula for n =\",i,\"gives\", trapesformula(f, -2, 2, i), \"\\n\")\n",
    "    print(\"Deviation:\",(I-teleformula(f, -2, 2, i, -1))*i**4,\"n=\"+str(i))\n",
    "    print(\"Deviation: \",(I-trapesformula(f, -2, 2, i))*i**2,\"n=\"+str(i))\n",
    "    #for q in q_list:\n",
    "    #    print(\"n^q =\", i**q,\"(q=\"+str(q)+\")\")\n",
    "    \n",
    "print(\"It is apparent that the error in the new formula goes as n⁴ (n² for composite trapezoid)\")\n",
    "        "
   ]
  },
  {
   "cell_type": "markdown",
   "metadata": {},
   "source": [
    "Vi ser altså her at feilen i den nye formelen oppfører seg som $C h^4$, dette skyldes at integranden er symmetrisk.\n",
    "\n",
    "**Kontrollspørsmål 4.** Fra eksperimentene kan man estimere at feilen i den nye formelen på dette problemet oppfører seg som $|I-\\bar{Q}_n[f]|\\approx C n^q$ for et heltall $q$. Bestem $q$.\n",
    " \n",
    " \n",
    "Svar: q= 4, som skrevet over."
   ]
  },
  {
   "cell_type": "code",
   "execution_count": null,
   "metadata": {},
   "outputs": [],
   "source": []
  }
 ],
 "metadata": {
  "kernelspec": {
   "display_name": "Python 3",
   "language": "python",
   "name": "python3"
  },
  "language_info": {
   "codemirror_mode": {
    "name": "ipython",
    "version": 3
   },
   "file_extension": ".py",
   "mimetype": "text/x-python",
   "name": "python",
   "nbconvert_exporter": "python",
   "pygments_lexer": "ipython3",
   "version": "3.7.6"
  },
  "toc": {
   "base_numbering": 1,
   "nav_menu": {},
   "number_sections": true,
   "sideBar": true,
   "skip_h1_title": true,
   "title_cell": "Table of Contents",
   "title_sidebar": "Contents",
   "toc_cell": false,
   "toc_position": {},
   "toc_section_display": true,
   "toc_window_display": false
  }
 },
 "nbformat": 4,
 "nbformat_minor": 2
}
