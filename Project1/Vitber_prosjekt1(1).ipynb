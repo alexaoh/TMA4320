{
 "cells": [
  {
   "cell_type": "markdown",
   "metadata": {
    "colab_type": "text",
    "id": "EFrmTN4TEya5"
   },
   "source": [
    "# Exercise 3.1: \n",
    "Is it enough to insert the given solution into the equation? If not the soulution can be found by applying a Fourier transform to the diffusion equation (4K).\n",
    "Possible physical interpretaion of h(y): This represents the initial distribution of the substance, as is obvious if the solution is shown using the Fourier transform. \n",
    "\n",
    "https://wiki.math.ntnu.no/_media/tma4120/2019h/heat2018.pdf\n",
    "\n",
    "Skal vise at \n",
    "\n",
    "$\\phi(x,t) = \\frac{1}{\\sqrt{4\\pi Dt}} \\int^{+\\infty}_{-\\infty}dy\\,h(y)e^{-\\frac{(x-y)^2}{4Dt}}$\n",
    "\n",
    "Er en løsning av\n",
    "\n",
    "$\\frac{\\partial \\phi(x, t)}{\\partial t} = D\\frac{\\partial^2\\phi(x,t)}{\\partial^2x}$.\n",
    "\n",
    "Regner først ut\n",
    "\n",
    "$\\frac{\\partial \\phi(x, t)}{\\partial t} = -\\frac{1}{2} \\frac{1}{\\sqrt{4\\pi Dt}} \\frac{1}{t} \\int^{+\\infty}_{-\\infty}dy\\,h(y)e^{-\\frac{(x-y)^2}{4Dt}} + \\frac{1}{\\sqrt{4\\pi Dt}} \\frac{1}{t^2}\\int^{+\\infty}_{-\\infty}dy\\,h(y) \\, \\frac{(x-y)^2}{4D}e^{-\\frac{(x-y)^2}{4Dt}} = \\frac{1}{\\sqrt{4\\pi Dt}}(\\frac{1}{t^{2}} \\int^{+\\infty}_{-\\infty}dy\\,h(y)\\,\\frac{(x-y)^2}{4D}e^{-\\frac{(x-y)^2}{4Dt}} - \\frac{1}{2t} \\int^{+\\infty}_{-\\infty}dy\\,h(y)e^{-\\frac{(x-y)^2}{4Dt}})$.\n",
    "\n",
    "Deretter finner vi\n",
    "\n",
    "$\\frac{\\partial\\phi(x,t)}{\\partial x} = \\frac{1}{\\sqrt{4\\pi Dt}} (-\\frac{1}{4Dt}) \\int^{+\\infty}_{-\\infty}dy\\,h(y)\\,(2x-2y)e^{-\\frac{(x-y)^2}{4Dt}}$\n",
    "\n",
    "$\\implies \\frac{\\partial^2 \\phi(x,t)}{\\partial^2 x} = \\frac{1}{\\sqrt{4\\pi Dt}}\\frac{1}{4Dt}(-\\int^{+\\infty}_{-\\infty}dy\\,h(y)\\,2e^{-\\frac{(x-y)^2}{4Dt}} + \\int^{+\\infty}_{-\\infty}dy\\,h(y)\\,\\frac{(2x-2y)^2}{4Dt}e^{-\\frac{(x-y)^2}{4Dt}}) = \\frac{1}{D\\sqrt{4\\pi Dt}}(\\frac{1}{t^{2}} \\int^{+\\infty}_{-\\infty}dy\\,h(y)\\,\\frac{(x-y)^2}{4D}e^{-\\frac{(x-y)^2}{4Dt}} - \\frac{1}{2t} \\int^{+\\infty}_{-\\infty}dy\\,h(y)e^{-\\frac{(x-y)^2}{4Dt}})$.\n",
    "\n",
    "$\\implies \\frac{\\partial \\phi(x, t)}{\\partial t} = D\\frac{\\partial^2\\phi(x,t)}{\\partial^2x}$ $$\\tag*{$\\blacksquare$}$$.\n"
   ]
  },
  {
   "cell_type": "markdown",
   "metadata": {
    "colab_type": "text",
    "id": "RAo-Yc9jE33P"
   },
   "source": [
    "# Exercise 3.2:\n",
    "The probability of finding an particle in position $x$ in a potential landscape $V(x)$ is given by $P(x) = Ze^{-\\beta V(x)}$, where $Z$ is the canonical partition function of the system and $\\beta = (k_b T)^{-1}$.\n",
    "\n",
    "During a random walk the probability for a particle to move in positive direction, stay put or move in negative direction is $\\{p^{+}, p^{0}, p^{-}\\}$, and the sum of them must add up to one. That means the probabilities must satisfy the equation $p^{+} + p^{0} + p^{-} = 1$. We assume each of the probabilities are proportional to $P(x)$ and that the proportionality constant, $C$, is equal for all steps. If the position before a random walk step is $x_0$ we get $p^{+}=CP(x_0+1)$, $p^{0}=CP(x_0)$ and $p^{-}=CP(x_0-1)$. By putting these expressions in the equation above we find the constant $C=\\frac{1}{P(x_0+1)+P(x_0)+P(x_0-1)}$ \n",
    "and find the desired probabilities:\n",
    "\n",
    "$p^{+}=\\frac{P(x_0+1)}{P(x_0+1)+P(x_0)+P(x_0-1)} = \\frac{1}{1+e^{-\\beta [V(x_0-1)-V(x_0+1)]}+e^{-\\beta [V(x_0)-V(x_0+1)]}}$\n",
    "\n",
    "$p^{0}=\\frac{P(x_0)}{P(x_0+1)+P(x_0)+P(x_0-1)} = \\frac{1}{1+e^{-\\beta [V(x_0-1)-V(x_0)]}+e^{-\\beta [V(x_0+1)-V(x_0)]}}$\n",
    "\n",
    "$p^{-}=\\frac{P(x_0-1)}{P(x_0+1)+P(x_0)+P(x_0-1)} = \\frac{1}{1+e^{-\\beta [V(x_0+1)-V(x_0-1)]}+e^{-\\beta [V(x_0)-V(x_0-1)]}}$."
   ]
  },
  {
   "cell_type": "markdown",
   "metadata": {
    "colab_type": "text",
    "id": "ATCOHxDxE6As"
   },
   "source": [
    "# Exercise 3.3:\n",
    "Use the Taylor series expansion of $e = 1 + x + \\frac{x²}{2} + ...$\n",
    "\n",
    "* I would imagine that a very high temperature makes the probabilties equal. Therefore they should be $\\frac13$ each. This makes sense with the Taylor series of $e \\approx 1$ when $x<<1$.\n",
    "* When $x>>1$ the probabilites go towards zero, if I am not mistaken. \n",
    "\n",
    "How can the random walk problem be simplified using an energy scale argument in the two limits?\n",
    "* Limit 1: The difference in potentials when changing x is negligible if the temperature is very large\n",
    "* Limit 2: If the temperature is very low, the diffusion stops? Absolute zero?"
   ]
  },
  {
   "cell_type": "markdown",
   "metadata": {
    "colab_type": "text",
    "id": "__-H3RwKE6NB"
   },
   "source": [
    "# Warm-up exercises:\n",
    "* Start with 10000 particles at x = 0\n",
    "* Each particle is subject to a random walk for 200 time steps\n",
    "* Step length h = 1\n",
    "* Time step $\\Delta t = 1$\n",
    "\n",
    "Pick a random number between 0 and 1. Walk in the directions that the probabilities dictate. "
   ]
  },
  {
   "cell_type": "markdown",
   "metadata": {
    "colab_type": "text",
    "id": "PMMFlxcTFCZl"
   },
   "source": [
    "## Programming exercise 4.1: "
   ]
  },
  {
   "cell_type": "code",
   "execution_count": 12,
   "metadata": {
    "colab": {
     "base_uri": "https://localhost:8080/",
     "height": 265
    },
    "colab_type": "code",
    "id": "mzSF_IT9E_v1",
    "outputId": "41e3f1c1-60e0-4726-877b-a9be7556290f"
   },
   "outputs": [
    {
     "data": {
      "image/png": "[encoded data removed]",
      "text/plain": [
       "<Figure size 432x288 with 1 Axes>"
      ]
     },
     "metadata": {
      "tags": []
     },
     "output_type": "display_data"
    }
   ],
   "source": [
    "import numpy as np\n",
    "from scipy.stats import norm\n",
    "import matplotlib.pyplot as plt \n",
    "from math import e\n",
    "import random as rand\n",
    "\n",
    "#temp = 100 #for example. \n",
    "#beta = k_b*temp\n",
    "\n",
    "# Probabililities from ex. 3 \n",
    "def p_plus(x_0, V, beta_k):\n",
    "    return 1/(1+e**(-beta_k*(V(x_0-1)-V(x_0+1)))+e**(-beta_k*(V(x_0)-V(x_0+1))))\n",
    "\n",
    "def p_zero(x_0, V, beta_k):\n",
    "    return 1/(1+e**(-beta_k*(V(x_0-1)-V(x_0)))+e**(-beta_k*(V(x_0+1)-V(x_0))))\n",
    "\n",
    "def p_minus(x_0, V, beta_k):\n",
    "    return 1/(1+e**(-beta_k*(V(x_0+1)-V(x_0-1)))+e**(-beta_k*(V(x_0)-V(x_0-1))))\n",
    "\n",
    "#Constants for ex. 4\n",
    "time_steps = 200\n",
    "amount_of_particles = 1000\n",
    "beta_k = [0.01, 1, 100] # betaAndK = one value from the list beta_k\n",
    "step_length = 1\n",
    "\n",
    "\n",
    "#Makes Result with a potential V and value betaAndK. \n",
    "def get_result(V, betaAndK):\n",
    "    init = np.zeros((amount_of_particles,), dtype=int)\n",
    "    for step in range(time_steps):\n",
    "        for position in range(len(init)):\n",
    "             \n",
    "                p = np.random.uniform()\n",
    "                if p <= p_minus(init[position],V, betaAndK):\n",
    "                    init[position] -= 1\n",
    "                elif p >= (1-p_plus(init[position],V, betaAndK)):\n",
    "                    init[position] += 1\n",
    "    return init\n",
    "\n",
    "#Plotting result\n",
    "def plot_result(result):\n",
    "  y = np.zeros(((max(result)-min(result))+1,),dtype=int)\n",
    "  for element in result:\n",
    "    indeks = int(element-min(result))\n",
    "    y[indeks] += 1   \n",
    "  x = np.arange(min(result), max(result)+1, 1)\n",
    "  plt.plot(x,y, label=\"Raw data\")\n",
    "  #Får ikke til scipy.fit!\n",
    "  mean, std = norm.fit(y)\n",
    "  pdf = norm.pdf(y, mean, std)\n",
    "  plt.plot(x, pdf, label=\"PDF\")\n",
    "  plt.legend()\n",
    "  plt.show()\n",
    "\n",
    "  #fig, axs = plt.subplots(1, 3, figsize=(10, 4), tight_layout=True)\n",
    "  #axs[0].plot(x,y) #example on how to plot subplots, but need to do some changes to be able to plot all three of them\n",
    "  #axs[1].plot(x,y) #Maybe hard to do in one general function like this\n",
    "  #axs[2].plot(x,y)\n",
    "  #plt.plot(x,y)\n",
    "  #####plt.plot(x, norm.pdf(y)) #use norm to fit somehow\n",
    "  #plt.show()\n",
    "\n",
    "# Potential number one, the constant k is with betaAndK in getResult\n",
    "def V_1(x):\n",
    "    return 1\n",
    "\n",
    "plot_result(get_result(V_1,beta_k[0])) #Burde heller plottes i subplots til senere. \n",
    "#plotResult(getResult(V_1,beta_k[1]))\n",
    "#plotResult(getResult(V_1,beta_k[2]))\n",
    " ## Ser at grafene til V_1 er uavh. av verdien til betaAndK\n",
    "\n",
    "\n",
    "# Mangler å fitte(!) normalfordelingene + ev. diskusjon rundt resultatene. "
   ]
  },
  {
   "cell_type": "markdown",
   "metadata": {
    "colab_type": "text",
    "id": "5MAV0FIDFMFZ"
   },
   "source": [
    "## Programming exercise 4.2:"
   ]
  },
  {
   "cell_type": "code",
   "execution_count": 0,
   "metadata": {
    "colab": {
     "base_uri": "https://localhost:8080/",
     "height": 265
    },
    "colab_type": "code",
    "id": "kO-eZ17DFF5e",
    "outputId": "b3584529-8d72-4093-f355-4fac60fb1619"
   },
   "outputs": [
    {
     "data": {
      "image/png": "[encoded data removed]",
      "text/plain": [
       "<Figure size 432x288 with 1 Axes>"
      ]
     },
     "metadata": {
      "tags": []
     },
     "output_type": "display_data"
    }
   ],
   "source": [
    "def V_2(x):\n",
    "    return x\n",
    "\n",
    "plot_result(get_result(V_2,beta_k[0])) #Skjer noe merkelig med beta_k[2]\n"
   ]
  },
  {
   "cell_type": "markdown",
   "metadata": {
    "colab_type": "text",
    "id": "vCdSkfilFRcS"
   },
   "source": [
    "## Programming exercise 4.3:\n"
   ]
  },
  {
   "cell_type": "code",
   "execution_count": 0,
   "metadata": {
    "colab": {
     "base_uri": "https://localhost:8080/",
     "height": 265
    },
    "colab_type": "code",
    "id": "qMoSdCYNFS3s",
    "outputId": "fd013171-86d7-4b6d-831f-af87105f88b4"
   },
   "outputs": [
    {
     "data": {
      "image/png": "[encoded data removed]",
      "text/plain": [
       "<Figure size 432x288 with 1 Axes>"
      ]
     },
     "metadata": {
      "tags": []
     },
     "output_type": "display_data"
    }
   ],
   "source": [
    "def V_3(x):\n",
    "    return ((x/20)+np.sin(x/5))\n",
    "\n",
    "plot_result(get_result(V_3,beta_k[2]))"
   ]
  },
  {
   "cell_type": "markdown",
   "metadata": {
    "colab_type": "text",
    "id": "evad1lQ8FV-K"
   },
   "source": [
    "## Programming exercise 4.4:\n"
   ]
  },
  {
   "cell_type": "code",
   "execution_count": 0,
   "metadata": {
    "colab": {
     "base_uri": "https://localhost:8080/",
     "height": 282
    },
    "colab_type": "code",
    "id": "Hj3BstrBFXrr",
    "outputId": "7ecfa875-2d4f-4ed8-a68e-7bf6e309c0e6"
   },
   "outputs": [
    {
     "name": "stderr",
     "output_type": "stream",
     "text": [
      "/usr/local/lib/python3.6/dist-packages/ipykernel_launcher.py:20: RuntimeWarning: overflow encountered in double_scalars\n"
     ]
    },
    {
     "data": {
      "image/png": "[encoded data removed]",
      "text/plain": [
       "<Figure size 432x288 with 1 Axes>"
      ]
     },
     "metadata": {
      "tags": []
     },
     "output_type": "display_data"
    }
   ],
   "source": [
    "def V_4(x):\n",
    "    return x**2\n",
    "\n",
    "plot_result(get_result(V_4,beta_k[2])) #RuntimeWarning ved beta_k[2]\n",
    "#Ser ut som veldig få datapunkter med høy verdi av beta*k"
   ]
  },
  {
   "cell_type": "markdown",
   "metadata": {
    "colab_type": "text",
    "id": "Pp4AkGzjbbs4"
   },
   "source": [
    "# 5 Random walk in a ratchet potential"
   ]
  },
  {
   "cell_type": "code",
   "execution_count": 0,
   "metadata": {
    "colab": {},
    "colab_type": "code",
    "id": "krrV23y4bnRG"
   },
   "outputs": [],
   "source": [
    "import numpy as np\n",
    "\n",
    "def V_sawtooth(x): #N_x steps is the spatial period of V_1(x)\n",
    "  assert (-(1-alpha)*N_x < x <= alpha*N_x)\n",
    "  return k*x/(alpha*N_x) if (0 < x <= alpha*N_x) else -k*(x/((1-alpha)*N_x))\n",
    "  \n",
    "def V_constant(x):\n",
    "  #Constant function of x, magnitude not important. \n",
    "  #Therefore, we define it as 1\n",
    "  c = 1\n",
    "  return c\n",
    "\n",
    "def J(t_i): #Normalized particle current\n",
    "  pass\n",
    "  return (n_plus(t_i)-n_minus(t_i))/N_p"
   ]
  },
  {
   "cell_type": "markdown",
   "metadata": {
    "colab_type": "text",
    "id": "7UgQdnlQbghi"
   },
   "source": [
    "## 5.1 Programming exercise 5.1"
   ]
  },
  {
   "cell_type": "code",
   "execution_count": 39,
   "metadata": {
    "colab": {
     "base_uri": "https://localhost:8080/",
     "height": 132
    },
    "colab_type": "code",
    "id": "mazpvvnBcvtC",
    "outputId": "ff4531bc-b049-4933-d5c3-488354f0a7a9"
   },
   "outputs": [
    {
     "name": "stdout",
     "output_type": "stream",
     "text": [
      "[ 15  15  15  15  15  15  16  16  16  16  16  16  17  17  17  17  17  17\n",
      "  18  18  18  18  18  18  19  19  19  19  19  19  20  20  20  20  20  20\n",
      "  21  21  21  21  21  21  22  22  22  22  22  22  23  23  23  23  23  23\n",
      "  24  24  24  24  24  24  25  25  25  25  25  25  26  26  26  26  26  26\n",
      "  27  27  27  27  27  27  28  28  28  28  28  28  29  29  29  29  29  29\n",
      "  30  30  30  30  30  30  31  31  31  31  31  31  32  32  32  32  32  32\n",
      "  33  33  33  33  33  33  34  34  34  34  34  34  35  35  35  35  35  35\n",
      "  36  36  36  36  36  36  37  37  37  37  37  37  38  38  38  38  38  38\n",
      "  39  39  39  39  39  39  40  40  40  40  40  40  41  41  41  41  41  41\n",
      "  42  42  42  42  42  42  43  43  43  43  43  43  44  44  44  44  44  44\n",
      "  45  45  45  45  45  45  46  46  46  46  46  46  47  47  47  47  47  47\n",
      "  48  48  48  48  48  48  49  49  49  49  49  49  50  50  50  50  50  50\n",
      "  51  51  51  51  51  51  52  52  52  52  52  52  53  53  53  53  53  53\n",
      "  54  54  54  54  54  54  55  55  55  55  55  55  56  56  56  56  56  56\n",
      "  57  57  57  57  57  57  58  58  58  58  58  58  59  59  59  59  59  59\n",
      "  60  60  60  60  60  60  61  61  61  61  61  61  62  62  62  62  62  62\n",
      "  63  63  63  63  63  63  64  64  64  64  64  64  65  65  65  65  65  65\n",
      "  66  66  66  66  66  66  67  67  67  67  67  67  68  68  68  68  68  68\n",
      "  69  69  69  69  69  69  70  70  70  70  70  70  71  71  71  71  71  71\n",
      "  72  72  72  72  72  72  73  73  73  73  73  73  74  74  74  74  74  74\n",
      "  75  75  75  75  75  75  76  76  76  76  76  76  77  77  77  77  77  77\n",
      "  78  78  78  78  78  78  79  79  79  79  79  79  80  80  80  80  80  80\n",
      "  81  81  81  81  81  81  82  82  82  82  82  82  83  83  83  83  83  83\n",
      "  84  84  84  84  84  84  85  85  85  85  85  85  86  86  86  86  86  86\n",
      "  87  87  87  87  87  87  88  88  88  88  88  88  89  89  89  89  89  89\n",
      "  90  90  90  90  90  90  91  91  91  91  91  91  92  92  92  92  92  92\n",
      "  93  93  93  93  93  93  94  94  94  94  94  94  95  95  95  95  95  95\n",
      "  96  96  96  96  96  96  97  97  97  97  97  97  98  98  98  98  98  98\n",
      "  99  99  99  99  99  99 100 100 100 100 100 100 101 101 101 101 101 101\n",
      " 102 102 102 102 102 102 103 103 103 103 103 103 104 104 104 104 104 104\n",
      " 105 105 105 105 105 105 106 106 106 106 106 106 107 107 107 107 107 107\n",
      " 108 108 108 108 108 108 109 109 109 109 109 109 110 110 110 110 110 110\n",
      " 111 111 111 111 111 111 112 112 112 112 112 112 113 113 113 113 113 113\n",
      " 114 114 114 114 114 114 115 115 115 115 115 115 116 116 116 116 116 116\n",
      " 117 117 117 117 117 117 118 118 118 118 118 118 119 119 119 119 119 119\n",
      " 120 120 120 120 120 120 121 121 121 121 121 121 122 122 122 122 122 122\n",
      " 123 123 123 123 123 123 124 124 124 124 124 124 125 125 125 125 125 125\n",
      " 126 126 126 126 126 126 127 127 127 127 127 127 128 128 128 128 128 128\n",
      " 129 129 129 129 129 129 130 130 130 130 130 130 131 131 131 131 131 131\n",
      " 132 132 132 132 132 132 133 133 133 133 133 133 134 134 134 134 134 134\n",
      " 135 135 135 135 135 135 136 136 136 136 136 136 137 137 137 137 137 137\n",
      " 138 138 138 138 138 138 139 139 139 139 139 139 140 140 140 140 140 140\n",
      " 141 141 141 141 141 141 142 142 142 142 142 142 143 143 143 143 143 143\n",
      " 144 144 144 144 144 144 145 145 145 145 145 145 146 146 146 146 146 146\n",
      " 147 147 147 147 147 147 148 148 148 148 148 148 149 149 149 149 149 149\n",
      " 150 150 150 150 150 150 151 151 151 151 151 151 152 152 152 152 152 152\n",
      " 153 153 153 153 153 153 154 154 154 154 154 154 155 155 155 155 155 155\n",
      " 156 156 156 156 156 156 157 157 157 157 157 157 158 158 158 158 158 158\n",
      " 159 159 159 159 159 159 160 160 160 160 160 160 161 161 161 161 161 161\n",
      " 162 162 162 162 162 162 163 163 163 163 163 163 164 164 164 164 164 164\n",
      " 165 165 165 165 165 165 166 166 166 166 166 166 167 167 167 167 167 167\n",
      " 168 168 168 168 168 168 169 169 169 169 169 169 170 170 170 170 170 170\n",
      " 171 171 171 171 171 171 172 172 172 172 172 172 173 173 173 173 173 173\n",
      " 174 174 174 174 174 174 175 175 175 175 175 175 176 176 176 176 176 176\n",
      " 177 177 177 177 177 177 178 178 178 178 178 178 179 179 179 179 179 179]\n",
      "1080\n"
     ]
    },
    {
     "ename": "NameError",
     "evalue": "name 'steps' is not defined",
     "output_type": "error",
     "traceback": [
      "\u001b[0;31m---------------------------------------------------------------------------\u001b[0m",
      "\u001b[0;31mNameError\u001b[0m                                 Traceback (most recent call last)",
      "\u001b[0;32m<ipython-input-39-eb935dfe4537>\u001b[0m in \u001b[0;36m<module>\u001b[0;34m\u001b[0m\n\u001b[1;32m     39\u001b[0m         \u001b[0;31m#sawtooth potential\u001b[0m\u001b[0;34m\u001b[0m\u001b[0;34m\u001b[0m\u001b[0;34m\u001b[0m\u001b[0m\n\u001b[1;32m     40\u001b[0m         \u001b[0;32mpass\u001b[0m\u001b[0;34m\u001b[0m\u001b[0;34m\u001b[0m\u001b[0m\n\u001b[0;32m---> 41\u001b[0;31m     \u001b[0;32mfor\u001b[0m \u001b[0mstep\u001b[0m \u001b[0;32min\u001b[0m \u001b[0mrange\u001b[0m\u001b[0;34m(\u001b[0m\u001b[0msteps\u001b[0m\u001b[0;34m)\u001b[0m\u001b[0;34m:\u001b[0m\u001b[0;34m\u001b[0m\u001b[0;34m\u001b[0m\u001b[0m\n\u001b[0m\u001b[1;32m     42\u001b[0m         \u001b[0;31m#beveg på partiklene avhengig av sannsynligheten\u001b[0m\u001b[0;34m\u001b[0m\u001b[0;34m\u001b[0m\u001b[0;34m\u001b[0m\u001b[0m\n\u001b[1;32m     43\u001b[0m         \u001b[0;32mpass\u001b[0m\u001b[0;34m\u001b[0m\u001b[0;34m\u001b[0m\u001b[0m\n",
      "\u001b[0;31mNameError\u001b[0m: name 'steps' is not defined"
     ]
    }
   ],
   "source": [
    "import numpy as np\n",
    "#Constants\n",
    "h = 1\n",
    "k = 1 #defined for now (I am guessing that we do not know k here neither, but that can be fixed later)\n",
    "alpha = 0.8 #Defines x-positions of the teeth's peaks\n",
    "N_x = 90 #Spatial period of V_1(x)\n",
    "T_p = 500 #Time interval between excitation and de-excitation\n",
    "delta_t = 1\n",
    "betak = 1000\n",
    "N_p = 12*N_x\n",
    "\n",
    "assert(0 <= alpha <= 1)\n",
    "\n",
    "particles = np.zeros(N_p,dtype = int)\n",
    "\n",
    "def fill_particles(particles):\n",
    "    '''\n",
    "    Fills the particle array with the given position of each particle\n",
    "    '''\n",
    "    number = 0\n",
    "    for i in range(1,len(particles)+1):\n",
    "        particles[i-1] = number\n",
    "        if i%6 == 0:\n",
    "            number += 1\n",
    "\n",
    "\n",
    "time_steps = 20*T_p\n",
    "\n",
    "cycles = 10\n",
    "#Ytre løkke: Passer på cycles og avgjør potensialet\n",
    "    #Indre løkke: tar seg av time steps og teller opp antallet so, \n",
    "    #beveger seg til sidene. Kalkulerer J og lagrer i en ytre liste\n",
    "    #slik at average kan tas til slutt\n",
    "for excitation in range(2*cycles):\n",
    "    if excitation%2 == 0:\n",
    "        #V_constant(x_axis_with_particles)\n",
    "        #Constant potential\n",
    "        pass\n",
    "    else:\n",
    "        #sawtooth potential\n",
    "        pass\n",
    "    for step in range(steps):\n",
    "        #beveg på partiklene avhengig av sannsynligheten\n",
    "        pass\n",
    "        \n",
    "for t in range(time_steps+1):\n",
    "    \n",
    "  if t%T_p == 0: #partall\n",
    "    #Kjør V_1(x) på alle \n",
    "    pass\n",
    "  elif t%T_p == 1: #oddetall\n",
    "    #Kjør V_2(x) på alle\n",
    "    pass\n",
    "  #Calculate the cycle averaged current for each cycle. \n",
    "\n",
    "\n",
    "\n"
   ]
  },
  {
   "cell_type": "markdown",
   "metadata": {
    "colab_type": "text",
    "id": "pK4E0n2MjkjE"
   },
   "source": [
    "## Programming exercise 5.2"
   ]
  },
  {
   "cell_type": "code",
   "execution_count": 0,
   "metadata": {
    "colab": {},
    "colab_type": "code",
    "id": "96JIBtaBjnyw"
   },
   "outputs": [],
   "source": []
  },
  {
   "cell_type": "markdown",
   "metadata": {
    "colab_type": "text",
    "id": "g0J-mgIfjrlQ"
   },
   "source": [
    "## Programming exercise 5.3"
   ]
  },
  {
   "cell_type": "code",
   "execution_count": 0,
   "metadata": {
    "colab": {},
    "colab_type": "code",
    "id": "Acq6ZKRvjtpK"
   },
   "outputs": [],
   "source": []
  },
  {
   "cell_type": "markdown",
   "metadata": {
    "colab_type": "text",
    "id": "svhvInxKjuIr"
   },
   "source": [
    "# 6 Analytical solution"
   ]
  },
  {
   "cell_type": "code",
   "execution_count": 0,
   "metadata": {
    "colab": {},
    "colab_type": "code",
    "id": "TLj8IyvVjxNN"
   },
   "outputs": [],
   "source": []
  },
  {
   "cell_type": "markdown",
   "metadata": {
    "colab_type": "text",
    "id": "g3Vfvmn4jyub"
   },
   "source": [
    "## Programming exercise 6.1"
   ]
  },
  {
   "cell_type": "code",
   "execution_count": 0,
   "metadata": {
    "colab": {},
    "colab_type": "code",
    "id": "LLVgOW_Vj1Ph"
   },
   "outputs": [],
   "source": []
  },
  {
   "cell_type": "markdown",
   "metadata": {
    "colab_type": "text",
    "id": "qu51xVD0j1vs"
   },
   "source": [
    "## Programming exercise 6.2"
   ]
  },
  {
   "cell_type": "code",
   "execution_count": 0,
   "metadata": {
    "colab": {},
    "colab_type": "code",
    "id": "_2745GNHj3iy"
   },
   "outputs": [],
   "source": []
  },
  {
   "cell_type": "markdown",
   "metadata": {
    "colab_type": "text",
    "id": "ohawrMUcj4FB"
   },
   "source": [
    "## Programming exercise 6.3"
   ]
  },
  {
   "cell_type": "code",
   "execution_count": 0,
   "metadata": {
    "colab": {},
    "colab_type": "code",
    "id": "KfJuOWuBj5Mc"
   },
   "outputs": [],
   "source": []
  },
  {
   "cell_type": "markdown",
   "metadata": {
    "colab_type": "text",
    "id": "Xi7rUAvTj6E7"
   },
   "source": [
    "## Exercise 6.4"
   ]
  },
  {
   "cell_type": "code",
   "execution_count": 0,
   "metadata": {
    "colab": {},
    "colab_type": "code",
    "id": "MTy4rx1oj82A"
   },
   "outputs": [],
   "source": []
  }
 ],
 "metadata": {
  "colab": {
   "collapsed_sections": [],
   "name": "Vitber_prosjekt1.ipynb",
   "provenance": []
  },
  "kernelspec": {
   "display_name": "Python 3",
   "language": "python",
   "name": "python3"
  },
  "language_info": {
   "codemirror_mode": {
    "name": "ipython",
    "version": 3
   },
   "file_extension": ".py",
   "mimetype": "text/x-python",
   "name": "python",
   "nbconvert_exporter": "python",
   "pygments_lexer": "ipython3",
   "version": "3.7.6"
  }
 },
 "nbformat": 4,
 "nbformat_minor": 1
}
