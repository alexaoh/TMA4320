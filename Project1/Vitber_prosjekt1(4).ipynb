{
 "cells": [
  {
   "cell_type": "markdown",
   "metadata": {
    "colab_type": "text",
    "id": "EFrmTN4TEya5"
   },
   "source": [
    "# Exercise 3.1: \n",
    "Is it enough to insert the given solution into the equation? If not the soulution can be found by applying a Fourier transform to the diffusion equation (4K).\n",
    "Possible physical interpretaion of h(y): This represents the initial distribution of the substance, as is obvious if the solution is shown using the Fourier transform. \n",
    "\n",
    "https://wiki.math.ntnu.no/_media/tma4120/2019h/heat2018.pdf\n",
    "\n",
    "Skal vise at \n",
    "\n",
    "$\\phi(x,t) = \\frac{1}{\\sqrt{4\\pi Dt}} \\int^{+\\infty}_{-\\infty}dy\\,h(y)e^{-\\frac{(x-y)^2}{4Dt}}$\n",
    "\n",
    "Er en løsning av\n",
    "\n",
    "$\\frac{\\partial \\phi(x, t)}{\\partial t} = D\\frac{\\partial^2\\phi(x,t)}{\\partial^2x}$.\n",
    "\n",
    "Regner først ut\n",
    "\n",
    "$\\frac{\\partial \\phi(x, t)}{\\partial t} = -\\frac{1}{2} \\frac{1}{\\sqrt{4\\pi Dt}} \\frac{1}{t} \\int^{+\\infty}_{-\\infty}dy\\,h(y)e^{-\\frac{(x-y)^2}{4Dt}} + \\frac{1}{\\sqrt{4\\pi Dt}} \\frac{1}{t^2}\\int^{+\\infty}_{-\\infty}dy\\,h(y) \\, \\frac{(x-y)^2}{4D}e^{-\\frac{(x-y)^2}{4Dt}} = \\frac{1}{\\sqrt{4\\pi Dt}}(\\frac{1}{t^{2}} \\int^{+\\infty}_{-\\infty}dy\\,h(y)\\,\\frac{(x-y)^2}{4D}e^{-\\frac{(x-y)^2}{4Dt}} - \\frac{1}{2t} \\int^{+\\infty}_{-\\infty}dy\\,h(y)e^{-\\frac{(x-y)^2}{4Dt}})$.\n",
    "\n",
    "Deretter finner vi\n",
    "\n",
    "$\\frac{\\partial\\phi(x,t)}{\\partial x} = \\frac{1}{\\sqrt{4\\pi Dt}} (-\\frac{1}{4Dt}) \\int^{+\\infty}_{-\\infty}dy\\,h(y)\\,(2x-2y)e^{-\\frac{(x-y)^2}{4Dt}}$\n",
    "\n",
    "$\\implies \\frac{\\partial^2 \\phi(x,t)}{\\partial^2 x} = \\frac{1}{\\sqrt{4\\pi Dt}}\\frac{1}{4Dt}(-\\int^{+\\infty}_{-\\infty}dy\\,h(y)\\,2e^{-\\frac{(x-y)^2}{4Dt}} + \\int^{+\\infty}_{-\\infty}dy\\,h(y)\\,\\frac{(2x-2y)^2}{4Dt}e^{-\\frac{(x-y)^2}{4Dt}}) = \\frac{1}{D\\sqrt{4\\pi Dt}}(\\frac{1}{t^{2}} \\int^{+\\infty}_{-\\infty}dy\\,h(y)\\,\\frac{(x-y)^2}{4D}e^{-\\frac{(x-y)^2}{4Dt}} - \\frac{1}{2t} \\int^{+\\infty}_{-\\infty}dy\\,h(y)e^{-\\frac{(x-y)^2}{4Dt}})$.\n",
    "\n",
    "$\\implies \\frac{\\partial \\phi(x, t)}{\\partial t} = D\\frac{\\partial^2\\phi(x,t)}{\\partial^2x}$ $$\\tag*{$\\blacksquare$}$$.\n"
   ]
  },
  {
   "cell_type": "markdown",
   "metadata": {
    "colab_type": "text",
    "id": "RAo-Yc9jE33P"
   },
   "source": [
    "# Exercise 3.2:\n",
    "The probability of finding an particle in position $x$ in a potential landscape $V(x)$ is given by $P(x) = Ze^{-\\beta V(x)}$, where $Z$ is the canonical partition function of the system and $\\beta = (k_b T)^{-1}$.\n",
    "\n",
    "During a random walk the probability for a particle to move in positive direction, stay put or move in negative direction is $\\{p^{+}, p^{0}, p^{-}\\}$, and the sum of them must add up to one. That means the probabilities must satisfy the equation $p^{+} + p^{0} + p^{-} = 1$. We assume each of the probabilities are proportional to $P(x)$ and that the proportionality constant, $C$, is equal for all steps. If the position before a random walk step is $x_0$ we get $p^{+}=CP(x_0+1)$, $p^{0}=CP(x_0)$ and $p^{-}=CP(x_0-1)$. By putting these expressions in the equation above we find the constant $C=\\frac{1}{P(x_0+1)+P(x_0)+P(x_0-1)}$ \n",
    "and find the desired probabilities:\n",
    "\n",
    "$p^{+}=\\frac{P(x_0+1)}{P(x_0+1)+P(x_0)+P(x_0-1)} = \\frac{1}{1+e^{-\\beta [V(x_0-1)-V(x_0+1)]}+e^{-\\beta [V(x_0)-V(x_0+1)]}}$\n",
    "\n",
    "$p^{0}=\\frac{P(x_0)}{P(x_0+1)+P(x_0)+P(x_0-1)} = \\frac{1}{1+e^{-\\beta [V(x_0-1)-V(x_0)]}+e^{-\\beta [V(x_0+1)-V(x_0)]}}$\n",
    "\n",
    "$p^{-}=\\frac{P(x_0-1)}{P(x_0+1)+P(x_0)+P(x_0-1)} = \\frac{1}{1+e^{-\\beta [V(x_0+1)-V(x_0-1)]}+e^{-\\beta [V(x_0)-V(x_0-1)]}}$."
   ]
  },
  {
   "cell_type": "markdown",
   "metadata": {
    "colab_type": "text",
    "id": "ATCOHxDxE6As"
   },
   "source": [
    "# Exercise 3.3:\n",
    "Use the Taylor series expansion of $e = 1 + x + \\frac{x²}{2} + ...$\n",
    "\n",
    "* I would imagine that a very high temperature makes the probabilties equal. Therefore they should be $\\frac13$ each. This makes sense with the Taylor series of $e \\approx 1$ when $x<<1$.\n",
    "* When $x>>1$ the probabilites go towards zero, if I am not mistaken. \n",
    "\n",
    "How can the random walk problem be simplified using an energy scale argument in the two limits?\n",
    "* Limit 1: The difference in potentials when changing x is negligible if the temperature is very large\n",
    "* Limit 2: If the temperature is very low, the diffusion stops? Absolute zero?"
   ]
  },
  {
   "cell_type": "markdown",
   "metadata": {
    "colab_type": "text",
    "id": "__-H3RwKE6NB"
   },
   "source": [
    "# Warm-up exercises:\n",
    "* Start with 10000 particles at x = 0\n",
    "* Each particle is subject to a random walk for 200 time steps\n",
    "* Step length h = 1\n",
    "* Time step $\\Delta t = 1$\n",
    "\n",
    "Pick a random number between 0 and 1. Walk in the directions that the probabilities dictate. "
   ]
  },
  {
   "cell_type": "markdown",
   "metadata": {
    "colab_type": "text",
    "id": "PMMFlxcTFCZl"
   },
   "source": [
    "## Programming exercise 4:"
   ]
  },
  {
   "cell_type": "code",
   "execution_count": 3,
   "metadata": {
    "colab": {},
    "colab_type": "code",
    "id": "mzSF_IT9E_v1"
   },
   "outputs": [],
   "source": [
    "import numpy as np\n",
    "from scipy.stats import norm\n",
    "import matplotlib.pyplot as plt \n",
    "from math import e\n",
    "import random as rand\n",
    "from numba import jit\n",
    "\n",
    "#Lage skikkelige docstrings til alle funksjonene + sjekke at det brukes snake-case i all navngiving! (før innlevering)\n",
    "\n",
    "# Probabililities from ex. 3 \n",
    "\n",
    "@jit(nopython=True)\n",
    "def p_plus(x_0, V, beta_k):\n",
    "    return 1/(1+e**(-beta_k*(V(x_0-1)-V(x_0+1)))+e**(-beta_k*(V(x_0)-V(x_0+1))))\n",
    "\n",
    "@jit(nopython=True)\n",
    "def p_zero(x_0, V, beta_k):\n",
    "    return 1/(1+e**(-beta_k*(V(x_0-1)-V(x_0)))+e**(-beta_k*(V(x_0+1)-V(x_0))))\n",
    "\n",
    "@jit(nopython=True)\n",
    "def p_minus(x_0, V, beta_k):\n",
    "    return 1/(1+e**(-beta_k*(V(x_0+1)-V(x_0-1)))+e**(-beta_k*(V(x_0)-V(x_0-1))))\n",
    "\n",
    "#Constants for ex. 4\n",
    "time_steps = 200\n",
    "amount_of_particles = 1000  # --- skal egt ha 10 000?\n",
    "beta_k = [0.01, 1, 100] # betaAndK = one value from the list beta_k\n",
    "step_length = 1\n",
    "\n",
    "\n",
    "#Makes Result with a potential V and value betaAndK. \n",
    "@jit(nopython=True)\n",
    "def getResult(V, betaAndK):\n",
    "    init = np.zeros((amount_of_particles,), dtype=np.int64)\n",
    "    for step in range(time_steps):\n",
    "        for position in range(len(init)):\n",
    "             \n",
    "                p = np.random.uniform(0,1)\n",
    "                if p <= p_minus(init[position],V, betaAndK):\n",
    "                    init[position] -= 1\n",
    "                elif p >= (1-p_plus(init[position],V, betaAndK)):\n",
    "                    init[position] += 1\n",
    "    return init\n",
    "\n",
    "#Plotting result\n",
    "def plotResult(result):\n",
    "  y = np.zeros(((max(result)-min(result))+1,),dtype=np.int64)\n",
    "  for element in result:\n",
    "    indeks = int(element-min(result))\n",
    "    y[indeks] += 1   \n",
    "  x = np.arange(min(result), max(result)+1, 1)\n",
    "  plt.plot(x,y, label=\"Raw data\")\n",
    "  print(x,y)\n",
    "  #Får ikke til scipy.fit!\n",
    "  #mean, std = norm.fit(y)\n",
    "  #pdf = norm.pdf(y, mean, std)\n",
    "  #plt.plot(x, pdf, label=\"PDF\")\n",
    "  plt.legend()\n",
    "  plt.show()\n",
    "\n",
    "  #fig, axs = plt.subplots(1, 3, figsize=(10, 4), tight_layout=True)\n",
    "  #axs[0].plot(x,y) #example on how to plot subplots, but need to do some changes to be able to plot all three of them\n",
    "  #axs[1].plot(x,y) #Maybe hard to do in one general function like this\n",
    "  #axs[2].plot(x,y)\n",
    "  #plt.plot(x,y)\n",
    "  #####plt.plot(x, norm.pdf(y)) #use norm to fit somehow\n",
    "  #plt.show()\n",
    "\n",
    "#Burde heller plottes i subplots til senere. \n",
    "# Mangler å fitte(!) normalfordelingene + ev. diskusjon rundt resultatene. "
   ]
  },
  {
   "cell_type": "markdown",
   "metadata": {
    "colab_type": "text",
    "id": "Yg34syG7vIlX"
   },
   "source": [
    "# Programming exercise 4.1:"
   ]
  },
  {
   "cell_type": "code",
   "execution_count": 4,
   "metadata": {
    "colab": {
     "base_uri": "https://localhost:8080/",
     "height": 366
    },
    "colab_type": "code",
    "id": "OKceF6F7vODe",
    "outputId": "c097f707-c39d-4898-fe91-6751f35f5b69"
   },
   "outputs": [
    {
     "name": "stdout",
     "output_type": "stream",
     "text": [
      "[-35 -34 -33 -32 -31 -30 -29 -28 -27 -26 -25 -24 -23 -22 -21 -20 -19 -18\n",
      " -17 -16 -15 -14 -13 -12 -11 -10  -9  -8  -7  -6  -5  -4  -3  -2  -1   0\n",
      "   1   2   3   4   5   6   7   8   9  10  11  12  13  14  15  16  17  18\n",
      "  19  20  21  22  23  24  25  26  27  28  29  30  31  32  33  34] [ 2  0  1  1  0  1  1  0  2  1  1  4  4  7 13  8 13 10 13 17 14 19 16 19\n",
      " 23 25 26 30 33 18 34 24 40 34 40 35 42 33 34 26 31 28 36 20 31 25 17 15\n",
      " 13 11 13 10 14 16 11  7 10  4  5  1  6  4  0  3  2  1  0  0  0  2]\n"
     ]
    },
    {
     "data": {
      "image/png": "[encoded data removed]",
      "text/plain": [
       "<Figure size 432x288 with 1 Axes>"
      ]
     },
     "metadata": {
      "needs_background": "light"
     },
     "output_type": "display_data"
    }
   ],
   "source": [
    "# Potential number one, the constant k is with betaAndK in getResult\n",
    "@jit(nopython=True)\n",
    "def V_1(x):\n",
    "    return 1\n",
    "\n",
    "plotResult(getResult(V_1,beta_k[0]))\n",
    "#plotResult(getResult(V_1,beta_k[1]))\n",
    "#plotResult(getResult(V_1,beta_k[2]))\n",
    "## Ser at grafene til V_1 er uavh. av verdien til betaAndK, altså uavhengig av den termiske energien.\n",
    "## Det er fordi at å plusse på en konstant til en random walk prosess er bare som å øke den totale energien for alle partiklene og vil ikke endre utfallet av prosessen, men kanskje tiden det tar. \n",
    "  "
   ]
  },
  {
   "cell_type": "markdown",
   "metadata": {
    "colab_type": "text",
    "id": "5MAV0FIDFMFZ"
   },
   "source": [
    "## Programming exercise 4.2:"
   ]
  },
  {
   "cell_type": "code",
   "execution_count": 5,
   "metadata": {
    "colab": {
     "base_uri": "https://localhost:8080/",
     "height": 282
    },
    "colab_type": "code",
    "id": "kO-eZ17DFF5e",
    "outputId": "f5250ea7-ae46-4464-8dee-e99525116d26"
   },
   "outputs": [
    {
     "name": "stdout",
     "output_type": "stream",
     "text": [
      "[-200] [1000]\n"
     ]
    },
    {
     "data": {
      "image/png": "[encoded data removed]",
      "text/plain": [
       "<Figure size 432x288 with 1 Axes>"
      ]
     },
     "metadata": {
      "needs_background": "light"
     },
     "output_type": "display_data"
    }
   ],
   "source": [
    "@jit(nopython=True)\n",
    "def V_2(x):\n",
    "    return x\n",
    "\n",
    "plotResult(getResult(V_2,beta_k[2]))\n",
    "#V_2 er en odde funksjon så partiklene vil minimere sn potensielle energi ved å gå mot lav potensiale. \n",
    "#Ved betaAndK = 0.01 ser man ikke så mye pga den termiske energien er stor i forhold til potensiale.\n",
    "#Ved betaAndK = 1 ser man en sterk drifting mot venstre, altså at intensiteten av x-posisjoner er større mot venste og massepunktet forskjøvet.\n",
    "#Ved betaAndK = 100 er potensialet veldig stort i forhold til den termiske energien og alle partiklene går til posisjon -200, da for å minimere sin potensielle energi.\n"
   ]
  },
  {
   "cell_type": "markdown",
   "metadata": {
    "colab_type": "text",
    "id": "vCdSkfilFRcS"
   },
   "source": [
    "## Programming exercise 4.3:\n"
   ]
  },
  {
   "cell_type": "code",
   "execution_count": 6,
   "metadata": {
    "colab": {
     "base_uri": "https://localhost:8080/",
     "height": 282
    },
    "colab_type": "code",
    "id": "qMoSdCYNFS3s",
    "outputId": "c5b67f6a-6858-482d-e358-c8040946f1d9"
   },
   "outputs": [
    {
     "name": "stdout",
     "output_type": "stream",
     "text": [
      "[-10  -9  -8] [178 770  52]\n"
     ]
    },
    {
     "data": {
      "image/png": "[encoded data removed]",
      "text/plain": [
       "<Figure size 432x288 with 1 Axes>"
      ]
     },
     "metadata": {
      "needs_background": "light"
     },
     "output_type": "display_data"
    }
   ],
   "source": [
    "@jit(nopython=True)\n",
    "def V_3(x):\n",
    "    return ((x/20)+np.sin(x/5))\n",
    "\n",
    "plotResult(getResult(V_3,beta_k[2]))\n",
    "#Ved betaAndK = 0.01 er energien for stor og kommer seg opp av \"gropene\" i potensialet\n",
    "#Ved betaAndK = 1 faller nesten alle partiklene i første gropen i potensialfunksjonen, da fordi den termiske energien ikke er stor nok til å komme ut. \n",
    "##Såpass konsentrert at det danner ish en normalfordeling inni gropen. Er ikke veldig konsentrert i dette tilfelle\n",
    "#betaAndK = 100; Får ish 3 datapunkter der nesten alle partiklene er nøyaktig på bunnpunktet og de resterende er 1 eller 2 steglengder unna"
   ]
  },
  {
   "cell_type": "markdown",
   "metadata": {
    "colab_type": "text",
    "id": "evad1lQ8FV-K"
   },
   "source": [
    "## Programming exercise 4.4:\n"
   ]
  },
  {
   "cell_type": "code",
   "execution_count": 7,
   "metadata": {
    "colab": {
     "base_uri": "https://localhost:8080/",
     "height": 282
    },
    "colab_type": "code",
    "id": "Hj3BstrBFXrr",
    "outputId": "cf89a9eb-8327-42d5-d586-97c76aa699d9"
   },
   "outputs": [
    {
     "name": "stdout",
     "output_type": "stream",
     "text": [
      "[0] [1000]\n"
     ]
    },
    {
     "data": {
      "image/png": "[encoded data removed]",
      "text/plain": [
       "<Figure size 432x288 with 1 Axes>"
      ]
     },
     "metadata": {
      "needs_background": "light"
     },
     "output_type": "display_data"
    }
   ],
   "source": [
    "@jit(nopython=True)\n",
    "def V_4(x):\n",
    "    return x**2\n",
    "\n",
    "plotResult(getResult(V_4,beta_k[2])) \n",
    "#betaAndK = 0.01; Er en jevn-funksjon der det minimale potensiale er i x=0. Her er det litt spredning, men mer konsentrert enn ved konstant potensiale\n",
    "#betaAndK = 1; Blir bare mer og mer konentrert om x=0\n",
    "#betaAndK = 100; Blir ett punkt i x=0. Dvs. alle partiklene er i samme posisjon x=0. "
   ]
  },
  {
   "cell_type": "markdown",
   "metadata": {
    "colab_type": "text",
    "id": "Pp4AkGzjbbs4"
   },
   "source": [
    "# 5 Random walk in a ratchet potential"
   ]
  },
  {
   "cell_type": "code",
   "execution_count": 70,
   "metadata": {
    "colab": {},
    "colab_type": "code",
    "id": "krrV23y4bnRG"
   },
   "outputs": [],
   "source": [
    "@jit(nopython=True)\n",
    "def V_sawtooth(x): #V_1(x) i oppgaven\n",
    "    #assert (-(1-alpha)*2*N_x < x <= alpha*2*N_x)\n",
    "    if not (-(1-alpha)*N_x < x <= alpha*N_x): \n",
    "        x = x+N_x                #periodisk funksjon\n",
    "    if (0 < x <= alpha*N_x):\n",
    "        return x/(alpha*N_x) \n",
    "    else:\n",
    "        return -1*(x/((1-alpha)*N_x))  #Tok ut k, samme som for opg. 4 der vi slo sammen betaAndK\n",
    "\n",
    "@jit(nopython=True)  \n",
    "def V_constant(x):\n",
    "  #Constant function of x, magnitude not important. \n",
    "  #Therefore, we define it as 1\n",
    "  c = 1\n",
    "  return c\n",
    "  \n",
    "@jit(nopython=True)\n",
    "def J(n_plus,n_minus): #Normalized particle current\n",
    "    return (n_plus-n_minus)/N_p\n",
    "\n",
    "#@jit(nopython=True)\n",
    "def J_avg(current_list):\n",
    "    '''\n",
    "    Calculates the average current per cycle. \n",
    "    Returns a cycled average current. \n",
    "    '''\n",
    "    average = sum(current_list)/len(current_list)\n",
    "    \n",
    "    return average\n",
    "        "
   ]
  },
  {
   "cell_type": "markdown",
   "metadata": {
    "colab_type": "text",
    "id": "7UgQdnlQbghi"
   },
   "source": [
    "## 5.1 Programming exercise 5.1"
   ]
  },
  {
   "cell_type": "code",
   "execution_count": 73,
   "metadata": {
    "colab": {
     "base_uri": "https://localhost:8080/",
     "height": 229
    },
    "colab_type": "code",
    "id": "mazpvvnBcvtC",
    "outputId": "83b83b4e-0868-4f6d-eb31-748770ba15ab"
   },
   "outputs": [
    {
     "name": "stdout",
     "output_type": "stream",
     "text": [
      "[-12.457514814814715, -6.871189814814768, -6.205524074074144, -6.00654351851848, -7.222438888888922, -7.02775648148141, -6.573733333333333, -7.267008333333281, -6.282945370370342, -7.591124074073981]\n"
     ]
    }
   ],
   "source": [
    "#Constants\n",
    "h = 1\n",
    "alpha = 0.8 #Defines x-positions of the teeth's peaks\n",
    "T_p = 500 #Time interval between excitation and de-excitation\n",
    "delta_t = 1\n",
    "betaK = 1000\n",
    "N_x = 90  #Spatial period of V_1(x)\n",
    "N_p = 12*N_x\n",
    "cycles = 10\n",
    "jumps = 2*cycles\n",
    "#definerer \n",
    "x_first=-89          #Egt. x_0, men bruker det som variabel i alle andre funksjoner\n",
    "x_last = 90          #Er x_179, x nrummer 179\n",
    "\n",
    "@jit(nopython=True)\n",
    "def p_minus_cycle(x_0, V, beta_k): #når x_0 = -89 er x_0-1=90, periodisk x-akse\n",
    "    value = 0\n",
    "    if x_0 == x_first:\n",
    "        value = 1/(1+e**(-beta_k*(V(x_0+1)-V(x_last)))+e**(-beta_k*(V(x_0)-V(x_last))))\n",
    "    elif x_0 == x_last:\n",
    "        value = 1/(1+e**(-beta_k*(V(x_first)-V(x_0-1)))+e**(-beta_k*(V(x_0)-V(x_0-1))))\n",
    "    else:\n",
    "        value = 1/(1+e**(-beta_k*(V(x_0+1)-V(x_0-1)))+e**(-beta_k*(V(x_0)-V(x_0-1))))\n",
    "    return value\n",
    "\n",
    "@jit(nopython=True)\n",
    "def p_plus_cycle(x_0, V, beta_k): #trenger en funksjon pga. periodisk x-akse\n",
    "    value = 0\n",
    "    if x_0 == x_first:\n",
    "        value = 1/(1+e**(-beta_k*(V(x_last)-V(x_0+1)))+e**(-beta_k*(V(x_0)-V(x_0+1))))\n",
    "    elif x_0 == x_last:\n",
    "        value = 1/(1+e**(-beta_k*(V(x_0-1)-V(x_first)))+e**(-beta_k*(V(x_0)-V(x_first))))\n",
    "    else:\n",
    "        value = 1/(1+e**(-beta_k*(V(x_0-1)-V(x_0+1)))+e**(-beta_k*(V(x_0)-V(x_0+1))))\n",
    "    return value\n",
    "\n",
    "@jit(nopython=True)\n",
    "def fill_particles():\n",
    "    '''\n",
    "    Makes an array with N_p elements (particles) where each particle is evenly distributed \n",
    "    along the x-axis (has a value from -89 to 90)\n",
    "    '''\n",
    "    particles = np.zeros(N_p,dtype = np.int64)\n",
    "    number = -89\n",
    "    for i in range(1,len(particles)+1):\n",
    "        particles[i-1] = number\n",
    "        if i%6 == 0:\n",
    "            number += 1\n",
    "    return particles\n",
    "\n",
    "@jit(nopython=True)\n",
    "def getResultCurrent(V, betaAndK, init, time_steps):\n",
    "    countPos = 0\n",
    "    countNeg = 0\n",
    "    current_list_per_time_step = []\n",
    "    for step in range(time_steps):\n",
    "        for position in range(len(init)):\n",
    "            p = np.random.uniform(0,1)\n",
    "            if p <= p_minus_cycle(init[position],V, betaAndK):\n",
    "                if init[position] == x_first:\n",
    "                    init[position] = x_last\n",
    "                else:\n",
    "                    init[position] -= 1\n",
    "                    countNeg +=1\n",
    "            elif p >= (1-p_plus_cycle(init[position],V, betaAndK)):\n",
    "                if init[position] == x_last:\n",
    "                    init[position] = x_first\n",
    "                else:\n",
    "                    init[position] += 1\n",
    "                    countPos +=1\n",
    "        current_list_per_time_step.append(J(countPos, countNeg))\n",
    "\n",
    "    return init, countNeg, countPos, current_list_per_time_step\n",
    "\n",
    "#@jit(nopython=True)\n",
    "def getCurrentList(particles, V1, V2, T_p):\n",
    "  #current_list = np.array([])\n",
    "  average_currents = []\n",
    "  #countPos = 0\n",
    "  #countNeg = 0\n",
    "  for i in range(jumps):\n",
    "      if i%2 == 0:\n",
    "          particles, neg, pos, currents_per_time_step = getResultCurrent(V2,betaK,particles,T_p)\n",
    "          current_list = currents_per_time_step\n",
    "          #countPos += pos\n",
    "          #countNeg += neg\n",
    "      else:\n",
    "          particles, neg, pos, currents_per_time_step = getResultCurrent(V1,betaK,particles,T_p)\n",
    "          current_list += currents_per_time_step\n",
    "          \n",
    "          #countPos += pos\n",
    "          #countNeg += neg\n",
    "          \n",
    "          average_currents.append(J_avg(current_list))\n",
    "          #current_list = []\n",
    "  return average_currents\n",
    "\n",
    "particles = fill_particles() #List of N_p particles uniformly distributed on the 2*N_x x-axis from -89 to 90\n",
    "print(getCurrentList(particles,V_sawtooth, V_constant,T_p))\n",
    "\n",
    "\n",
    "\n"
   ]
  },
  {
   "cell_type": "markdown",
   "metadata": {
    "colab_type": "text",
    "id": "ZhSPZsSawGpb"
   },
   "source": [
    "#### Why we get non-zero currents: \n",
    "\n",
    "* The potential is not symmetric, which means that there will be a current towards one of the sides. Furthermore, "
   ]
  },
  {
   "cell_type": "markdown",
   "metadata": {
    "colab_type": "text",
    "id": "pK4E0n2MjkjE"
   },
   "source": [
    "## Programming exercise 5.2"
   ]
  },
  {
   "cell_type": "code",
   "execution_count": 0,
   "metadata": {
    "colab": {},
    "colab_type": "code",
    "id": "96JIBtaBjnyw"
   },
   "outputs": [],
   "source": []
  },
  {
   "cell_type": "markdown",
   "metadata": {
    "colab_type": "text",
    "id": "g0J-mgIfjrlQ"
   },
   "source": [
    "## Programming exercise 5.3"
   ]
  },
  {
   "cell_type": "code",
   "execution_count": 0,
   "metadata": {
    "colab": {},
    "colab_type": "code",
    "id": "Acq6ZKRvjtpK"
   },
   "outputs": [],
   "source": []
  },
  {
   "cell_type": "markdown",
   "metadata": {
    "colab_type": "text",
    "id": "svhvInxKjuIr"
   },
   "source": [
    "# 6 Analytical solution"
   ]
  },
  {
   "cell_type": "code",
   "execution_count": 0,
   "metadata": {
    "colab": {},
    "colab_type": "code",
    "id": "TLj8IyvVjxNN"
   },
   "outputs": [],
   "source": []
  },
  {
   "cell_type": "markdown",
   "metadata": {
    "colab_type": "text",
    "id": "g3Vfvmn4jyub"
   },
   "source": [
    "## Programming exercise 6.1"
   ]
  },
  {
   "cell_type": "code",
   "execution_count": 0,
   "metadata": {
    "colab": {},
    "colab_type": "code",
    "id": "LLVgOW_Vj1Ph"
   },
   "outputs": [],
   "source": []
  },
  {
   "cell_type": "markdown",
   "metadata": {
    "colab_type": "text",
    "id": "qu51xVD0j1vs"
   },
   "source": [
    "## Programming exercise 6.2"
   ]
  },
  {
   "cell_type": "code",
   "execution_count": 0,
   "metadata": {
    "colab": {},
    "colab_type": "code",
    "id": "_2745GNHj3iy"
   },
   "outputs": [],
   "source": []
  },
  {
   "cell_type": "markdown",
   "metadata": {
    "colab_type": "text",
    "id": "ohawrMUcj4FB"
   },
   "source": [
    "## Programming exercise 6.3"
   ]
  },
  {
   "cell_type": "code",
   "execution_count": 0,
   "metadata": {
    "colab": {},
    "colab_type": "code",
    "id": "KfJuOWuBj5Mc"
   },
   "outputs": [],
   "source": []
  },
  {
   "cell_type": "markdown",
   "metadata": {
    "colab_type": "text",
    "id": "Xi7rUAvTj6E7"
   },
   "source": [
    "## Exercise 6.4"
   ]
  },
  {
   "cell_type": "code",
   "execution_count": 0,
   "metadata": {
    "colab": {},
    "colab_type": "code",
    "id": "MTy4rx1oj82A"
   },
   "outputs": [],
   "source": []
  }
 ],
 "metadata": {
  "colab": {
   "collapsed_sections": [],
   "name": "Vitber_prosjekt1.ipynb",
   "provenance": []
  },
  "kernelspec": {
   "display_name": "Python 3",
   "language": "python",
   "name": "python3"
  },
  "language_info": {
   "codemirror_mode": {
    "name": "ipython",
    "version": 3
   },
   "file_extension": ".py",
   "mimetype": "text/x-python",
   "name": "python",
   "nbconvert_exporter": "python",
   "pygments_lexer": "ipython3",
   "version": "3.7.6"
  }
 },
 "nbformat": 4,
 "nbformat_minor": 1
}
