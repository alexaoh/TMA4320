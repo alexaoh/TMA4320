{
 "cells": [
  {
   "cell_type": "markdown",
   "metadata": {},
   "source": [
    "# Exercise 3.1: \n",
    "Is it enough to insert the given solution into the equation? If not the soulution can be found by applying a Fourier transform to the diffusion equation (4K).\n",
    "Possible physical interpretaion of h(y): This represents the initial distribution of the substance, as is obvious if the solution is shown using the Fourier transform. "
   ]
  },
  {
   "cell_type": "markdown",
   "metadata": {},
   "source": [
    "# Exercise 3.2:\n",
    "I tried to work this out by hand. Tried to integrate p+ from x-1 to x, p- from x+1 to x and p0 from x to x. This did not give anything usable however (I think). Can't really integrate these right now, try again later."
   ]
  },
  {
   "cell_type": "markdown",
   "metadata": {},
   "source": [
    "# Exercise 3.3:\n",
    "Use the Taylor series expansion of $e = 1 + x + \\frac{x²}{2} + ...$\n",
    "\n",
    "* I would imagine that a very high temperature makes the probabilties equal. Therefore they should be $\\frac13$ each. This makes sense with the Taylor series of $e \\approx 1$ when $x<<1$.\n",
    "* When $x>>1$ the probabilites go towards zero, if I am not mistaken. \n",
    "\n",
    "How can the random walk problem be simplified using an energy scale argument in the two limits?\n",
    "* Limit 1: The difference in potentials when changing x is negligible if the temperature is very large\n",
    "* Limit 2: If the temperature is very low, the diffusion stops? Absolute zero?"
   ]
  },
  {
   "cell_type": "markdown",
   "metadata": {},
   "source": [
    "# Warm-up exercises:\n",
    "* Start with 10000 particles at x = 0\n",
    "* Each particle is subject to a random walk for 200 time steps\n",
    "* Step length h = 1\n",
    "* Time step $\\Delta t = 1$\n",
    "\n",
    "Pick a random number between 0 and 1. Walk in the directions that the probabilities dictate. "
   ]
  },
  {
   "cell_type": "markdown",
   "metadata": {},
   "source": [
    "## Programming exercise 4.1: \n"
   ]
  },
  {
   "cell_type": "code",
   "execution_count": 12,
   "metadata": {},
   "outputs": [],
   "source": [
    "import numpy as np\n",
    "import scipy as sc # I think I might need this. \n",
    "import matplotlib.pyplot as plt \n",
    "from math import e\n",
    "\n",
    "k_b = 1.3806e-23\n",
    "T = np.linspace(0.1,100) #for example. \n",
    "# Set T to something. beta*k_b should be plotted from 0.01 to 100. Find what T should be defined as from this. \n",
    "beta = k_b*T\n",
    "\n",
    "# Probabililities: \n",
    "def p_plus(x_0, V):\n",
    "    return 1/(1+e**(-beta*(V(x_0-1)-V(x_0+1)))+e**(-beta*(V(x_0)-V(x_0+1))))\n",
    "\n",
    "def p_zero(x_0, V):\n",
    "    return 1/(1+e**(-beta*(V(x_0-1)-V(x_0)))+e**(-beta*(V(x_0+1)-V(x_0))))\n",
    "\n",
    "def p_minus(x_0, V):\n",
    "    return 1/(1+e**(-beta*(V(x_0+1)-V(x_0-1)))+e**(-beta*(V(x_0)-V(x_0-1))))\n",
    "\n",
    "# Potential \n",
    "def V_1(x,k):\n",
    "    return k;\n"
   ]
  },
  {
   "cell_type": "markdown",
   "metadata": {},
   "source": [
    "## Programming exercise 4.2:\n"
   ]
  },
  {
   "cell_type": "code",
   "execution_count": 9,
   "metadata": {},
   "outputs": [],
   "source": [
    "def V_2(x,k):\n",
    "    return k*x\n",
    "\n",
    "# Should be the same as exercise 4.1"
   ]
  },
  {
   "cell_type": "markdown",
   "metadata": {},
   "source": [
    "## Programming exercise 4.3:\n"
   ]
  },
  {
   "cell_type": "code",
   "execution_count": 10,
   "metadata": {},
   "outputs": [],
   "source": [
    "def V_3(x,k):\n",
    "    return k*((x/20)+np.sin(x/5))"
   ]
  },
  {
   "cell_type": "markdown",
   "metadata": {},
   "source": [
    "## Programming exercise 4.4:\n"
   ]
  },
  {
   "cell_type": "code",
   "execution_count": 11,
   "metadata": {},
   "outputs": [],
   "source": [
    "def V_4(x,k):\n",
    "    return k*x**2"
   ]
  }
 ],
 "metadata": {
  "kernelspec": {
   "display_name": "Python 3",
   "language": "python",
   "name": "python3"
  },
  "language_info": {
   "codemirror_mode": {
    "name": "ipython",
    "version": 3
   },
   "file_extension": ".py",
   "mimetype": "text/x-python",
   "name": "python",
   "nbconvert_exporter": "python",
   "pygments_lexer": "ipython3",
   "version": "3.7.6"
  }
 },
 "nbformat": 4,
 "nbformat_minor": 2
}
