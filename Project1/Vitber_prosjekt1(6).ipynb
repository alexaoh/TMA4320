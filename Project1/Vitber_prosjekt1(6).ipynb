{
 "cells": [
  {
   "cell_type": "markdown",
   "metadata": {
    "colab_type": "text",
    "id": "EFrmTN4TEya5"
   },
   "source": [
    "# Exercise 3.1: \n",
    "Is it enough to insert the given solution into the equation? If not the soulution can be found by applying a Fourier transform to the diffusion equation (4K).\n",
    "Possible physical interpretaion of h(y): This represents the initial distribution of the substance, as is obvious if the solution is shown using the Fourier transform. \n",
    "\n",
    "To show that \n",
    "\n",
    "$\\phi(x,t) = \\frac{1}{\\sqrt{4\\pi Dt}} \\int^{+\\infty}_{-\\infty}dy\\,h(y)e^{-\\frac{(x-y)^2}{4Dt}}$\n",
    "\n",
    "is a solution of\n",
    "\n",
    "$\\frac{\\partial \\phi(x, t)}{\\partial t} = D\\frac{\\partial^2\\phi(x,t)}{\\partial^2x}$,\n",
    "\n",
    "we first calculate\n",
    "\n",
    "$\\frac{\\partial \\phi(x, t)}{\\partial t} = -\\frac{1}{2} \\frac{1}{\\sqrt{4\\pi Dt}} \\frac{1}{t} \\int^{+\\infty}_{-\\infty}dy\\,h(y)e^{-\\frac{(x-y)^2}{4Dt}} + \\frac{1}{\\sqrt{4\\pi Dt}} \\frac{1}{t^2}\\int^{+\\infty}_{-\\infty}dy\\,h(y) \\, \\frac{(x-y)^2}{4D}e^{-\\frac{(x-y)^2}{4Dt}} = \\frac{1}{\\sqrt{4\\pi Dt}}(\\frac{1}{t^{2}} \\int^{+\\infty}_{-\\infty}dy\\,h(y)\\,\\frac{(x-y)^2}{4D}e^{-\\frac{(x-y)^2}{4Dt}} - \\frac{1}{2t} \\int^{+\\infty}_{-\\infty}dy\\,h(y)e^{-\\frac{(x-y)^2}{4Dt}})$.\n",
    "\n",
    "Then we find\n",
    "\n",
    "$\\frac{\\partial\\phi(x,t)}{\\partial x} = \\frac{1}{\\sqrt{4\\pi Dt}} (-\\frac{1}{4Dt}) \\int^{+\\infty}_{-\\infty}dy\\,h(y)\\,(2x-2y)e^{-\\frac{(x-y)^2}{4Dt}}$\n",
    "\n",
    "$\\implies \\frac{\\partial^2 \\phi(x,t)}{\\partial^2 x} = \\frac{1}{\\sqrt{4\\pi Dt}}\\frac{1}{4Dt}(-\\int^{+\\infty}_{-\\infty}dy\\,h(y)\\,2e^{-\\frac{(x-y)^2}{4Dt}} + \\int^{+\\infty}_{-\\infty}dy\\,h(y)\\,\\frac{(2x-2y)^2}{4Dt}e^{-\\frac{(x-y)^2}{4Dt}}) = \\frac{1}{D\\sqrt{4\\pi Dt}}(\\frac{1}{t^{2}} \\int^{+\\infty}_{-\\infty}dy\\,h(y)\\,\\frac{(x-y)^2}{4D}e^{-\\frac{(x-y)^2}{4Dt}} - \\frac{1}{2t} \\int^{+\\infty}_{-\\infty}dy\\,h(y)e^{-\\frac{(x-y)^2}{4Dt}})$.\n",
    "\n",
    "$\\implies \\frac{\\partial \\phi(x, t)}{\\partial t} = D\\frac{\\partial^2\\phi(x,t)}{\\partial^2x}$ $$\\tag*{$\\blacksquare$}$$.\n",
    "\n"
   ]
  },
  {
   "cell_type": "markdown",
   "metadata": {
    "colab_type": "text",
    "id": "RAo-Yc9jE33P"
   },
   "source": [
    "# Exercise 3.2:\n",
    "The probability of finding a particle in position $x$ in a potential landscape $V(x)$ is given by $P(x) = Ze^{-\\beta V(x)}$, where $Z$ is the canonical partition function of the system and $\\beta = (k_b T)^{-1}$.\n",
    "\n",
    "During a random walk the probability for a particle to move in positive direction, stay put or move in negative direction is, respectively, $\\{p^{+}, p^{0}, p^{-}\\}$, and the sum of them must add up to one. That means the probabilities must satisfy the equation $p^{+} + p^{0} + p^{-} = 1$. We assume each of the probabilities are proportional to $P(x)$ and that the proportionality constant, $C$, is equal for all steps. If the position before a random walk step is $x_0$ we get $p^{+}=CP(x_0+1)$, $p^{0}=CP(x_0)$ and $p^{-}=CP(x_0-1)$. By putting these expressions in the equation above we find the constant $C=\\frac{1}{P(x_0+1)+P(x_0)+P(x_0-1)}$ \n",
    "and find the desired probabilities:\n",
    "\n",
    "$p^{+}=\\frac{P(x_0+1)}{P(x_0+1)+P(x_0)+P(x_0-1)} = \\frac{1}{1+e^{-\\beta [V(x_0-1)-V(x_0+1)]}+e^{-\\beta [V(x_0)-V(x_0+1)]}}$\n",
    "\n",
    "$p^{0}=\\frac{P(x_0)}{P(x_0+1)+P(x_0)+P(x_0-1)} = \\frac{1}{1+e^{-\\beta [V(x_0-1)-V(x_0)]}+e^{-\\beta [V(x_0+1)-V(x_0)]}}$\n",
    "\n",
    "$p^{-}=\\frac{P(x_0-1)}{P(x_0+1)+P(x_0)+P(x_0-1)} = \\frac{1}{1+e^{-\\beta [V(x_0+1)-V(x_0-1)]}+e^{-\\beta [V(x_0)-V(x_0-1)]}}$."
   ]
  },
  {
   "cell_type": "markdown",
   "metadata": {
    "colab_type": "text",
    "id": "ATCOHxDxE6As"
   },
   "source": [
    "# Exercise 3.3:\n",
    "Use the Taylor series expansion of $e = 1 + x + \\frac{x²}{2} + ...$\n",
    "\n",
    "* I would imagine that a very high temperature makes the probabilties equal. Therefore they should be $\\frac13$ each. This makes sense with the Taylor series of $e \\approx 1$ when $x<<1$.\n",
    "* When $x>>1$ the probabilites go towards zero, if I am not mistaken. \n",
    "\n",
    "How can the random walk problem be simplified using an energy scale argument in the two limits?\n",
    "* Limit 1: The difference in potentials when changing x is negligible if the temperature is very large\n",
    "* Limit 2: If the temperature is very low, the diffusion stops? Absolute zero?"
   ]
  },
  {
   "cell_type": "markdown",
   "metadata": {
    "colab_type": "text",
    "id": "__-H3RwKE6NB"
   },
   "source": [
    "# Warm-up exercises:\n",
    "* Start with 10000 particles at x = 0\n",
    "* Each particle is subject to a random walk for 200 time steps\n",
    "* Step length h = 1\n",
    "* Time step $\\Delta t = 1$\n",
    "\n",
    "Pick a random number between 0 and 1. Walk in the directions that the probabilities dictate. "
   ]
  },
  {
   "cell_type": "markdown",
   "metadata": {
    "colab_type": "text",
    "id": "PMMFlxcTFCZl"
   },
   "source": [
    "# Programming exercise 4:"
   ]
  },
  {
   "cell_type": "code",
   "execution_count": 0,
   "metadata": {
    "colab": {},
    "colab_type": "code",
    "id": "mzSF_IT9E_v1"
   },
   "outputs": [],
   "source": [
    "import numpy as np\n",
    "from scipy.stats import norm\n",
    "import matplotlib.pyplot as plt \n",
    "from math import e\n",
    "import random as rand\n",
    "from numba import jit\n",
    "\n",
    "#Lage skikkelige docstrings til alle funksjonene + sjekke at det brukes snake-case i all navngiving! (før innlevering)\n",
    "\n",
    "# Probabililities from ex. 3 \n",
    "\n",
    "@jit(nopython=True)\n",
    "def p_plus(x_0, V, beta_k):\n",
    "    return 1/(1+e**(-beta_k*(V(x_0-1)-V(x_0+1)))+e**(-beta_k*(V(x_0)-V(x_0+1))))\n",
    "\n",
    "@jit(nopython=True)\n",
    "def p_zero(x_0, V, beta_k):\n",
    "    return 1/(1+e**(-beta_k*(V(x_0-1)-V(x_0)))+e**(-beta_k*(V(x_0+1)-V(x_0))))\n",
    "\n",
    "@jit(nopython=True)\n",
    "def p_minus(x_0, V, beta_k):\n",
    "    return 1/(1+e**(-beta_k*(V(x_0+1)-V(x_0-1)))+e**(-beta_k*(V(x_0)-V(x_0-1))))\n",
    "\n",
    "#Constants for ex. 4\n",
    "time_steps = 200\n",
    "amount_of_particles = 1000  # --- skal egt ha 10 000?\n",
    "beta_k = [0.01, 1, 100] # betaAndK = one value from the list beta_k\n",
    "step_length = 1\n",
    "\n",
    "\n",
    "#Makes Result with a potential V and value betaAndK. \n",
    "#@jit(nopython=True)\n",
    "def get_result(V, betaAndK):\n",
    "    init = np.zeros((amount_of_particles,), dtype=np.int64)\n",
    "    for step in range(time_steps):\n",
    "        for position in range(len(init)):\n",
    "             \n",
    "                p = np.random.uniform(0,1)\n",
    "                if p <= p_minus(init[position],V, betaAndK):\n",
    "                    init[position] -= 1\n",
    "                elif p > (1-p_plus(init[position],V, betaAndK)):\n",
    "                    init[position] += 1\n",
    "    return init\n",
    "\n",
    "#Plotting result\n",
    "def plot_result(result):\n",
    "  y = np.zeros(((max(result)-min(result))+1,),dtype=np.int64)\n",
    "  for element in result:\n",
    "    indeks = int(element-min(result))\n",
    "    y[indeks] += 1   \n",
    "  x = np.arange(min(result), max(result)+1, 1)\n",
    "  plt.plot(x,y, label=\"Raw data\")\n",
    "  print(x,y)\n",
    "  #Får ikke til scipy.fit!\n",
    "  #mean, std = norm.fit(y)\n",
    "  #pdf = norm.pdf(y, mean, std)\n",
    "  #plt.plot(x, pdf, label=\"PDF\")\n",
    "  plt.legend()\n",
    "  plt.show()\n",
    "\n",
    "  #fig, axs = plt.subplots(1, 3, figsize=(10, 4), tight_layout=True)\n",
    "  #axs[0].plot(x,y) #example on how to plot subplots, but need to do some changes to be able to plot all three of them\n",
    "  #axs[1].plot(x,y) #Maybe hard to do in one general function like this\n",
    "  #axs[2].plot(x,y)\n",
    "  #plt.plot(x,y)\n",
    "  #####plt.plot(x, norm.pdf(y)) #use norm to fit somehow\n",
    "  #plt.show()\n",
    "\n",
    "#Burde heller plottes i subplots til senere. \n",
    "# Mangler å fitte(!) normalfordelingene + ev. diskusjon rundt resultatene.\n",
    "def mean(data):\n",
    "    sum = 0\n",
    "    for element in data:\n",
    "        sum += element\n",
    "    return sum/len(data)\n",
    "\n",
    "def std(data):\n",
    "    sum = 0\n",
    "    mu = mean(data)\n",
    "    n = len(data)\n",
    "    for element in data:\n",
    "        sum += (element-mu)**2\n",
    "    return np.sqrt(sum/(n-1))\n",
    "\n",
    "def normal(x,mean,std):\n",
    "    return 1/(std*np.sqrt(2*np.pi)) * np.e**(-1/2 * ((x-mean)/std)**2)\n",
    "\n",
    "def plot_hist(result):\n",
    "  x = np.arange(min(result),max(result),1)\n",
    "  plt.hist(result, label=\"normalized particle intensity\")\n",
    "  plt.show()\n",
    "\n",
    "def plot_normhist(result):\n",
    "  x = np.arange(min(result),max(result),1)\n",
    "  plt.hist(result, density = True, label=\"normalized particle intensity\")\n",
    "  plt.plot(x,normal(x,mean(result),std(result)))\n",
    "  plt.show()\n",
    "  print(\"mean: \" + str(mean(result)) + \", std: \" + str(std(result)))"
   ]
  },
  {
   "cell_type": "markdown",
   "metadata": {
    "colab_type": "text",
    "id": "Yg34syG7vIlX"
   },
   "source": [
    "\n",
    "\n",
    "```\n",
    "# This is formatted as code\n",
    "```\n",
    "\n",
    "## Programming exercise 4.1:"
   ]
  },
  {
   "cell_type": "code",
   "execution_count": 27,
   "metadata": {
    "colab": {
     "base_uri": "https://localhost:8080/",
     "height": 813
    },
    "colab_type": "code",
    "id": "OKceF6F7vODe",
    "outputId": "b09f0e91-9c42-46e7-c9d8-ea2d81ed8cfa"
   },
   "outputs": [
    {
     "data": {
      "image/png": "[encoded data removed]",
      "text/plain": [
       "<Figure size 432x288 with 1 Axes>"
      ]
     },
     "metadata": {
      "tags": []
     },
     "output_type": "display_data"
    },
    {
     "name": "stdout",
     "output_type": "stream",
     "text": [
      "mean: -0.208, std: 11.702464855050138\n"
     ]
    },
    {
     "data": {
      "image/png": "[encoded data removed]",
      "text/plain": [
       "<Figure size 432x288 with 1 Axes>"
      ]
     },
     "metadata": {
      "tags": []
     },
     "output_type": "display_data"
    },
    {
     "name": "stdout",
     "output_type": "stream",
     "text": [
      "mean: 0.12, std: 11.441963053537561\n"
     ]
    },
    {
     "data": {
      "image/png": "[encoded data removed]",
      "text/plain": [
       "<Figure size 432x288 with 1 Axes>"
      ]
     },
     "metadata": {
      "tags": []
     },
     "output_type": "display_data"
    },
    {
     "name": "stdout",
     "output_type": "stream",
     "text": [
      "mean: -0.612, std: 11.044339429473972\n"
     ]
    }
   ],
   "source": [
    "# Potential number one, the constant k is with betaAndK in getResult\n",
    "@jit(nopython=True)\n",
    "def V_1(x):\n",
    "    return 1\n",
    "\n",
    "plot_normhist(get_result(V_1,beta_k[0]))\n",
    "plot_normhist(get_result(V_1,beta_k[1]))\n",
    "plot_normhist(get_result(V_1,beta_k[2]))\n",
    "## Ser at grafene til V_1 er uavh. av verdien til betaAndK, altså uavhengig av den termiske energien.\n",
    "## Det er fordi at å plusse på en konstant til en random walk prosess er bare som å øke den totale energien for alle partiklene og vil ikke endre utfallet av prosessen, men kanskje tiden det tar. \n",
    "  "
   ]
  },
  {
   "cell_type": "markdown",
   "metadata": {
    "colab_type": "text",
    "id": "kHdZD2lcnglI"
   },
   "source": [
    "### Discussion 4.1\n",
    "The resulting distribution of particles is seemingly unaffected by the ratio $\\beta k$. This is reasonable, since the potential $V$ is constant, meaning that the particles will not move in any particular direction to minimize their potential energy. We also se that the mathematical probabilites in 3.2 become $p^+ = p^0 = p^- = \\frac {1}{3}$ .\n",
    "\n",
    "Trenger mer teori fra sec. 2???"
   ]
  },
  {
   "cell_type": "markdown",
   "metadata": {
    "colab_type": "text",
    "id": "5MAV0FIDFMFZ"
   },
   "source": [
    "## Programming exercise 4.2:"
   ]
  },
  {
   "cell_type": "code",
   "execution_count": 28,
   "metadata": {
    "colab": {
     "base_uri": "https://localhost:8080/",
     "height": 830
    },
    "colab_type": "code",
    "id": "kO-eZ17DFF5e",
    "outputId": "c0323785-45d4-4461-9c01-1f0b999fb07a"
   },
   "outputs": [
    {
     "data": {
      "image/png": "[encoded data removed]",
      "text/plain": [
       "<Figure size 432x288 with 1 Axes>"
      ]
     },
     "metadata": {
      "tags": []
     },
     "output_type": "display_data"
    },
    {
     "name": "stdout",
     "output_type": "stream",
     "text": [
      "mean: -1.547, std: 11.000763964734812\n"
     ]
    },
    {
     "data": {
      "image/png": "[encoded data removed]",
      "text/plain": [
       "<Figure size 432x288 with 1 Axes>"
      ]
     },
     "metadata": {
      "tags": []
     },
     "output_type": "display_data"
    },
    {
     "name": "stdout",
     "output_type": "stream",
     "text": [
      "mean: -115.55, std: 9.682212827925484\n"
     ]
    },
    {
     "name": "stderr",
     "output_type": "stream",
     "text": [
      "/usr/local/lib/python3.6/dist-packages/ipykernel_launcher.py:86: RuntimeWarning: divide by zero encountered in double_scalars\n"
     ]
    },
    {
     "data": {
      "image/png": "[encoded data removed]",
      "text/plain": [
       "<Figure size 432x288 with 1 Axes>"
      ]
     },
     "metadata": {
      "tags": []
     },
     "output_type": "display_data"
    },
    {
     "name": "stdout",
     "output_type": "stream",
     "text": [
      "mean: -200.0, std: 0.0\n"
     ]
    }
   ],
   "source": [
    "@jit(nopython=True)\n",
    "def V_2(x):\n",
    "    return x\n",
    "\n",
    "plot_normhist(get_result(V_2,beta_k[0]))\n",
    "plot_normhist(get_result(V_2,beta_k[1]))\n",
    "plot_normhist(get_result(V_2,beta_k[2]))\n",
    "#V_2 er en odde funksjon så partiklene vil minimere sn potensielle energi ved å gå mot lav potensiale. \n",
    "#Ved betaAndK = 0.01 ser man ikke så mye pga den termiske energien er stor i forhold til potensiale.\n",
    "#Ved betaAndK = 1 ser man en sterk drifting mot venstre, altså at intensiteten av x-posisjoner er større mot venste og massepunktet forskjøvet.\n",
    "#Ved betaAndK = 100 er potensialet veldig stort i forhold til den termiske energien og alle partiklene går til posisjon -200, da for å minimere sin potensielle energi.\n"
   ]
  },
  {
   "cell_type": "markdown",
   "metadata": {
    "colab_type": "text",
    "id": "c9PJkpTgwqhJ"
   },
   "source": [
    "###Discussion 4.2"
   ]
  },
  {
   "cell_type": "markdown",
   "metadata": {
    "colab_type": "text",
    "id": "vCdSkfilFRcS"
   },
   "source": [
    "## Programming exercise 4.3:\n"
   ]
  },
  {
   "cell_type": "code",
   "execution_count": 29,
   "metadata": {
    "colab": {
     "base_uri": "https://localhost:8080/",
     "height": 761
    },
    "colab_type": "code",
    "id": "qMoSdCYNFS3s",
    "outputId": "6bfdcdff-76ab-4e39-8a04-3b5a76ead97d"
   },
   "outputs": [
    {
     "data": {
      "image/png": "[encoded data removed]",
      "text/plain": [
       "<Figure size 432x288 with 1 Axes>"
      ]
     },
     "metadata": {
      "tags": []
     },
     "output_type": "display_data"
    },
    {
     "data": {
      "image/png": "[encoded data removed]",
      "text/plain": [
       "<Figure size 432x288 with 1 Axes>"
      ]
     },
     "metadata": {
      "tags": []
     },
     "output_type": "display_data"
    },
    {
     "data": {
      "image/png": "[encoded data removed]",
      "text/plain": [
       "<Figure size 432x288 with 1 Axes>"
      ]
     },
     "metadata": {
      "tags": []
     },
     "output_type": "display_data"
    }
   ],
   "source": [
    "@jit(nopython=True)\n",
    "def V_3(x):\n",
    "    return ((x/20)+np.sin(x/5))\n",
    "\n",
    "plot_hist(get_result(V_3,beta_k[0]))\n",
    "plot_hist(get_result(V_3,beta_k[1]))\n",
    "plot_hist(get_result(V_3,beta_k[2]))\n",
    "#Ved betaAndK = 0.01 er energien for stor og kommer seg opp av \"gropene\" i potensialet\n",
    "#Ved betaAndK = 1 faller nesten alle partiklene i første gropen i potensialfunksjonen, da fordi den termiske energien ikke er stor nok til å komme ut. \n",
    "##Såpass konsentrert at det danner ish en normalfordeling inni gropen. Er ikke veldig konsentrert i dette tilfelle\n",
    "#betaAndK = 100; Får ish 3 datapunkter der nesten alle partiklene er nøyaktig på bunnpunktet og de resterende er 1 eller 2 steglengder unna\n",
    "\n",
    "#Må kjøre 200 steps for beta:k = 0.01 og så 200 steps for beta_k = 100.\n",
    "\n"
   ]
  },
  {
   "cell_type": "markdown",
   "metadata": {
    "colab_type": "text",
    "id": "YiIWgo-KxC4J"
   },
   "source": [
    "##### Discussion 4.3"
   ]
  },
  {
   "cell_type": "markdown",
   "metadata": {
    "colab_type": "text",
    "id": "evad1lQ8FV-K"
   },
   "source": [
    "## Programming exercise 4.4:\n"
   ]
  },
  {
   "cell_type": "code",
   "execution_count": 30,
   "metadata": {
    "colab": {
     "base_uri": "https://localhost:8080/",
     "height": 761
    },
    "colab_type": "code",
    "id": "Hj3BstrBFXrr",
    "outputId": "dcff6baf-7b2e-43be-8e6a-23b3538bfab6"
   },
   "outputs": [
    {
     "data": {
      "image/png": "[encoded data removed]",
      "text/plain": [
       "<Figure size 432x288 with 1 Axes>"
      ]
     },
     "metadata": {
      "tags": []
     },
     "output_type": "display_data"
    },
    {
     "data": {
      "image/png": "[encoded data removed]",
      "text/plain": [
       "<Figure size 432x288 with 1 Axes>"
      ]
     },
     "metadata": {
      "tags": []
     },
     "output_type": "display_data"
    },
    {
     "data": {
      "image/png": "[encoded data removed]",
      "text/plain": [
       "<Figure size 432x288 with 1 Axes>"
      ]
     },
     "metadata": {
      "tags": []
     },
     "output_type": "display_data"
    }
   ],
   "source": [
    "@jit(nopython=True)\n",
    "def V_4(x):\n",
    "    return x**2\n",
    "plot_hist(get_result(V_4,beta_k[0]))\n",
    "plot_hist(get_result(V_4,beta_k[1])) \n",
    "plot_hist(get_result(V_4,beta_k[2]))\n",
    "#betaAndK = 0.01; Er en jevn-funksjon der det minimale potensiale er i x=0. Her er det litt spredning, men mer konsentrert enn ved konstant potensiale\n",
    "#betaAndK = 1; Blir bare mer og mer konentrert om x=0\n",
    "#betaAndK = 100; Blir ett punkt i x=0. Dvs. alle partiklene er i samme posisjon x=0. "
   ]
  },
  {
   "cell_type": "markdown",
   "metadata": {
    "colab_type": "text",
    "id": "fI_14hROxRY1"
   },
   "source": [
    "###Discussion 4.4"
   ]
  },
  {
   "cell_type": "markdown",
   "metadata": {
    "colab_type": "text",
    "id": "Pp4AkGzjbbs4"
   },
   "source": [
    "# 5 Random walk in a ratchet potential"
   ]
  },
  {
   "cell_type": "code",
   "execution_count": 0,
   "metadata": {
    "colab": {},
    "colab_type": "code",
    "id": "krrV23y4bnRG"
   },
   "outputs": [],
   "source": [
    "@jit(nopython=True)\n",
    "def V_sawtooth(x): \n",
    "  '''\n",
    "  V_1(x) from the task-description\n",
    "  '''\n",
    "  if not (-(1-alpha)*N_x < x <= alpha*N_x): \n",
    "      x = x+N_x #periodicity of the function\n",
    "  if (0 < x <= alpha*N_x):\n",
    "      return x/(alpha*N_x) \n",
    "  else:\n",
    "      return -1*(x/((1-alpha)*N_x))  \n",
    "\n",
    "@jit(nopython=True)  \n",
    "def V_constant(x):\n",
    "  '''\n",
    "  V_2(x) from the task-description. \n",
    "  Defined constant c = 1, since the magnitude is\n",
    "  not important. \n",
    "  '''\n",
    "  c = 1\n",
    "  return c\n",
    "  \n",
    "@jit(nopython=True)\n",
    "def J(n_plus,n_minus):\n",
    "  '''\n",
    "  Normalized particle current. \n",
    "  '''\n",
    "  return (n_plus-n_minus)/N_p\n",
    "\n",
    "def J_avg(current_list):\n",
    "  '''\n",
    "  Calculates the average current per cycle. \n",
    "  Returns a cycled average current. \n",
    "  '''\n",
    "  average = sum(current_list)/len(current_list)\n",
    "  return average\n",
    "        "
   ]
  },
  {
   "cell_type": "markdown",
   "metadata": {
    "colab_type": "text",
    "id": "7UgQdnlQbghi"
   },
   "source": [
    "## 5.1 Programming exercise 5.1"
   ]
  },
  {
   "cell_type": "code",
   "execution_count": 17,
   "metadata": {
    "colab": {
     "base_uri": "https://localhost:8080/",
     "height": 54
    },
    "colab_type": "code",
    "id": "mazpvvnBcvtC",
    "outputId": "91e972a5-0e0c-483a-b383-1e33219c8351"
   },
   "outputs": [
    {
     "name": "stdout",
     "output_type": "stream",
     "text": [
      "[-0.02428611111111111, -0.014087962962962962, -0.013259259259259257, -0.014335185185185187, -0.012353703703703705, -0.012175925925925923, -0.014505555555555556, -0.013511111111111113, -0.012923148148148149, -0.014407407407407409]\n"
     ]
    }
   ],
   "source": [
    "#Constants\n",
    "h = 1\n",
    "alpha = 0.2 \n",
    "T_p = 500 \n",
    "delta_t = 1\n",
    "betaK = 1000\n",
    "N_x = 90  \n",
    "N_p = 12*N_x\n",
    "cycles = 10\n",
    "jumps = 2*cycles\n",
    "\n",
    "x_first=-89          \n",
    "x_last = 90          \n",
    "\n",
    "@jit(nopython=True)\n",
    "def p_minus_cycle(x_0, V, beta_k): \n",
    "  '''\n",
    "  p_minus as before, modified for periodic x-axis\n",
    "  '''\n",
    "  value = 0\n",
    "  if x_0 == x_first:\n",
    "      value = 1/(1+e**(-beta_k*(V(x_0+1)-V(x_last)))+e**(-beta_k*(V(x_0)-V(x_last))))\n",
    "  elif x_0 == x_last:\n",
    "      value = 1/(1+e**(-beta_k*(V(x_first)-V(x_0-1)))+e**(-beta_k*(V(x_0)-V(x_0-1))))\n",
    "  else:\n",
    "      value = 1/(1+e**(-beta_k*(V(x_0+1)-V(x_0-1)))+e**(-beta_k*(V(x_0)-V(x_0-1))))\n",
    "  return value\n",
    "\n",
    "@jit(nopython=True)\n",
    "def p_plus_cycle(x_0, V, beta_k):\n",
    "  '''\n",
    "  p_plus as before, modified for periodic x-axis\n",
    "  '''\n",
    "  value = 0\n",
    "  if x_0 == x_first:\n",
    "      value = 1/(1+e**(-beta_k*(V(x_last)-V(x_0+1)))+e**(-beta_k*(V(x_0)-V(x_0+1))))\n",
    "  elif x_0 == x_last:\n",
    "      value = 1/(1+e**(-beta_k*(V(x_0-1)-V(x_first)))+e**(-beta_k*(V(x_0)-V(x_first))))\n",
    "  else:\n",
    "      value = 1/(1+e**(-beta_k*(V(x_0-1)-V(x_0+1)))+e**(-beta_k*(V(x_0)-V(x_0+1))))\n",
    "  return value\n",
    "\n",
    "@jit(nopython=True)\n",
    "def fill_particles(x_first):\n",
    "  '''\n",
    "  Makes an array with N_p elements, evenly distributed \n",
    "  along the x-axis. Ranges from x_first to x_last. \n",
    "  '''\n",
    "  particles = np.zeros(N_p,dtype = np.int64)\n",
    "  number = x_first\n",
    "  for i in range(1,len(particles)+1):\n",
    "      particles[i-1] = number\n",
    "      if i%6 == 0:\n",
    "          number += 1\n",
    "  return particles\n",
    "\n",
    "@jit(nopython=True)\n",
    "def get_current_per_time_step(V, betaAndK, init, time_steps):\n",
    "  '''\n",
    "  Calculates currents per time step \n",
    "  Returns a list of the currents.\n",
    "  '''\n",
    "  current_list_per_time_step = []\n",
    "  for step in range(time_steps):\n",
    "      countPos = 0\n",
    "      countNeg = 0\n",
    "      for position in range(len(init)):\n",
    "          p = np.random.uniform(0,1)\n",
    "          if p <= p_minus_cycle(init[position],V, betaAndK):\n",
    "              if init[position] == x_first:\n",
    "                  init[position] = x_last\n",
    "              else:\n",
    "                  init[position] -= 1\n",
    "                  countNeg +=1\n",
    "          elif p > (1-p_plus_cycle(init[position],V, betaAndK)):\n",
    "              if init[position] == x_last:\n",
    "                  init[position] = x_first\n",
    "              else:\n",
    "                  init[position] += 1\n",
    "                  countPos +=1\n",
    "      current_list_per_time_step.append(J(countPos, countNeg))\n",
    "  return current_list_per_time_step\n",
    "\n",
    "def get_cycle_averaged_current(particles, V1, V2, T_p):\n",
    "  '''\n",
    "  Calculates the cycle-averaged currents. \n",
    "  Returns a list of the averaged currents. \n",
    "  '''\n",
    "  average_currents = []\n",
    "  for i in range(jumps):\n",
    "      if i%2 == 0:\n",
    "          currents_per_time_step = get_current_per_time_step(V2,betaK,particles,T_p)\n",
    "          current_list = currents_per_time_step\n",
    "      else:\n",
    "          currents_per_time_step = get_current_per_time_step(V1,betaK,particles,T_p)\n",
    "          current_list += currents_per_time_step\n",
    "          average_currents.append(J_avg(current_list))\n",
    "  return average_currents\n",
    "\n",
    "particles = fill_particles(x_first) \n",
    "print(get_cycle_averaged_current(particles,V_sawtooth, V_constant,T_p))"
   ]
  },
  {
   "cell_type": "markdown",
   "metadata": {
    "colab_type": "text",
    "id": "h1lpYROi1_gX"
   },
   "source": [
    "###Discussion 5.1"
   ]
  },
  {
   "cell_type": "markdown",
   "metadata": {
    "colab_type": "text",
    "id": "ZhSPZsSawGpb"
   },
   "source": [
    "* Why we get non-zero currents: \n",
    "\n",
    "The potential is not symmetric, which means that there will be a current towards one of the sides. When $\\alpha = 0.2$ the potential is \"leaning\" to the left, which is why we get currents that tend towards the left. \n",
    "\n",
    "***Needs to be explained more clearly! (better physical interpretation!)***"
   ]
  },
  {
   "cell_type": "markdown",
   "metadata": {
    "colab_type": "text",
    "id": "piNI6o5QeG9Z"
   },
   "source": [
    "* Compare $J_{avg}(0)$ with $J_{avg}(n)$ for n > 0:\n",
    "\n",
    "It is apparent that the averaged current during the first cycle is bigger than the other cycle-averaged currents. The fact that particles seek to minimize their potential energy can be used to give a physical interpretaion of this observation. The particles are the furthest from the positions of lowest potential in the beginning, when they are uniformly distributed. Therefore, they will move less during each cycle as the numberof cycles increases. Based on this, the first cycle-average current must be the largest of the bunch. However, the currents should decrease monotonically, based on the same logic. This does not happen, as we can see. This could be a result of natural motions/vibrations amongst the paerticles, since they have kinetic energy (Or just Brownian motion?).\n",
    "\n",
    "***But why don't the rest of the currents decrease monotonically? Is this a consequence of natural vibrations/motion? Temperature? Discuss!***"
   ]
  },
  {
   "cell_type": "markdown",
   "metadata": {
    "colab_type": "text",
    "id": "8LAxi1m8g2VW"
   },
   "source": [
    "* Comparison: $\\alpha = 0.2$ vs $\\alpha = 0.8$:\n",
    "\n",
    "The potential has the same shape with both these values of $\\alpha$, but the entire potential function is flipped by 180 degrees on the x-axis ***Finner ikke bedre ord for dette på engelsk akk nå!***. Therefore, it is expected that the values of the cycle-averaged currents should be equal, but with flipped signs. We can observe that this is/is not the case from the data we simulated. ***Er noe litt rart med strømmene fortsatt, da jeg får omtrent samme verdier uansett alpha (negative verdier)?!*** "
   ]
  },
  {
   "cell_type": "markdown",
   "metadata": {
    "colab_type": "text",
    "id": "pK4E0n2MjkjE"
   },
   "source": [
    "## Programming exercise 5.2"
   ]
  },
  {
   "cell_type": "code",
   "execution_count": 0,
   "metadata": {
    "colab": {},
    "colab_type": "code",
    "id": "96JIBtaBjnyw"
   },
   "outputs": [],
   "source": [
    "T_p_values = np.linspace(1,500,50)\n",
    "N_p = 40*N_x\n",
    "alpha = 0.8\n",
    "\n",
    "def reset_positioning():\n",
    "  '''\n",
    "  Places half of the elements at each of the x-coordinates \n",
    "  which coincide with the minima of V_sawtooth()\n",
    "  '''\n",
    "  particles = np.zeros(N_p,dtype = np.int64)\n",
    "  for i in range(len(particles)):\n",
    "    if i < (len(particles)/2):\n",
    "      particles[i] = 0\n",
    "    else: \n",
    "      particles[i] = 1 #Begge minimaene er vel 0?!\n",
    "  return particles\n",
    "#These tasks can be solved by generalizing the functions used in 5.1. \n",
    "#I think this is the easiest way to do it!\n"
   ]
  },
  {
   "cell_type": "markdown",
   "metadata": {
    "colab_type": "text",
    "id": "FNuHMrQjkVdW"
   },
   "source": [
    "#### Observations: \n",
    "\n"
   ]
  },
  {
   "cell_type": "markdown",
   "metadata": {
    "colab_type": "text",
    "id": "g0J-mgIfjrlQ"
   },
   "source": [
    "## Programming exercise 5.3"
   ]
  },
  {
   "cell_type": "code",
   "execution_count": 0,
   "metadata": {
    "colab": {},
    "colab_type": "code",
    "id": "Acq6ZKRvjtpK"
   },
   "outputs": [],
   "source": [
    "T_p = 500\n",
    "alpha = np.linspace(0,1,50)\n",
    "N_p = 12*N_x"
   ]
  },
  {
   "cell_type": "markdown",
   "metadata": {
    "colab_type": "text",
    "id": "kc3VQqLvs9QZ"
   },
   "source": [
    "#### Observations: "
   ]
  },
  {
   "cell_type": "markdown",
   "metadata": {
    "colab_type": "text",
    "id": "svhvInxKjuIr"
   },
   "source": [
    "# 6 Analytical solution"
   ]
  },
  {
   "cell_type": "code",
   "execution_count": 0,
   "metadata": {
    "colab": {},
    "colab_type": "code",
    "id": "TLj8IyvVjxNN"
   },
   "outputs": [],
   "source": []
  },
  {
   "cell_type": "markdown",
   "metadata": {
    "colab_type": "text",
    "id": "g3Vfvmn4jyub"
   },
   "source": [
    "## Programming exercise 6.1"
   ]
  },
  {
   "cell_type": "code",
   "execution_count": 0,
   "metadata": {
    "colab": {},
    "colab_type": "code",
    "id": "LLVgOW_Vj1Ph"
   },
   "outputs": [],
   "source": []
  },
  {
   "cell_type": "markdown",
   "metadata": {
    "colab_type": "text",
    "id": "qu51xVD0j1vs"
   },
   "source": [
    "## Programming exercise 6.2"
   ]
  },
  {
   "cell_type": "code",
   "execution_count": 0,
   "metadata": {
    "colab": {},
    "colab_type": "code",
    "id": "_2745GNHj3iy"
   },
   "outputs": [],
   "source": []
  },
  {
   "cell_type": "markdown",
   "metadata": {
    "colab_type": "text",
    "id": "ohawrMUcj4FB"
   },
   "source": [
    "## Programming exercise 6.3"
   ]
  },
  {
   "cell_type": "code",
   "execution_count": 0,
   "metadata": {
    "colab": {},
    "colab_type": "code",
    "id": "KfJuOWuBj5Mc"
   },
   "outputs": [],
   "source": []
  },
  {
   "cell_type": "markdown",
   "metadata": {
    "colab_type": "text",
    "id": "Xi7rUAvTj6E7"
   },
   "source": [
    "## Exercise 6.4"
   ]
  },
  {
   "cell_type": "code",
   "execution_count": 0,
   "metadata": {
    "colab": {},
    "colab_type": "code",
    "id": "MTy4rx1oj82A"
   },
   "outputs": [],
   "source": []
  }
 ],
 "metadata": {
  "colab": {
   "collapsed_sections": [],
   "name": "Vitber_prosjekt1.ipynb",
   "provenance": []
  },
  "kernelspec": {
   "display_name": "Python 3",
   "language": "python",
   "name": "python3"
  },
  "language_info": {
   "codemirror_mode": {
    "name": "ipython",
    "version": 3
   },
   "file_extension": ".py",
   "mimetype": "text/x-python",
   "name": "python",
   "nbconvert_exporter": "python",
   "pygments_lexer": "ipython3",
   "version": "3.7.6"
  }
 },
 "nbformat": 4,
 "nbformat_minor": 1
}
