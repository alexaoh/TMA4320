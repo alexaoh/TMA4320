{
  "nbformat": 4,
  "nbformat_minor": 0,
  "metadata": {
    "colab": {
      "name": "Vitber_prosjekt1.ipynb",
      "provenance": [],
      "collapsed_sections": []
    },
    "kernelspec": {
      "name": "python3",
      "display_name": "Python 3"
    }
  },
  "cells": [
    {
      "cell_type": "markdown",
      "metadata": {
        "id": "EFrmTN4TEya5",
        "colab_type": "text"
      },
      "source": [
        "# Exercise 3.1: \n",
        "Is it enough to insert the given solution into the equation? If not the soulution can be found by applying a Fourier transform to the diffusion equation (4K).\n",
        "Possible physical interpretaion of h(y): This represents the initial distribution of the substance, as is obvious if the solution is shown using the Fourier transform. \n",
        "\n",
        "To show that \n",
        "\n",
        "$\\phi(x,t) = \\frac{1}{\\sqrt{4\\pi Dt}} \\int^{+\\infty}_{-\\infty}dy\\,h(y)e^{-\\frac{(x-y)^2}{4Dt}}$\n",
        "\n",
        "is a solution of\n",
        "\n",
        "$\\frac{\\partial \\phi(x, t)}{\\partial t} = D\\frac{\\partial^2\\phi(x,t)}{\\partial^2x}$,\n",
        "\n",
        "we first calculate\n",
        "\n",
        "$\\frac{\\partial \\phi(x, t)}{\\partial t} = -\\frac{1}{2} \\frac{1}{\\sqrt{4\\pi Dt}} \\frac{1}{t} \\int^{+\\infty}_{-\\infty}dy\\,h(y)e^{-\\frac{(x-y)^2}{4Dt}} + \\frac{1}{\\sqrt{4\\pi Dt}} \\frac{1}{t^2}\\int^{+\\infty}_{-\\infty}dy\\,h(y) \\, \\frac{(x-y)^2}{4D}e^{-\\frac{(x-y)^2}{4Dt}} = \\frac{1}{\\sqrt{4\\pi Dt}}(\\frac{1}{t^{2}} \\int^{+\\infty}_{-\\infty}dy\\,h(y)\\,\\frac{(x-y)^2}{4D}e^{-\\frac{(x-y)^2}{4Dt}} - \\frac{1}{2t} \\int^{+\\infty}_{-\\infty}dy\\,h(y)e^{-\\frac{(x-y)^2}{4Dt}})$.\n",
        "\n",
        "Then we find\n",
        "\n",
        "$\\frac{\\partial\\phi(x,t)}{\\partial x} = \\frac{1}{\\sqrt{4\\pi Dt}} (-\\frac{1}{4Dt}) \\int^{+\\infty}_{-\\infty}dy\\,h(y)\\,(2x-2y)e^{-\\frac{(x-y)^2}{4Dt}}$\n",
        "\n",
        "$\\implies \\frac{\\partial^2 \\phi(x,t)}{\\partial^2 x} = \\frac{1}{\\sqrt{4\\pi Dt}}\\frac{1}{4Dt}(-\\int^{+\\infty}_{-\\infty}dy\\,h(y)\\,2e^{-\\frac{(x-y)^2}{4Dt}} + \\int^{+\\infty}_{-\\infty}dy\\,h(y)\\,\\frac{(2x-2y)^2}{4Dt}e^{-\\frac{(x-y)^2}{4Dt}}) = \\frac{1}{D\\sqrt{4\\pi Dt}}(\\frac{1}{t^{2}} \\int^{+\\infty}_{-\\infty}dy\\,h(y)\\,\\frac{(x-y)^2}{4D}e^{-\\frac{(x-y)^2}{4Dt}} - \\frac{1}{2t} \\int^{+\\infty}_{-\\infty}dy\\,h(y)e^{-\\frac{(x-y)^2}{4Dt}})$.\n",
        "\n",
        "$\\implies \\frac{\\partial \\phi(x, t)}{\\partial t} = D\\frac{\\partial^2\\phi(x,t)}{\\partial^2x}$ $$\\tag*{$\\blacksquare$}$$.\n",
        "\n"
      ]
    },
    {
      "cell_type": "markdown",
      "metadata": {
        "id": "RAo-Yc9jE33P",
        "colab_type": "text"
      },
      "source": [
        "# Exercise 3.2:\n",
        "The probability of finding a particle in position $x$ in a potential landscape $V(x)$ is given by $P(x) = Ze^{-\\beta V(x)}$, where $Z$ is the canonical partition function of the system and $\\beta = (k_b T)^{-1}$.\n",
        "\n",
        "During a random walk the probability for a particle to move in positive direction, stay put or move in negative direction is, respectively, $\\{p^{+}, p^{0}, p^{-}\\}$, and the sum of them must add up to one. That means the probabilities must satisfy the equation $p^{+} + p^{0} + p^{-} = 1$. We assume each of the probabilities are proportional to $P(x)$ and that the proportionality constant, $C$, is equal for all steps. If the position before a random walk step is $x_0$ we get $p^{+}=CP(x_0+1)$, $p^{0}=CP(x_0)$ and $p^{-}=CP(x_0-1)$. By putting these expressions in the equation above we find the constant $C=\\frac{1}{P(x_0+1)+P(x_0)+P(x_0-1)}$ \n",
        "and find the desired probabilities:\n",
        "\n",
        "$p^{+}=\\frac{P(x_0+1)}{P(x_0+1)+P(x_0)+P(x_0-1)} = \\frac{1}{1+e^{-\\beta [V(x_0-1)-V(x_0+1)]}+e^{-\\beta [V(x_0)-V(x_0+1)]}}$\n",
        "\n",
        "$p^{0}=\\frac{P(x_0)}{P(x_0+1)+P(x_0)+P(x_0-1)} = \\frac{1}{1+e^{-\\beta [V(x_0-1)-V(x_0)]}+e^{-\\beta [V(x_0+1)-V(x_0)]}}$\n",
        "\n",
        "$p^{-}=\\frac{P(x_0-1)}{P(x_0+1)+P(x_0)+P(x_0-1)} = \\frac{1}{1+e^{-\\beta [V(x_0+1)-V(x_0-1)]}+e^{-\\beta [V(x_0)-V(x_0-1)]}}$."
      ]
    },
    {
      "cell_type": "markdown",
      "metadata": {
        "id": "ATCOHxDxE6As",
        "colab_type": "text"
      },
      "source": [
        "# Exercise 3.3:\n",
        "Use the Taylor series expansion of $e = 1 + x + \\frac{x²}{2} + ...$\n",
        "\n",
        "* I would imagine that a very high temperature makes the probabilties equal. Therefore they should be $\\frac13$ each. This makes sense with the Taylor series of $e \\approx 1$ when $x<<1$.\n",
        "* When $x>>1$ the probabilites go towards zero, if I am not mistaken. \n",
        "\n",
        "How can the random walk problem be simplified using an energy scale argument in the two limits?\n",
        "* Limit 1: The difference in potentials when changing x is negligible if the temperature is very large\n",
        "* Limit 2: If the temperature is very low, the diffusion stops? Absolute zero?"
      ]
    },
    {
      "cell_type": "markdown",
      "metadata": {
        "id": "__-H3RwKE6NB",
        "colab_type": "text"
      },
      "source": [
        "# Warm-up exercises:\n",
        "* Start with 10000 particles at x = 0\n",
        "* Each particle is subject to a random walk for 200 time steps\n",
        "* Step length h = 1\n",
        "* Time step $\\Delta t = 1$\n",
        "\n",
        "Pick a random number between 0 and 1. Walk in the directions that the probabilities dictate. "
      ]
    },
    {
      "cell_type": "markdown",
      "metadata": {
        "id": "PMMFlxcTFCZl",
        "colab_type": "text"
      },
      "source": [
        "# Programming exercise 4:"
      ]
    },
    {
      "cell_type": "code",
      "metadata": {
        "id": "mzSF_IT9E_v1",
        "colab_type": "code",
        "colab": {}
      },
      "source": [
        "import numpy as np\n",
        "from scipy.stats import norm\n",
        "import matplotlib.pyplot as plt \n",
        "from math import e\n",
        "import random as rand\n",
        "from numba import jit\n",
        "\n",
        "#Lage skikkelige docstrings til alle funksjonene + sjekke at det brukes snake-case i all navngiving! (før innlevering)\n",
        "\n",
        "# Probabililities from ex. 3 \n",
        "\n",
        "@jit(nopython=True)\n",
        "def p_plus(x_0, V, beta_k):\n",
        "    return 1/(1+e**(-beta_k*(V(x_0-1)-V(x_0+1)))+e**(-beta_k*(V(x_0)-V(x_0+1))))\n",
        "\n",
        "@jit(nopython=True)\n",
        "def p_zero(x_0, V, beta_k):\n",
        "    return 1/(1+e**(-beta_k*(V(x_0-1)-V(x_0)))+e**(-beta_k*(V(x_0+1)-V(x_0))))\n",
        "\n",
        "@jit(nopython=True)\n",
        "def p_minus(x_0, V, beta_k):\n",
        "    return 1/(1+e**(-beta_k*(V(x_0+1)-V(x_0-1)))+e**(-beta_k*(V(x_0)-V(x_0-1))))\n",
        "\n",
        "#Constants for ex. 4\n",
        "time_steps = 200\n",
        "amount_of_particles = 1000  # --- skal egt ha 10 000?\n",
        "beta_k = [0.01, 1, 100] # betaAndK = one value from the list beta_k\n",
        "step_length = 1\n",
        "\n",
        "\n",
        "#Makes Result with a potential V and value betaAndK. \n",
        "#@jit(nopython=True)\n",
        "def get_result(V, betaAndK):\n",
        "    init = np.zeros((amount_of_particles,), dtype=np.int64)\n",
        "    for step in range(time_steps):\n",
        "        for position in range(len(init)):\n",
        "             \n",
        "                p = np.random.uniform(0,1)\n",
        "                if p <= p_minus(init[position],V, betaAndK):\n",
        "                    init[position] -= 1\n",
        "                elif p > (1-p_plus(init[position],V, betaAndK)):\n",
        "                    init[position] += 1\n",
        "    return init\n",
        "\n",
        "#Plotting result\n",
        "def plot_result(result):\n",
        "  y = np.zeros(((max(result)-min(result))+1,),dtype=np.int64)\n",
        "  for element in result:\n",
        "    indeks = int(element-min(result))\n",
        "    y[indeks] += 1   \n",
        "  x = np.arange(min(result), max(result)+1, 1)\n",
        "  plt.plot(x,y, label=\"Raw data\")\n",
        "  print(x,y)\n",
        "  #Får ikke til scipy.fit!\n",
        "  #mean, std = norm.fit(y)\n",
        "  #pdf = norm.pdf(y, mean, std)\n",
        "  #plt.plot(x, pdf, label=\"PDF\")\n",
        "  plt.legend()\n",
        "  plt.show()\n",
        "\n",
        "  #fig, axs = plt.subplots(1, 3, figsize=(10, 4), tight_layout=True)\n",
        "  #axs[0].plot(x,y) #example on how to plot subplots, but need to do some changes to be able to plot all three of them\n",
        "  #axs[1].plot(x,y) #Maybe hard to do in one general function like this\n",
        "  #axs[2].plot(x,y)\n",
        "  #plt.plot(x,y)\n",
        "  #####plt.plot(x, norm.pdf(y)) #use norm to fit somehow\n",
        "  #plt.show()\n",
        "\n",
        "#Burde heller plottes i subplots til senere. \n",
        "# Mangler å fitte(!) normalfordelingene + ev. diskusjon rundt resultatene.\n",
        "def mean(data):\n",
        "    sum = 0\n",
        "    for element in data:\n",
        "        sum += element\n",
        "    return sum/len(data)\n",
        "\n",
        "def std(data):\n",
        "    sum = 0\n",
        "    mu = mean(data)\n",
        "    n = len(data)\n",
        "    for element in data:\n",
        "        sum += (element-mu)**2\n",
        "    return np.sqrt(sum/(n-1))\n",
        "\n",
        "def normal(x,mean,std):\n",
        "    return 1/(std*np.sqrt(2*np.pi)) * np.e**(-1/2 * ((x-mean)/std)**2)\n",
        "\n",
        "def plot_hist(result):\n",
        "  x = np.arange(min(result),max(result),1)\n",
        "  plt.hist(result, label=\"normalized particle intensity\")\n",
        "  plt.show()\n",
        "\n",
        "def plot_normhist(result):\n",
        "  x = np.arange(min(result),max(result),1)\n",
        "  plt.hist(result, density = True, label=\"normalized particle intensity\")\n",
        "  plt.plot(x,normal(x,mean(result),std(result)))\n",
        "  plt.show()\n",
        "  print(\"mean: \" + str(mean(result)) + \", std: \" + str(std(result)))"
      ],
      "execution_count": 0,
      "outputs": []
    },
    {
      "cell_type": "markdown",
      "metadata": {
        "id": "Yg34syG7vIlX",
        "colab_type": "text"
      },
      "source": [
        "\n",
        "\n",
        "```\n",
        "# This is formatted as code\n",
        "```\n",
        "\n",
        "## Programming exercise 4.1:"
      ]
    },
    {
      "cell_type": "code",
      "metadata": {
        "id": "OKceF6F7vODe",
        "colab_type": "code",
        "outputId": "76793e8d-4ca5-449a-85ed-c03c3d7d6089",
        "colab": {
          "base_uri": "https://localhost:8080/",
          "height": 815
        }
      },
      "source": [
        "# Potential number one, the constant k is with betaAndK in getResult\n",
        "@jit(nopython=True)\n",
        "def V_1(x):\n",
        "    return 1\n",
        "\n",
        "plot_normhist(get_result(V_1,beta_k[0]))\n",
        "plot_normhist(get_result(V_1,beta_k[1]))\n",
        "plot_normhist(get_result(V_1,beta_k[2]))\n",
        "## Ser at grafene til V_1 er uavh. av verdien til betaAndK, altså uavhengig av den termiske energien.\n",
        "## Det er fordi at å plusse på en konstant til en random walk prosess er bare som å øke den totale energien for alle partiklene og vil ikke endre utfallet av prosessen, men kanskje tiden det tar. \n",
        "  "
      ],
      "execution_count": 0,
      "outputs": [
        {
          "output_type": "display_data",
          "data": {
            "image/png": "[encoded data removed]",
            "text/plain": [
              "<Figure size 432x288 with 1 Axes>"
            ]
          },
          "metadata": {
            "tags": []
          }
        },
        {
          "output_type": "stream",
          "text": [
            "mean: -0.016, std: 11.434005443434094\n"
          ],
          "name": "stdout"
        },
        {
          "output_type": "display_data",
          "data": {
            "image/png": "[encoded data removed]",
            "text/plain": [
              "<Figure size 432x288 with 1 Axes>"
            ]
          },
          "metadata": {
            "tags": []
          }
        },
        {
          "output_type": "stream",
          "text": [
            "mean: -0.427, std: 11.403276095302862\n"
          ],
          "name": "stdout"
        },
        {
          "output_type": "display_data",
          "data": {
            "image/png": "[encoded data removed]",
            "text/plain": [
              "<Figure size 432x288 with 1 Axes>"
            ]
          },
          "metadata": {
            "tags": []
          }
        },
        {
          "output_type": "stream",
          "text": [
            "mean: 0.078, std: 11.936347531485174\n"
          ],
          "name": "stdout"
        }
      ]
    },
    {
      "cell_type": "markdown",
      "metadata": {
        "id": "kHdZD2lcnglI",
        "colab_type": "text"
      },
      "source": [
        "### Discussion 4.1\n",
        "The resulting distribution of particles is seemingly unaffected by the ratio $\\beta k$. This is reasonable, since the potential $V$ is constant, meaning that the particles will not move in any particular direction to minimize their potential energy. We also se that the mathematical probabilites in 3.2 become $p^+ = p^0 = p^- = \\frac {1}{3}$ .\n",
        "\n",
        "Trenger mer teori fra sec. 2???"
      ]
    },
    {
      "cell_type": "markdown",
      "metadata": {
        "id": "5MAV0FIDFMFZ",
        "colab_type": "text"
      },
      "source": [
        "## Programming exercise 4.2:"
      ]
    },
    {
      "cell_type": "code",
      "metadata": {
        "id": "kO-eZ17DFF5e",
        "colab_type": "code",
        "outputId": "5053373a-5ef9-46be-b29c-059c3960b201",
        "colab": {
          "base_uri": "https://localhost:8080/",
          "height": 828
        }
      },
      "source": [
        "@jit(nopython=True)\n",
        "def V_2(x):\n",
        "    return x\n",
        "\n",
        "plot_normhist(get_result(V_2,beta_k[0]))\n",
        "plot_normhist(get_result(V_2,beta_k[1]))\n",
        "plot_normhist(get_result(V_2,beta_k[2]))\n",
        "#V_2 er en odde funksjon så partiklene vil minimere sn potensielle energi ved å gå mot lav potensiale. \n",
        "#Ved betaAndK = 0.01 ser man ikke så mye pga den termiske energien er stor i forhold til potensiale.\n",
        "#Ved betaAndK = 1 ser man en sterk drifting mot venstre, altså at intensiteten av x-posisjoner er større mot venste og massepunktet forskjøvet.\n",
        "#Ved betaAndK = 100 er potensialet veldig stort i forhold til den termiske energien og alle partiklene går til posisjon -200, da for å minimere sin potensielle energi.\n"
      ],
      "execution_count": 0,
      "outputs": [
        {
          "output_type": "display_data",
          "data": {
            "image/png": "[encoded data removed]",
            "text/plain": [
              "<Figure size 432x288 with 1 Axes>"
            ]
          },
          "metadata": {
            "tags": []
          }
        },
        {
          "output_type": "stream",
          "text": [
            "mean: -1.429, std: 11.349086340351846\n"
          ],
          "name": "stdout"
        },
        {
          "output_type": "display_data",
          "data": {
            "image/png": "[encoded data removed]",
            "text/plain": [
              "<Figure size 432x288 with 1 Axes>"
            ]
          },
          "metadata": {
            "tags": []
          }
        },
        {
          "output_type": "stream",
          "text": [
            "mean: -115.236, std: 9.214293635825124\n"
          ],
          "name": "stdout"
        },
        {
          "output_type": "stream",
          "text": [
            "/usr/local/lib/python3.6/dist-packages/ipykernel_launcher.py:86: RuntimeWarning: divide by zero encountered in double_scalars\n"
          ],
          "name": "stderr"
        },
        {
          "output_type": "display_data",
          "data": {
            "image/png": "[encoded data removed]",
            "text/plain": [
              "<Figure size 432x288 with 1 Axes>"
            ]
          },
          "metadata": {
            "tags": []
          }
        },
        {
          "output_type": "stream",
          "text": [
            "mean: -200.0, std: 0.0\n"
          ],
          "name": "stdout"
        }
      ]
    },
    {
      "cell_type": "markdown",
      "metadata": {
        "id": "c9PJkpTgwqhJ",
        "colab_type": "text"
      },
      "source": [
        "###Discussion 4.2"
      ]
    },
    {
      "cell_type": "markdown",
      "metadata": {
        "id": "vCdSkfilFRcS",
        "colab_type": "text"
      },
      "source": [
        "## Programming exercise 4.3:\n"
      ]
    },
    {
      "cell_type": "code",
      "metadata": {
        "id": "qMoSdCYNFS3s",
        "colab_type": "code",
        "outputId": "5f86482b-7cdf-4f62-bcd3-9c6c3ce76192",
        "colab": {
          "base_uri": "https://localhost:8080/",
          "height": 768
        }
      },
      "source": [
        "@jit(nopython=True)\n",
        "def V_3(x):\n",
        "    return ((x/20)+np.sin(x/5))\n",
        "\n",
        "plot_hist(get_result(V_3,beta_k[0]))\n",
        "plot_hist(get_result(V_3,beta_k[1]))\n",
        "plot_hist(get_result(V_3,beta_k[2]))\n",
        "#Ved betaAndK = 0.01 er energien for stor og kommer seg opp av \"gropene\" i potensialet\n",
        "#Ved betaAndK = 1 faller nesten alle partiklene i første gropen i potensialfunksjonen, da fordi den termiske energien ikke er stor nok til å komme ut. \n",
        "##Såpass konsentrert at det danner ish en normalfordeling inni gropen. Er ikke veldig konsentrert i dette tilfelle\n",
        "#betaAndK = 100; Får ish 3 datapunkter der nesten alle partiklene er nøyaktig på bunnpunktet og de resterende er 1 eller 2 steglengder unna\n",
        "\n",
        "#Må kjøre 200 steps for beta:k = 0.01 og så 200 steps for beta_k = 100.\n",
        "\n"
      ],
      "execution_count": 0,
      "outputs": [
        {
          "output_type": "display_data",
          "data": {
            "image/png": "[encoded data removed]",
            "text/plain": [
              "<Figure size 432x288 with 1 Axes>"
            ]
          },
          "metadata": {
            "tags": []
          }
        },
        {
          "output_type": "display_data",
          "data": {
            "image/png": "[encoded data removed]",
            "text/plain": [
              "<Figure size 432x288 with 1 Axes>"
            ]
          },
          "metadata": {
            "tags": []
          }
        },
        {
          "output_type": "display_data",
          "data": {
            "image/png": "[encoded data removed]",
            "text/plain": [
              "<Figure size 432x288 with 1 Axes>"
            ]
          },
          "metadata": {
            "tags": []
          }
        }
      ]
    },
    {
      "cell_type": "markdown",
      "metadata": {
        "id": "YiIWgo-KxC4J",
        "colab_type": "text"
      },
      "source": [
        "##### Discussion 4.3"
      ]
    },
    {
      "cell_type": "markdown",
      "metadata": {
        "id": "evad1lQ8FV-K",
        "colab_type": "text"
      },
      "source": [
        "## Programming exercise 4.4:\n"
      ]
    },
    {
      "cell_type": "code",
      "metadata": {
        "id": "Hj3BstrBFXrr",
        "colab_type": "code",
        "outputId": "faa590e8-1083-4909-e2d0-2b099a6cc7dd",
        "colab": {
          "base_uri": "https://localhost:8080/",
          "height": 761
        }
      },
      "source": [
        "@jit(nopython=True)\n",
        "def V_4(x):\n",
        "    return x**2\n",
        "plot_hist(get_result(V_4,beta_k[0]))\n",
        "plot_hist(get_result(V_4,beta_k[1])) \n",
        "plot_hist(get_result(V_4,beta_k[2]))\n",
        "#betaAndK = 0.01; Er en jevn-funksjon der det minimale potensiale er i x=0. Her er det litt spredning, men mer konsentrert enn ved konstant potensiale\n",
        "#betaAndK = 1; Blir bare mer og mer konentrert om x=0\n",
        "#betaAndK = 100; Blir ett punkt i x=0. Dvs. alle partiklene er i samme posisjon x=0. "
      ],
      "execution_count": 0,
      "outputs": [
        {
          "output_type": "display_data",
          "data": {
            "image/png": "[encoded data removed]",
            "text/plain": [
              "<Figure size 432x288 with 1 Axes>"
            ]
          },
          "metadata": {
            "tags": []
          }
        },
        {
          "output_type": "display_data",
          "data": {
            "image/png": "[encoded data removed]",
            "text/plain": [
              "<Figure size 432x288 with 1 Axes>"
            ]
          },
          "metadata": {
            "tags": []
          }
        },
        {
          "output_type": "display_data",
          "data": {
            "image/png": "[encoded data removed]",
            "text/plain": [
              "<Figure size 432x288 with 1 Axes>"
            ]
          },
          "metadata": {
            "tags": []
          }
        }
      ]
    },
    {
      "cell_type": "markdown",
      "metadata": {
        "id": "fI_14hROxRY1",
        "colab_type": "text"
      },
      "source": [
        "###Discussion 4.4"
      ]
    },
    {
      "cell_type": "markdown",
      "metadata": {
        "id": "Pp4AkGzjbbs4",
        "colab_type": "text"
      },
      "source": [
        "# 5 Random walk in a ratchet potential"
      ]
    },
    {
      "cell_type": "code",
      "metadata": {
        "id": "krrV23y4bnRG",
        "colab_type": "code",
        "colab": {}
      },
      "source": [
        "@jit(nopython=True)\n",
        "def V_sawtooth(x): \n",
        "  '''\n",
        "  V_1(x) from the task-description\n",
        "  '''\n",
        "  if not (-(1-alpha)*N_x < x <= alpha*N_x): \n",
        "      x = x+N_x #periodicity of the function\n",
        "  if (0 < x <= alpha*N_x):\n",
        "      return x/(alpha*N_x) \n",
        "  else:\n",
        "      return -1*(x/((1-alpha)*N_x))  \n",
        "\n",
        "@jit(nopython=True)  \n",
        "def V_constant(x):\n",
        "  '''\n",
        "  V_2(x) from the task-description. \n",
        "  Defined constant c = 1, since the magnitude is\n",
        "  not important. \n",
        "  '''\n",
        "  c = 1\n",
        "  return c\n",
        "  \n",
        "@jit(nopython=True)\n",
        "def J(n_plus,n_minus):\n",
        "  '''\n",
        "  Normalized particle current. \n",
        "  '''\n",
        "  return (n_plus-n_minus)/N_p\n",
        "\n",
        "def J_avg(current_list):\n",
        "  '''\n",
        "  Calculates the average current per cycle. \n",
        "  Returns a cycled average current. \n",
        "  '''\n",
        "  average = sum(current_list)/len(current_list)\n",
        "  return average\n",
        "        "
      ],
      "execution_count": 0,
      "outputs": []
    },
    {
      "cell_type": "markdown",
      "metadata": {
        "id": "7UgQdnlQbghi",
        "colab_type": "text"
      },
      "source": [
        "## 5.1 Programming exercise 5.1"
      ]
    },
    {
      "cell_type": "code",
      "metadata": {
        "id": "mazpvvnBcvtC",
        "colab_type": "code",
        "outputId": "6821edcf-065f-416b-f757-aa480cf4b90b",
        "colab": {
          "base_uri": "https://localhost:8080/",
          "height": 54
        }
      },
      "source": [
        "#Constants\n",
        "h = 1\n",
        "alpha = 0.8\n",
        "T_p = 500 \n",
        "delta_t = 1\n",
        "betaK = 1000\n",
        "N_x = 90  \n",
        "N_p = 12*N_x\n",
        "cycles = 10\n",
        "jumps = 2*cycles\n",
        "\n",
        "x_first=-89          \n",
        "x_last = 90          \n",
        "\n",
        "@jit(nopython=True)\n",
        "def p_minus_cycle(x_0, V, beta_k): \n",
        "  '''\n",
        "  p_minus as before, modified for periodic x-axis\n",
        "  '''\n",
        "  value = 0\n",
        "  if x_0 == x_first:\n",
        "      value = 1/(1+e**(-beta_k*(V(x_0+1)-V(x_last)))+e**(-beta_k*(V(x_0)-V(x_last))))\n",
        "  elif x_0 == x_last:\n",
        "      value = 1/(1+e**(-beta_k*(V(x_first)-V(x_0-1)))+e**(-beta_k*(V(x_0)-V(x_0-1))))\n",
        "  else:\n",
        "      value = 1/(1+e**(-beta_k*(V(x_0+1)-V(x_0-1)))+e**(-beta_k*(V(x_0)-V(x_0-1))))\n",
        "  return value\n",
        "\n",
        "@jit(nopython=True)\n",
        "def p_plus_cycle(x_0, V, beta_k):\n",
        "  '''\n",
        "  p_plus as before, modified for periodic x-axis\n",
        "  '''\n",
        "  value = 0\n",
        "  if x_0 == x_first:\n",
        "      value = 1/(1+e**(-beta_k*(V(x_last)-V(x_0+1)))+e**(-beta_k*(V(x_0)-V(x_0+1))))\n",
        "  elif x_0 == x_last:\n",
        "      value = 1/(1+e**(-beta_k*(V(x_0-1)-V(x_first)))+e**(-beta_k*(V(x_0)-V(x_first))))\n",
        "  else:\n",
        "      value = 1/(1+e**(-beta_k*(V(x_0-1)-V(x_0+1)))+e**(-beta_k*(V(x_0)-V(x_0+1))))\n",
        "  return value\n",
        "\n",
        "@jit(nopython=True)\n",
        "def fill_particles(x_first):\n",
        "  '''\n",
        "  Makes an array with N_p elements, evenly distributed \n",
        "  along the x-axis. Ranges from x_first to x_last. \n",
        "  '''\n",
        "  particles = np.zeros(N_p,dtype = np.int64)\n",
        "  number = x_first\n",
        "  for i in range(1,len(particles)+1):\n",
        "      particles[i-1] = number\n",
        "      if i%6 == 0:\n",
        "          number += 1\n",
        "  return particles\n",
        "\n",
        "@jit(nopython=True)\n",
        "def get_current_per_time_step(V, init, time_steps):\n",
        "  '''\n",
        "  Calculates currents per time step \n",
        "  Returns a list of the currents.\n",
        "  '''\n",
        "  current_list_per_time_step = []\n",
        "  for step in range(time_steps):\n",
        "      countPos = 0\n",
        "      countNeg = 0\n",
        "      for position in range(len(init)):\n",
        "          p = np.random.uniform(0,1)\n",
        "          if p <= p_minus_cycle(init[position],V, betaK):\n",
        "              if init[position] == x_first:\n",
        "                  init[position] = x_last\n",
        "              else:\n",
        "                  init[position] -= 1\n",
        "              countNeg +=1\n",
        "          elif p > (1-p_plus_cycle(init[position],V, betaK)):\n",
        "              if init[position] == x_last:\n",
        "                  init[position] = x_first\n",
        "              else:\n",
        "                  init[position] += 1\n",
        "              countPos +=1\n",
        "      current_list_per_time_step.append(J(countPos, countNeg))\n",
        "  return current_list_per_time_step\n",
        "\n",
        "def get_cycle_averaged_current(particles, V1, V2, T_p, jumps):\n",
        "  '''\n",
        "  Calculates the cycle-averaged currents. \n",
        "  Returns a list of the averaged currents. \n",
        "  '''\n",
        "  average_currents = []\n",
        "  for i in range(jumps):\n",
        "      if i%2 == 0:\n",
        "          currents_per_time_step = get_current_per_time_step(V2,particles,T_p)\n",
        "          current_list = currents_per_time_step\n",
        "      else:\n",
        "          currents_per_time_step = get_current_per_time_step(V1,particles,T_p)\n",
        "          current_list += currents_per_time_step\n",
        "          average_currents.append(J_avg(current_list))\n",
        "  return average_currents\n",
        "\n",
        "particles = fill_particles(x_first) \n",
        "print(get_cycle_averaged_current(particles,V_sawtooth, V_constant,T_p, jumps))"
      ],
      "execution_count": 0,
      "outputs": [
        {
          "output_type": "stream",
          "text": [
            "[-0.026416666666666665, -0.013333333333333334, -0.012666666666666666, -0.013333333333333332, -0.012916666666666665, -0.014499999999999997, -0.015333333333333336, -0.01433333333333333, -0.012666666666666666, -0.014833333333333327]\n"
          ],
          "name": "stdout"
        }
      ]
    },
    {
      "cell_type": "markdown",
      "metadata": {
        "id": "h1lpYROi1_gX",
        "colab_type": "text"
      },
      "source": [
        "###Discussion 5.1"
      ]
    },
    {
      "cell_type": "markdown",
      "metadata": {
        "id": "ZhSPZsSawGpb",
        "colab_type": "text"
      },
      "source": [
        "* Why we get non-zero currents: \n",
        "\n",
        "The potential is not symmetric, which means that there will be a current towards one of the sides. When $\\alpha = 0.2$ the potential is \"leaning\" to the left, which is why we get currents that tend towards the left. \n",
        "\n",
        "***Needs to be explained more clearly! (better physical interpretation!)***"
      ]
    },
    {
      "cell_type": "markdown",
      "metadata": {
        "id": "piNI6o5QeG9Z",
        "colab_type": "text"
      },
      "source": [
        "* Compare $J_{avg}(0)$ with $J_{avg}(n)$ for n > 0:\n",
        "\n",
        "It is apparent that the averaged current during the first cycle is bigger than the other cycle-averaged currents. The fact that particles seek to minimize their potential energy can be used to give a physical interpretaion of this observation. The particles are the furthest from the positions of lowest potential in the beginning, when they are uniformly distributed. Therefore, they will move less during each cycle as the numberof cycles increases. Based on this, the first cycle-average current must be the largest of the bunch. However, the currents should decrease monotonically, based on the same logic. This does not happen, as we can see. This could be a result of natural motions/vibrations amongst the paerticles, since they have kinetic energy (Or just Brownian motion?).\n",
        "\n",
        "***But why don't the rest of the currents decrease monotonically? Is this a consequence of natural vibrations/motion? Temperature? Discuss!***"
      ]
    },
    {
      "cell_type": "markdown",
      "metadata": {
        "id": "8LAxi1m8g2VW",
        "colab_type": "text"
      },
      "source": [
        "* Comparison: $\\alpha = 0.2$ vs $\\alpha = 0.8$:\n",
        "\n",
        "The potential has the same shape with both these values of $\\alpha$, but the entire potential function is flipped by 180 degrees on the x-axis ***Finner ikke bedre ord for dette på engelsk akk nå!***. Therefore, it is expected that the values of the cycle-averaged currents should be equal, but with flipped signs. We can observe that this is/is not the case from the data we simulated. ***Er noe litt rart med strømmene fortsatt, da jeg får omtrent samme verdier uansett alpha (negative verdier)?!*** "
      ]
    },
    {
      "cell_type": "markdown",
      "metadata": {
        "id": "pK4E0n2MjkjE",
        "colab_type": "text"
      },
      "source": [
        "## Programming exercise 5.2"
      ]
    },
    {
      "cell_type": "markdown",
      "metadata": {
        "id": "w-MZhhhbPvRl",
        "colab_type": "text"
      },
      "source": [
        "The two x-coordinates which coincide with the minima of $V_1(x)$ must be $x = 0$ and $x = 0 + nN_x$, since it is periodic. The part of $V_1(x)$ which lies within $0 < x \\leq \\alpha N_x$ is a rising function, which means that it's minima is when $x$ is the smallest $\\Rightarrow$ $x = 0$.The other part of $V_1(x)$ is a descending function, which means that it's minima is at the highest possible $x$ value in the interval $\\Rightarrow$ x = 0. However, since the potential is periodic, we have one more minima at $x = N_x$. "
      ]
    },
    {
      "cell_type": "code",
      "metadata": {
        "id": "96JIBtaBjnyw",
        "colab_type": "code",
        "outputId": "f4b31054-e021-4275-8850-571a6ae244b3",
        "colab": {
          "base_uri": "https://localhost:8080/",
          "height": 302
        }
      },
      "source": [
        "def reset_positioning():\n",
        "  '''\n",
        "  Places half of the elements at each of the x-coordinates \n",
        "  which coincide with the minima of V_sawtooth()\n",
        "  '''\n",
        "  particles = np.zeros(N_p,dtype = np.int64)\n",
        "  for i in range(len(particles)):\n",
        "    if i < (len(particles)/2):\n",
        "      particles[i] = 0\n",
        "    else: \n",
        "      particles[i] = N_x \n",
        "  return particles\n",
        "\n",
        "\n",
        "T_p_values = np.linspace(1,500,50)\n",
        "N_p = 40*N_x\n",
        "alpha = 0.8\n",
        "cycles = 1\n",
        "\n",
        "\n",
        "average_currents = []\n",
        "for T_p_index in range(1, len(T_p_values) + 1):\n",
        "  particles = reset_positioning()\n",
        "  average_currents += get_cycle_averaged_current(particles, V_sawtooth, V_constant, T_p_index, 2*cycles)\n",
        "print(average_currents)\n",
        "\n",
        "plt.plot(T_p_values, average_currents)\n",
        "plt.show()\n",
        "    "
      ],
      "execution_count": 0,
      "outputs": [
        {
          "output_type": "stream",
          "text": [
            "[0.0, 8.673617379884035e-19, -5.782411586589357e-19, 3.903127820947816e-18, -8.673617379884035e-19, -2.168404344971009e-19, -5.8856689363498815e-19, 2.710505431213761e-19, -8.673617379884035e-19, -1.4094628242311558e-18, -1.931851143701444e-18, -3.614007241618348e-20, -7.506015040284262e-19, -7.279643158116958e-19, 1.590163186312073e-19, 2.019326546254252e-18, -3.0612767223120127e-19, 2.529805069132844e-19, -3.4237963341647507e-20, -4.445228907190568e-19, -5.059610138265688e-19, -6.209521533326071e-19, 4.0539733405979733e-19, -1.8070036208091741e-19, 8.673617379884036e-21, 1.5929431918825487e-18, -6.987080667128807e-19, -6.195440985631454e-20, -2.295517703124482e-18, 3.830847676115449e-19, 4.196911635427759e-19, -6.301925127571995e-19, 2.5626596804202832e-18, -9.438936560462038e-19, -1.6727690661204926e-19, 3.3730734255104583e-19, -1.4065325480893031e-19, -0.0006944444444444478, -0.0006885090218423561, 1.1438332919722073e-18, -0.0006662149954832888, 1.1358308473657666e-19, -0.002045650301464253, 5.026755526978248e-19, -0.0006687242798353925, -0.0013184380032206123, 1.559405677872768e-18, -0.0012924382716049398, -0.0019463340891912307, -0.0020092592592592566]\n"
          ],
          "name": "stdout"
        },
        {
          "output_type": "display_data",
          "data": {
            "image/png": "[encoded data removed]",
            "text/plain": [
              "<Figure size 432x288 with 1 Axes>"
            ]
          },
          "metadata": {
            "tags": []
          }
        }
      ]
    },
    {
      "cell_type": "markdown",
      "metadata": {
        "id": "FNuHMrQjkVdW",
        "colab_type": "text"
      },
      "source": [
        "#### Observations: \n",
        "\n"
      ]
    },
    {
      "cell_type": "markdown",
      "metadata": {
        "id": "g0J-mgIfjrlQ",
        "colab_type": "text"
      },
      "source": [
        "## Programming exercise 5.3"
      ]
    },
    {
      "cell_type": "code",
      "metadata": {
        "id": "Acq6ZKRvjtpK",
        "colab_type": "code",
        "outputId": "39e2c58a-7447-493c-c28a-47632f0e9f3c",
        "colab": {
          "base_uri": "https://localhost:8080/",
          "height": 1000
        }
      },
      "source": [
        "T_p = 500\n",
        "alpha_values = np.linspace(0,1,50)\n",
        "N_p = 12*N_x\n",
        "\n",
        "\n",
        "average_currents = []\n",
        "for alphay in alpha_values:\n",
        "  global alpha #Unsure if this works!\n",
        "  alpha = alphay\n",
        "  particles = reset_positioning()\n",
        "  #Need to make alpha change in each of these function calls!\n",
        "  average_currents += get_cycle_averaged_current(particles, V_sawtooth, V_constant, T_p, 2*cycles)\n",
        "print(average_currents)\n",
        "\n",
        "plt.plot(alpha_values, average_currents)\n",
        "plt.show()"
      ],
      "execution_count": 0,
      "outputs": [
        {
          "output_type": "stream",
          "text": [
            "0.0\n",
            "0.02040816326530612\n",
            "0.04081632653061224\n",
            "0.061224489795918366\n",
            "0.08163265306122448\n",
            "0.1020408163265306\n",
            "0.12244897959183673\n",
            "0.14285714285714285\n",
            "0.16326530612244897\n",
            "0.18367346938775508\n",
            "0.2040816326530612\n",
            "0.22448979591836732\n",
            "0.24489795918367346\n",
            "0.26530612244897955\n",
            "0.2857142857142857\n",
            "0.3061224489795918\n",
            "0.32653061224489793\n",
            "0.3469387755102041\n",
            "0.36734693877551017\n",
            "0.3877551020408163\n",
            "0.4081632653061224\n",
            "0.42857142857142855\n",
            "0.44897959183673464\n",
            "0.4693877551020408\n",
            "0.4897959183673469\n",
            "0.5102040816326531\n",
            "0.5306122448979591\n",
            "0.5510204081632653\n",
            "0.5714285714285714\n",
            "0.5918367346938775\n",
            "0.6122448979591836\n",
            "0.6326530612244897\n",
            "0.6530612244897959\n",
            "0.673469387755102\n",
            "0.6938775510204082\n",
            "0.7142857142857142\n",
            "0.7346938775510203\n",
            "0.7551020408163265\n",
            "0.7755102040816326\n",
            "0.7959183673469387\n",
            "0.8163265306122448\n",
            "0.836734693877551\n",
            "0.8571428571428571\n",
            "0.8775510204081632\n",
            "0.8979591836734693\n",
            "0.9183673469387754\n",
            "0.9387755102040816\n",
            "0.9591836734693877\n",
            "0.9795918367346939\n",
            "1.0\n",
            "[-0.01458333333333334, -0.013083333333333334, -0.01591666666666667, -0.013999999999999995, -0.014000000000000002, -0.013666666666666666, -0.014166666666666666, -0.014000000000000002, -0.013916666666666671, -0.013166666666666658, -0.013166666666666662, -0.014249999999999997, -0.013499999999999998, -0.012666666666666668, -0.015416666666666664, -0.01333333333333333, -0.011666666666666659, -0.012666666666666668, -0.015083333333333336, -0.014333333333333335, -0.013166666666666662, -0.015500000000000002, -0.013416666666666665, -0.01375, -0.013500000000000005, -0.014666666666666666, -0.015416666666666669, -0.013999999999999995, -0.01608333333333333, -0.014833333333333334, -0.013916666666666662, -0.013416666666666667, -0.014833333333333332, -0.014416666666666666, -0.012583333333333332, -0.014083333333333338, -0.015499999999999998, -0.014333333333333335, -0.013083333333333337, -0.01566666666666667, -0.014500000000000002, -0.013166666666666662, -0.013583333333333331, -0.01441666666666666, -0.014166666666666671, -0.013916666666666667, -0.012999999999999998, -0.013500000000000009, -0.012, -0.01433333333333333]\n"
          ],
          "name": "stdout"
        },
        {
          "output_type": "display_data",
          "data": {
            "image/png": "[encoded data removed]",
            "text/plain": [
              "<Figure size 432x288 with 1 Axes>"
            ]
          },
          "metadata": {
            "tags": []
          }
        }
      ]
    },
    {
      "cell_type": "markdown",
      "metadata": {
        "id": "kc3VQqLvs9QZ",
        "colab_type": "text"
      },
      "source": [
        "#### Observations: "
      ]
    },
    {
      "cell_type": "markdown",
      "metadata": {
        "id": "svhvInxKjuIr",
        "colab_type": "text"
      },
      "source": [
        "# 6 Analytical solution"
      ]
    },
    {
      "cell_type": "code",
      "metadata": {
        "id": "TLj8IyvVjxNN",
        "colab_type": "code",
        "colab": {}
      },
      "source": [
        ""
      ],
      "execution_count": 0,
      "outputs": []
    },
    {
      "cell_type": "markdown",
      "metadata": {
        "id": "g3Vfvmn4jyub",
        "colab_type": "text"
      },
      "source": [
        "## Programming exercise 6.1"
      ]
    },
    {
      "cell_type": "code",
      "metadata": {
        "id": "LLVgOW_Vj1Ph",
        "colab_type": "code",
        "colab": {}
      },
      "source": [
        ""
      ],
      "execution_count": 0,
      "outputs": []
    },
    {
      "cell_type": "markdown",
      "metadata": {
        "id": "qu51xVD0j1vs",
        "colab_type": "text"
      },
      "source": [
        "## Programming exercise 6.2"
      ]
    },
    {
      "cell_type": "code",
      "metadata": {
        "id": "_2745GNHj3iy",
        "colab_type": "code",
        "colab": {}
      },
      "source": [
        ""
      ],
      "execution_count": 0,
      "outputs": []
    },
    {
      "cell_type": "markdown",
      "metadata": {
        "id": "ohawrMUcj4FB",
        "colab_type": "text"
      },
      "source": [
        "## Programming exercise 6.3"
      ]
    },
    {
      "cell_type": "code",
      "metadata": {
        "id": "KfJuOWuBj5Mc",
        "colab_type": "code",
        "colab": {}
      },
      "source": [
        ""
      ],
      "execution_count": 0,
      "outputs": []
    },
    {
      "cell_type": "markdown",
      "metadata": {
        "id": "Xi7rUAvTj6E7",
        "colab_type": "text"
      },
      "source": [
        "## Exercise 6.4"
      ]
    },
    {
      "cell_type": "code",
      "metadata": {
        "id": "MTy4rx1oj82A",
        "colab_type": "code",
        "colab": {}
      },
      "source": [
        ""
      ],
      "execution_count": 0,
      "outputs": []
    }
  ]
}