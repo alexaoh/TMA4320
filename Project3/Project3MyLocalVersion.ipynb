{
 "cells": [
  {
   "cell_type": "markdown",
   "metadata": {},
   "source": [
    "---\n",
    "title: \"Document title\"\n",
    "author: \"Author's name\"\n",
    "date: \"Document date\"\n",
    "output: beamer_presentation\n",
    "header-includes:\n",
    "- \\usepackage[utf8]{inputenc}\n",
    "- \\usepackage{amsmath}\n",
    "- \\usepackage{amssymb}\n",
    "- \\usepackage{amsthm}\n",
    "- \\renewcommand{\\qedsymbol}{\\ensuremath{\\blacksquare}}\n",
    "---\n",
    "\n",
    "#### Oppgave 1: \n",
    "\n",
    "Vi har oppgitt strukturligningen\n",
    "\n",
    "\\begin{equation}\\label{eq:strukturligninga}\n",
    "    \\frac{1}{r^2}\\frac{\\mathrm{d}}{\\mathrm{dr}}\\left(\\frac{r^2}{\\epsilon}\\frac{\\mathrm{d}P}{\\mathrm{dr}}\\right) = -\\frac{4\\pi G \\epsilon (r)}{c^4}. \n",
    "\\end{equation}\n",
    "\n",
    "I oppgave 1a) skal vi vise at ligning \\eqref{eq:strukturligninga} kan skrives på den dimesjonsløse formen \n",
    "\n",
    "\\begin{equation}\\label{eq:dimensjønsløs}\n",
    "    \\frac{1}{\\xi ^2}\\frac{\\mathrm{d}}{\\mathrm{d\\xi}}\\xi ^2\\frac{\\mathrm{d}\\theta}{\\mathrm{d\\xi}} = - \\theta ^ n. \n",
    "\\end{equation}\n",
    "\n",
    "Tilstandsligningen vi antar er \n",
    "\n",
    "\\begin{equation}\\label{eq:tilstandsligninga}\n",
    "    P = K \\epsilon^ \\gamma, \n",
    "\\end{equation}\n",
    "\n",
    "der $\\gamma = 1 + \\frac{1}{n}$. \n",
    "\n",
    "I tillegg er de dimensjonsløse variablene vi skal benytte definert som \n",
    "\n",
    "\\begin{align}\n",
    "    \\epsilon & = \\epsilon_{0}\\theta ^n, \\label{eq:coord1} \\\\\n",
    "    r & = a\\xi \\label{eq:coord2},   \n",
    "\\end{align}\n",
    "\n",
    "der $\\epsilon_{0}$ er energitettheten i $r = 0$ og $a$ er gitt ved \n",
    "\n",
    "\\begin{equation}\n",
    "    a^2 = \\frac{(n+1)Kc^4\\epsilon_{0}^{\\frac{1}{n}-1}}{4\\pi G}. \n",
    "\\end{equation}\n",
    "\n",
    "Vi ser først på den ene faktoren i parentesen i ligning \\eqref{eq:strukturligninga}. Ved å sette inn tilstandsligningen \\eqref{eq:tilstandsligninga}, samt én av de nye koordinatene \\eqref{eq:coord1} får vi \n",
    "\n",
    "\\begin{align}\\label{eq:faktor1}\n",
    "\\begin{split}\n",
    "        \\left(\\frac{1}{\\epsilon}\\frac{\\mathrm{d}P}{\\mathrm{dr}}\\right) & = \\frac{1}{\\epsilon_{0}\\theta^n}\\frac{\\mathrm{d}\\theta}{\\mathrm{dr}}\\left(K\\epsilon_{0}^{1+\\frac{1}{n}}\\theta^{n+1}\\right)\\\\ & = \\frac{K\\epsilon_{0}^\\frac{1}{n}}{\\theta^n}\\frac{\\mathrm{d}}{\\mathrm{dr}}\\theta^{n+1} \\\\ & = K\\epsilon_{0}^\\frac{1}{n}(n+1)\\theta^n \\frac{\\mathrm{d\\theta}}{\\mathrm{dr}}. \n",
    "\\end{split}\n",
    "\\end{align}\n",
    "\n",
    "Setter deretter faktoren \\eqref{eq:faktor1} inn i ligning \\eqref{eq:strukturligninga}, og substituerer med den andre dimensjonsløse koordinaten \\eqref{eq:coord2}. Da blir strukturligningen \\eqref{eq:strukturligninga}\n",
    "\n",
    "\\begin{proof}[\\unskip\\nopunct]\n",
    "\\begin{align}\n",
    " \\frac{1}{a^2\\xi^2}\\frac{\\mathrm{d}}{a\\mathrm{d\\xi}}a^4\\xi^2\\frac{\\mathrm{d}\\theta}{a\\mathrm{d\\xi}} & = - \\theta^n \\nonumber \\\\ \\Leftrightarrow{} \\frac{1}{\\xi^2}\\frac{\\mathrm{d}}{\\mathrm{d\\xi}}\\xi^2\\frac{\\mathrm{d}\\theta}{\\mathrm{d\\xi}} & = - \\theta^n.\n",
    "\\end{align}\n",
    "\\end{proof}\n",
    "\n",
    "*Den siste overgangen i proofet her tror jeg er feil, selv om resultatet blir rett. Dobbeltsjekk!*\n"
   ]
  },
  {
   "cell_type": "markdown",
   "metadata": {},
   "source": [
    "### Still can't quite figure out how to render LaTeX correctly in these notebooks!?"
   ]
  },
  {
   "cell_type": "code",
   "execution_count": null,
   "metadata": {},
   "outputs": [],
   "source": []
  }
 ],
 "metadata": {
  "kernelspec": {
   "display_name": "Python 3",
   "language": "python",
   "name": "python3"
  },
  "language_info": {
   "codemirror_mode": {
    "name": "ipython",
    "version": 3
   },
   "file_extension": ".py",
   "mimetype": "text/x-python",
   "name": "python",
   "nbconvert_exporter": "python",
   "pygments_lexer": "ipython3",
   "version": "3.7.6"
  }
 },
 "nbformat": 4,
 "nbformat_minor": 4
}
