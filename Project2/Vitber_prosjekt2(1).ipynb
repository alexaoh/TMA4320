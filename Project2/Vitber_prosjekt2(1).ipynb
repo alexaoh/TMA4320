{
 "cells": [
  {
   "cell_type": "markdown",
   "metadata": {
    "colab_type": "text",
    "id": "VaJs2XvmQFr0"
   },
   "source": [
    "# Binær klassifisering ved hjelp av et nevralt nettverk"
   ]
  },
  {
   "cell_type": "markdown",
   "metadata": {
    "colab_type": "text",
    "id": "CMEhmZw2QHlS"
   },
   "source": [
    "## Introduksjon\n",
    "\n",
    "I denne oppgaven skal det utføres en binær klassifisering av ulike typer bilder. Modellen som skal brukes er et nevralt nettverk med en forholdsvis beskjeden dybde. Den tar et sett med bilde, som skal klassifiseres, samt noen labels som forteller bildenes sanne binære verdi. \n",
    "$\\color{red}{Mer \\, spesifikt \\, om \\, hvordan \\, modellen \\, er \\, bygget \\, opp?}$\n",
    "\n",
    "Tilnærmingen til problemet er todelt. Først skal det nevrale nettverket trenes. I denne fasen skal parameterne assosiert med hver transformasjon av bildet finnes slik at avviket mellom den reelle klassifiseringen til bildet og modellen sin klassifisering blir minimert. Avviket beregnes ved hjelp av en kostfunksjon,som benytter seg av settet med labels. Dette er essensielt en liste over de ulike punktenes reelle binære klassifisering, slik at modellen sin klassifisering kan sammenlignes med denne. Deretter skal et nytt sett med bilder gjennom en valideringsfase, der disse transformeres ved hjelp av parameterne som ble funnet ui treningsfasen. Deretter kan man trekke en konklusjon om modellen klassifiserer bildene på en god måte eller ikke. \n",
    "\n",
    "Denne rapporten består av kode og presentasjon av resultater på to testproblemer:\n",
    "\n",
    "I testproblem 1 skal punkter i planet klassifiseres. Det skal skilles mellom to typer punkter. Her er de valgt til å være henholdsvis røde og blå. \"Bildet\" i dette problemet er et punkt, kun beskrevet av to koordinater $(x,y)$. Modellen skal dermed trenes til å avgjøre om et vilkårlig punkt er rødt eller blått.\n",
    "\n",
    "I testproblem 2 skal siffer fra MNIST klassifiseres. Her er det snakk om virkelige bilder med lav oppløsning. Størrelsen på bildene er 28 x 28 piksler. Bildene i settene fra MNIST består av siffer fra 0-9, dvs 10 ulike klasser av bilder. For at dette skal passe inn i vår binære klassifiseringsmodell holder vi oss til kun to forskjellige siffer, som for eksempel 4 og 9. \n",
    "\n",
    "Rapporten tar for seg testproblemene hver for seg. All kode for nettverket og algoritmen som brukes på begge problemene presenteres helt øverst i rapporten. Deretter følger det trening, validering og presentasjon av resultater fra henholdsvis problem 1 og problem 2.\n"
   ]
  },
  {
   "cell_type": "markdown",
   "metadata": {},
   "source": [
    "## Modell og algoritme"
   ]
  },
  {
   "cell_type": "code",
   "execution_count": 26,
   "metadata": {},
   "outputs": [],
   "source": [
    "import math\n",
    "from plotting import *\n",
    "from spirals import *\n",
    "import pickle\n",
    "\n",
    "def sigma(x):\n",
    "    return np.tanh(x)\n",
    "\n",
    "def sigma_der(x):\n",
    "    return np.cosh(x)**(-2)\n",
    "\n",
    "def eta(x):\n",
    "    return 0.5*(1+np.tanh(x/2))\n",
    "\n",
    "def eta_der(x):\n",
    "    return np.e**(x)*(np.e**(x)+1)**(-2)\n",
    "\n",
    "def adam_method(x, x_der, m_jn, v_jn, j):\n",
    "    beta_1 = 0.9\n",
    "    beta_2 = 0.999\n",
    "    alfa = 0.01\n",
    "    epsilon = 1e-8\n",
    "    m_j = beta_1*m_jn + (1-beta_1)*x_der\n",
    "    v_j = beta_2*v_jn + (1-beta_2)* (x_der*x_der)\n",
    "    m_hatt_j = m_j/(1-beta_1**(j))\n",
    "    v_hatt_j = v_j/(1-beta_2**(j))\n",
    "    val = alfa*m_hatt_j/(np.sqrt(v_hatt_j) + epsilon)\n",
    "    x -= val\n",
    "    return x, m_j, v_j\n",
    "\n",
    "def plain_vanilla(x,x_der, tau):\n",
    "    x -= tau*x_der\n",
    "    return x\n",
    "\n",
    "def set_random_parameters(K, d):\n",
    "    ''' W_k er en dxd matrise og  (2x2 for leketøysmodellen)\n",
    "        b_k er en dx1 vektor elementer for hver k  (2x1 for leketøysmodellen)\n",
    "    ''' \n",
    "    W_k = np.random.randn(K,d,d)\n",
    "    b_k = np.random.randn(K,d,1)  \n",
    "    omega = np.random.randn(d)     \n",
    "    my = np.random.rand() \n",
    "    return W_k, b_k, omega, my\n",
    "\n",
    "\n",
    "def update_parameters(x, x_der, m_jn, v_jn, tau, j, method=\"Adam\"):\n",
    "    ''' Updates all parameters ''' \n",
    "    if method == \"Adam\":\n",
    "        parameter, m_j, v_j = adam_method(x,x_der, m_jn, v_jn, j)\n",
    "        return parameter, m_j, v_j\n",
    "    elif method == \"Plain\":\n",
    "        x = plain_vanilla(x,x_der, tau)\n",
    "        return x\n",
    "\n",
    "def calculate_YKk(Y_Kk, b_k_dim, b_k, K, h, sigma, W_k):\n",
    "    for i in range(K):\n",
    "        b_k_dim[i,:,:] = b_k[i,:,:]   \n",
    "        Y_Kk[i+1,:,:] = Y_Kk[i,:,:] + h*sigma(W_k[i,:,:] @ Y_Kk[i,:,:] + b_k_dim[i,:,:]) \n",
    "    return Y_Kk, b_k_dim\n",
    "\n",
    "def calculate_P_k(omega, Z, c, eta_der, YT_k, my):\n",
    "    ''' Calculates part (7) of gradient '''\n",
    "    P_k = np.outer(omega,(Z-c)*eta_der(YT_k @ omega + my)) #Blir en dxI matrise\n",
    "    return P_k\n",
    "\n",
    "def calculate_projection_derivatives(eta_der, YT_k, omega, Z, c, Y_Kk, my):\n",
    "    ''' Calculates parts of gradient (5) and (6) '''\n",
    "    J_der_my = eta_der(YT_k @ omega + my) @ (Z-c)    #Blir en skalar  \n",
    "    J_der_omega = Y_Kk[-1,:,:] @ ((Z-c) * eta_der(YT_k @ omega + my)) #Blir en dx1 vektor\n",
    "    return J_der_my, J_der_omega\n",
    "\n",
    "def calculate_PKk(K, d, I, P_k, h, W_k, b_k_dim, Y_Kk):\n",
    "    ''' Calculates P_(k-1) from (8) '''\n",
    "    P_Kk = np.zeros((K,d,I)) #K matriser, skal ikke ha med P_0\n",
    "    P_Kk[-1,:,:] = P_k      #Legger P_k bakerst i P_Kk\n",
    "\n",
    "    for i in range(K-1,0,-1):  #Starter på P_k(=indeks K-1) og helt til og med P_1(=indeks 0)\n",
    "        P_Kk[i-1,:,:] = P_Kk[i,:,:] + h*np.transpose(W_k[i-1,:,:]) @ (sigma_der(W_k[i-1,:,:] @ Y_Kk[i-1,:,:] +b_k_dim[i-1,:,:]) * P_Kk[i,:,:])\n",
    "    \n",
    "    return P_Kk\n",
    "\n",
    "def calculate_rest_of_gradient(K, d, I, P_Kk, sigma_der, Y_Kk, b_k_dim, h, W_k):\n",
    "    ''' Calculates parts of gradient (9) and (10) '''\n",
    "    J_der_W = np.zeros((K,d,d))\n",
    "    J_der_b = np.zeros((K,d,1))\n",
    "    vec_I = np.ones((I,1))  #Må gjøre vec_I til en matrise av en eller annen grunn\n",
    "    #P_Kk går fra P_1(=indeks 0) til P_K(=indeks K-1)\n",
    "    for i in range(K):\n",
    "        val = P_Kk[i,:,:] * sigma_der(W_k[i,:,:] @ Y_Kk[i,:,:] + b_k_dim[i,:,:])\n",
    "        #BLIR DET RETT INDEX PÅ P_KK I VAL? SKULLE DET IKKE VÆRT I+1? ELLER ER P_KK EN MATRISE SOM REPRESENTERER P_K+1 I HEFTET? \n",
    "        J_der_W[i,:,:] = h*(val @ np.transpose(Y_Kk[i,:,:]))\n",
    "        J_der_b[i,:,:] = h*(val @ vec_I)\n",
    "    return J_der_W, J_der_b\n",
    "\n",
    "def algorithm(Y_0, c, I, d, iterations, filename, mode=\"training\"):\n",
    "    K = 15  #antall transformajsoner, kan økes til 15-20\n",
    "    h = 0.1 #skrittlengde \n",
    "\n",
    "    #Forberedelser:\n",
    "    Y_Kk = np.zeros((K+1,d,I))  #Med K transformasjoner får vi K+1 Y_k'er\n",
    "    Y_Kk[0,:,:] = Y_0\n",
    "    b_k_dim = np.zeros((K,d,I))\n",
    "\n",
    "    J = np.zeros(iterations)\n",
    "    #Learning parameters (set random startvalues)\n",
    "    if mode == \"testing\":\n",
    "        with open(filename, \"rb\") as f:\n",
    "            U = pickle.load(f)\n",
    "        W_k, b_k, omega, my = U[0], U[1], U[2], U[3]\n",
    "\n",
    "        Y_Kk, b_k_dim = calculate_YKk(Y_Kk, b_k_dim, b_k, K, h, sigma, W_k)\n",
    "        #Calculates Z, Y_k-transpose and cost function J\n",
    "        YT_k = np.transpose(Y_Kk[-1,:,:]) #Enklere notasjon\n",
    "        Z = eta(YT_k @ omega + my)  #Z er en Ix1 vektor\n",
    "\n",
    "\n",
    "    elif mode == \"training\":\n",
    "        j = 1   #Må starte på 1\n",
    "\n",
    "        #Til Adam-metoden:\n",
    "        v_j = np.array([0,np.zeros(d),np.zeros((K,d,1)),np.zeros((K,d,d))])\n",
    "        m_j = np.array([0,np.zeros(d),np.zeros((K,d,1)),np.zeros((K,d,d))])\n",
    "\n",
    "        #Til Plain vanilla:\n",
    "        tau = 0.01\n",
    "\n",
    "        W_k, b_k, omega, my = set_random_parameters(K, d)\n",
    "\n",
    "        while j <= iterations:\n",
    "        \n",
    "            Y_Kk, b_k_dim = calculate_YKk(Y_Kk, b_k_dim, b_k, K, h, sigma, W_k)\n",
    "\n",
    "            #Calculates Z, Y_k-transpose and cost function J\n",
    "            YT_k = np.transpose(Y_Kk[-1,:,:]) #Enklere notasjon\n",
    "            Z = eta(YT_k @ omega + my)  #Z er en Ix1 vektor\n",
    "\n",
    "            J[j-1] = 0.5*np.linalg.norm(Z-c)**2 #J blir en array med iterations antall verdier\n",
    "            \n",
    "            P_k = calculate_P_k(omega, Z, c, eta_der, YT_k, my)\n",
    "            \n",
    "            J_der_my, J_der_omega = calculate_projection_derivatives(eta_der, YT_k, omega, Z, c, Y_Kk, my)\n",
    "            \n",
    "            P_Kk = calculate_PKk(K, d, I, P_k, h, W_k, b_k_dim, Y_Kk)\n",
    "            \n",
    "            J_der_W, J_der_b = calculate_rest_of_gradient(K, d, I, P_Kk, sigma_der, Y_Kk, b_k_dim, h, W_k)\n",
    "            \n",
    "            my, m_j[0],v_j[0] = update_parameters(my, J_der_my, m_j[0], v_j[0], tau, j)\n",
    "            omega, m_j[1],v_j[1] = update_parameters(omega,J_der_omega,m_j[1],v_j[1], tau, j)\n",
    "            b_k, m_j[2],v_j[2] = update_parameters(b_k,J_der_b,m_j[2],v_j[2], tau, j)\n",
    "            W_k, m_j[3],v_j[3] = update_parameters(W_k,J_der_W,m_j[3],v_j[3], tau, j) \n",
    "\n",
    "            ''' #Vanilla blir bedre med større skrittlengde synes jeg! Men Adam virker fortsatt litt bedre!\n",
    "            my = update_parameters(my, J_der_my, m_j[0], v_j[0], tau, j, \"Plain\")\n",
    "            omega = update_parameters(omega, J_der_omega,  m_j[0], v_j[0], tau, j, \"Plain\")\n",
    "            b_k = update_parameters(b_k,J_der_b,  m_j[0], v_j[0], tau, j, \"Plain\")\n",
    "            W_k = update_parameters(W_k, J_der_W,  m_j[0], v_j[0], tau, j, \"Plain\")\n",
    "            '''\n",
    "            j+= 1\n",
    "        \n",
    "        U = [W_k, b_k, omega, my]\n",
    "        with open(filename, \"wb\") as f:\n",
    "            pickle.dump(U, f)\n",
    "        \n",
    "\n",
    "    return Y_Kk, J, omega, my, Z\n",
    "\n",
    "def last_function(grid, omega, my): #Used to plot_separation \n",
    "    #Måtte dermed ta inn to ekstra argumenter i plot_separation (omega og my)\n",
    "    ''' A function that takes one argument, and S-by-2 matrix of S intermediate states in\n",
    "    the network, and returns a vector of S classification values.\n",
    "    It should multiply by w, add μ and evaluate 𝜂. '''\n",
    "    Z = eta(np.transpose(grid) @ omega + my) \n",
    "    return Z\n",
    "\n",
    "def forward_function(grid): #Denne kan nok endre til å samsvare med en annen function. (ev kalle den funksjonen inni denne)\n",
    "    ''' A function that takes one argument, an S-by-2 matrix of S datapoints, and\n",
    "    returns a vector of S classification values.'''\n",
    "    b_k_dim = np.zeros((K,d,len(grid[0,:])))\n",
    "    for i in range(K): \n",
    "        b_k_dim[i,:,:] = b_k[i,:,:]   \n",
    "        grid_k = grid + h*sigma(W_k[i,:,:] @ grid + b_k_dim[i,:,:])\n",
    "        grid = grid_k\n",
    "\n",
    "    grid_Tk = np.transpose(grid_k)\n",
    "    Z = eta(grid_Tk @ omega + my)\n",
    "    return Z\n",
    "\n",
    "def plot_cost_function_convergence(iterations, J):\n",
    "    ''' Plots the convergence of the cost function as a function of the iteration index ''' \n",
    "    j_values = [i for i in range(iterations)]\n",
    "    plt.figure()\n",
    "    plt.plot(j_values, J)\n",
    "    plt.xlabel(\"Iteration index j\")\n",
    "    plt.ylabel(\"Cost\")\n",
    "    plt.title(\"Convergence of cost function\")\n",
    "    plt.show()\n",
    "\n",
    "def stochastic_gradient_descent(I, Y_0, chunk=50): #Denne må implementeres i algoritmen, men jeg skjønner ikke helt hvordan? :(\n",
    "    ''' Made to pick out pictures to test. Modifies the Adam Descent Algorithm. ''' \n",
    "    start = np.random.randint(1,I-chunk)\n",
    "    Y0_chunk = Y_0[:,start:start+chunk] #picks out 50 pictures! Important to use in MNIST-task. \n",
    "    return Y0_chunk, chunk\n",
    "    \n",
    "def print_successrate(Z,c, tol=0.05): #Lav toleranse for tvil\n",
    "    correctly_classified = 0\n",
    "    for i in range(len(Z)):\n",
    "        if abs(Z[i]-c[i]) <= tol:\n",
    "            correctly_classified+=1\n",
    "    \n",
    "    print(\"Ratio of correctly classified points:\", correctly_classified/len(c),\"(with tolerated difference between classification point and label:\",str(tol)+\")\")\n"
   ]
  },
  {
   "cell_type": "markdown",
   "metadata": {
    "colab_type": "text",
    "id": "CHdud7_iQOEA"
   },
   "source": [
    "## Testproblem 1 - punkter i planet\n"
   ]
  },
  {
   "cell_type": "markdown",
   "metadata": {},
   "source": [
    "#### Trening"
   ]
  },
  {
   "cell_type": "markdown",
   "metadata": {},
   "source": [
    "* Trener med 40000 interasjoner, 20 lag, 1000 bilder (se nedenfor) og skrittlengde h = 0.1."
   ]
  },
  {
   "cell_type": "code",
   "execution_count": 27,
   "metadata": {
    "colab": {
     "base_uri": "https://localhost:8080/",
     "height": 265
    },
    "colab_type": "code",
    "id": "vnteSaxRwGwO",
    "outputId": "a752f14c-5efb-4f13-ba4b-3e1698dfebb3"
   },
   "outputs": [
    {
     "data": {
      "image/png": "[encoded data removed]",
      "text/plain": [
       "<Figure size 432x288 with 1 Axes>"
      ]
     },
     "metadata": {
      "needs_background": "light"
     },
     "output_type": "display_data"
    },
    {
     "ename": "TypeError",
     "evalue": "plot_separation() takes 4 positional arguments but 6 were given",
     "output_type": "error",
     "traceback": [
      "\u001b[0;31m---------------------------------------------------------------------------\u001b[0m",
      "\u001b[0;31mTypeError\u001b[0m                                 Traceback (most recent call last)",
      "\u001b[0;32m<ipython-input-27-9c5d1ac62964>\u001b[0m in \u001b[0;36m<module>\u001b[0;34m\u001b[0m\n\u001b[1;32m     12\u001b[0m \u001b[0;34m\u001b[0m\u001b[0m\n\u001b[1;32m     13\u001b[0m \u001b[0mr\u001b[0m \u001b[0;34m=\u001b[0m \u001b[0;36m1000\u001b[0m \u001b[0;31m#resolution of plot*\u001b[0m\u001b[0;34m\u001b[0m\u001b[0;34m\u001b[0m\u001b[0m\n\u001b[0;32m---> 14\u001b[0;31m \u001b[0mplot_separation\u001b[0m\u001b[0;34m(\u001b[0m\u001b[0mlast_function\u001b[0m\u001b[0;34m,\u001b[0m \u001b[0mY_Kk\u001b[0m\u001b[0;34m[\u001b[0m\u001b[0;34m-\u001b[0m\u001b[0;36m1\u001b[0m\u001b[0;34m,\u001b[0m\u001b[0;34m:\u001b[0m\u001b[0;34m,\u001b[0m\u001b[0;34m:\u001b[0m\u001b[0;34m]\u001b[0m\u001b[0;34m,\u001b[0m \u001b[0mc\u001b[0m\u001b[0;34m,\u001b[0m \u001b[0mr\u001b[0m\u001b[0;34m,\u001b[0m \u001b[0momega\u001b[0m\u001b[0;34m,\u001b[0m \u001b[0mmy\u001b[0m\u001b[0;34m)\u001b[0m\u001b[0;34m\u001b[0m\u001b[0;34m\u001b[0m\u001b[0m\n\u001b[0m\u001b[1;32m     15\u001b[0m \u001b[0;31m#plot_model(forward_function, Y_Kk[0,:,:], c, r) --> må finne en god måte å kalle denne på. Endre på forward_function litt for å få det til!\u001b[0m\u001b[0;34m\u001b[0m\u001b[0;34m\u001b[0m\u001b[0;34m\u001b[0m\u001b[0m\n",
      "\u001b[0;31mTypeError\u001b[0m: plot_separation() takes 4 positional arguments but 6 were given"
     ]
    }
   ],
   "source": [
    "I = 1000 #Number of pictures (in this case: points)\n",
    "d = 2 #dimension\n",
    "iterations = 1000\n",
    "\n",
    "Y_0, c = get_data_spiral_2d(I) \n",
    "c = c[:,0]  #for å få en Ix1 vektor \n",
    "Y_Kk, J, omega, my, Z = algorithm(Y_0, c, I, d, iterations, \"parameters.txt\", \"training\")\n",
    "\n",
    "plot_cost_function_convergence(iterations, J)\n",
    "\n",
    "#plot_progression(Y_Kk, c) \n",
    "\n",
    "r = 1000 #resolution of plot*\n",
    "plot_separation(last_function, Y_Kk[-1,:,:], c, r, omega, my)\n",
    "#plot_model(forward_function, Y_Kk[0,:,:], c, r) --> må finne en god måte å kalle denne på. Endre på forward_function litt for å få det til!\n"
   ]
  },
  {
   "cell_type": "markdown",
   "metadata": {},
   "source": [
    "#### Kommentarer (etter trening): \n",
    "* Av \"Convergence of cost function\"-grafen ser man at funksjonen konvergerer raskt - lenge før alle 40000 iterasjonene er utført. \n",
    "* Plott av koordinatene fra det siste laget viser at punktene i hver farge er nøye separert fra hverandre \n"
   ]
  },
  {
   "cell_type": "markdown",
   "metadata": {},
   "source": [
    "#### Testing"
   ]
  },
  {
   "cell_type": "code",
   "execution_count": 28,
   "metadata": {},
   "outputs": [
    {
     "data": {
      "image/png": "[encoded data removed]",
      "text/plain": [
       "<Figure size 432x288 with 1 Axes>"
      ]
     },
     "metadata": {
      "needs_background": "light"
     },
     "output_type": "display_data"
    },
    {
     "name": "stdout",
     "output_type": "stream",
     "text": [
      "0.0 0.0\n"
     ]
    },
    {
     "ename": "TypeError",
     "evalue": "plot_separation() takes 4 positional arguments but 6 were given",
     "output_type": "error",
     "traceback": [
      "\u001b[0;31m---------------------------------------------------------------------------\u001b[0m",
      "\u001b[0;31mTypeError\u001b[0m                                 Traceback (most recent call last)",
      "\u001b[0;32m<ipython-input-28-82cdcb46803c>\u001b[0m in \u001b[0;36m<module>\u001b[0;34m\u001b[0m\n\u001b[1;32m     13\u001b[0m \u001b[0;34m\u001b[0m\u001b[0m\n\u001b[1;32m     14\u001b[0m \u001b[0mr\u001b[0m \u001b[0;34m=\u001b[0m \u001b[0;36m1000\u001b[0m \u001b[0;31m#resolution of plot\u001b[0m\u001b[0;34m\u001b[0m\u001b[0;34m\u001b[0m\u001b[0m\n\u001b[0;32m---> 15\u001b[0;31m \u001b[0mplot_separation\u001b[0m\u001b[0;34m(\u001b[0m\u001b[0mlast_function\u001b[0m\u001b[0;34m,\u001b[0m \u001b[0mY_Kk\u001b[0m\u001b[0;34m[\u001b[0m\u001b[0;34m-\u001b[0m\u001b[0;36m1\u001b[0m\u001b[0;34m,\u001b[0m\u001b[0;34m:\u001b[0m\u001b[0;34m,\u001b[0m\u001b[0;34m:\u001b[0m\u001b[0;34m]\u001b[0m\u001b[0;34m,\u001b[0m \u001b[0mc\u001b[0m\u001b[0;34m,\u001b[0m \u001b[0mr\u001b[0m\u001b[0;34m,\u001b[0m \u001b[0momega\u001b[0m\u001b[0;34m,\u001b[0m \u001b[0mmy\u001b[0m\u001b[0;34m)\u001b[0m\u001b[0;34m\u001b[0m\u001b[0;34m\u001b[0m\u001b[0m\n\u001b[0m\u001b[1;32m     16\u001b[0m \u001b[0mprint_successrate\u001b[0m\u001b[0;34m(\u001b[0m\u001b[0mZ\u001b[0m\u001b[0;34m,\u001b[0m\u001b[0mc\u001b[0m\u001b[0;34m)\u001b[0m\u001b[0;34m\u001b[0m\u001b[0;34m\u001b[0m\u001b[0m\n\u001b[1;32m     17\u001b[0m \u001b[0mplot_model\u001b[0m\u001b[0;34m(\u001b[0m\u001b[0mforward_function\u001b[0m\u001b[0;34m,\u001b[0m \u001b[0mY_Kk\u001b[0m\u001b[0;34m[\u001b[0m\u001b[0;36m0\u001b[0m\u001b[0;34m,\u001b[0m\u001b[0;34m:\u001b[0m\u001b[0;34m,\u001b[0m\u001b[0;34m:\u001b[0m\u001b[0;34m]\u001b[0m\u001b[0;34m,\u001b[0m \u001b[0mc\u001b[0m\u001b[0;34m,\u001b[0m \u001b[0mr\u001b[0m\u001b[0;34m)\u001b[0m\u001b[0;34m\u001b[0m\u001b[0;34m\u001b[0m\u001b[0m\n",
      "\u001b[0;31mTypeError\u001b[0m: plot_separation() takes 4 positional arguments but 6 were given"
     ]
    }
   ],
   "source": [
    "I = 1000 #Number of pictures (in this case: points)\n",
    "d = 2 #dimension\n",
    "iterations = 1000\n",
    "Y_0, c = get_data_spiral_2d(I) #Til oppgave 1: \n",
    "c = c[:,0]  #for å få en Ix1 vektor \n",
    "Y_Kk, J, omega, my, Z = algorithm(Y_0, c, I, d, iterations, \"20K1000B40KIh05.txt\", \"testing\")\n",
    "\n",
    "plot_cost_function_convergence(iterations, J)\n",
    "\n",
    "print(J[0],J[-1])  #god overenstemmelse \n",
    "\n",
    "#plot_progression(Y_Kk, c) \n",
    "\n",
    "r = 1000 #resolution of plot\n",
    "plot_separation(last_function, Y_Kk[-1,:,:], c, r, omega, my)\n",
    "print_successrate(Z,c)\n",
    "plot_model(forward_function, Y_Kk[0,:,:], c, r)\n",
    "#20 lag, 10000 bilder, 40000 iterasjoner og h = 0.1"
   ]
  },
  {
   "cell_type": "markdown",
   "metadata": {},
   "source": [
    "### Kommentar til resultatet: \n",
    "\n",
    "Resultatet du ser ovenfor er den konfigurasjon, blant de som ble testet, som du kan se i tabellen nedenfor, som ga best mulig klassifikasjon. I cellen under kan du se den konfigurasjonen i tabellen som ga dårligst klassifikasjon.  \n",
    "FORKLAR HVORDAN FILNAMET ER NAVGITT, SLIK AT HAN DA KAN SE HVA SOM ER TESTET! DA SLIPPER VI Å KJØRE TRENINGEN I JUPYTER OGSÅ, MEN KAN KUN KJØRE TESTINGEN :) (ELLER VI MÅ VEL PLOTTE COST FUNCTION UANSETT)"
   ]
  },
  {
   "cell_type": "markdown",
   "metadata": {},
   "source": [
    "\n",
    "### Suksessrater: \n",
    "\n",
    "Modellen har blitt trent og testet en rekke flere ganger, på samme måte som eksempelet over. Resultatene er presentert i tabellen nedenfor. \n",
    "\n",
    "Trente modellen med 40000 iterasjoner. 1000 bilder. K = 20 lag, og hhv h = 0.1, 0.3, 0.5, 0.7 og 0.9.\n",
    "Deretter kjørte testing på denne dataen med 10, 15 og 30 lag i nettverket. Det er dette man ser i tabellen nedenfor. \n",
    "\n",
    "| tol = 0.05 | K = 5  | K = 10 | K = 15 | K = 17 | K = 20 |\n",
    "|------------|--------|--------|--------|--------|--------|\n",
    "| h = 0.1    | 0.697  | 0.726  | 0.998  | 0.996  | 0.999  |\n",
    "| h = 0.3    | 0.5    | 0.5    | 0.368  | 0.997  | 0.234  |\n",
    "| h = 0.5    | 0.365  | 0.352  | 0.129  | 0.997  | 0.217  |\n",
    "| h = 0.7    | 0.64   | 0.513  | 0.668  | 0.0    | 0.985  |\n",
    "| h = 0.9    | 0.392  | 0.597  | 0.995  | 0.678  | 0.995  |\n",
    "\n",
    "Hvis man ser på J-funksjonen til f.eks h0.9,K17 ser man at det er veldig flaks at den resultatet blir såpass bra etter 40000 iterasjoner, for den konvergerer ikke mot en lav verdi (den oscillerer helt vilt). Dermed kan f.eks denne være interessant å plotte. Dette er nok tilfellet på mange flere av disse derimot (blant de større h-verdiene!). h0.7,K17 hadde nok ikke like flaks. \n",
    "\n",
    "Tester heller med K = 5, for å se hvor mye de siste 10-15 lagene har å si!\n",
    "\n",
    "Toleransen ble satt til 0.05 under klassifiseringen i denne oppgaven, for å se hvor mye modellen kunne få rett når man er mye sikrere enn 50 %. Ved tol 0.5 ble resultatene ..."
   ]
  },
  {
   "cell_type": "markdown",
   "metadata": {},
   "source": [
    "### Konklusjon\n",
    "\n",
    "Basert på suksessratene er det åpenbart at det er bedre med flere lag, men man taper altså ikke så mye ved å kutte noen lag. Det ser ut til å gjennomgående fungere bedre når h er mindre, slik at steglengden ikke blir så \"voldsom\" og kostfunksjonen konvergerer mot en lav verdi (slik den ikke gjør for flere av de større h-ene)"
   ]
  },
  {
   "cell_type": "markdown",
   "metadata": {},
   "source": [
    "#### Resultater og analyse (Dette skal ikke være med da!)\n",
    "\n",
    "Ser at resultatet er veldig godt (97.8 % av punktene er klassifisert korrekt med en toleranse på 0.05) når modellen er trent med h = 0.1, 15 lag, 1000 iterasjoner og 1000 bilder. \n",
    "\n",
    "Plotting av kostnadsfunksjonen mot tiden viser hvor raskt den konvergerer. \n",
    "\n",
    "KANSKJE LAGE EN TABELL OVER DISSE RESULTATENE?\n",
    "FÅ plot_model til å fungere også, slik at jeg kan plotte modellen + separation for analysen sin del. "
   ]
  },
  {
   "cell_type": "markdown",
   "metadata": {
    "colab_type": "text",
    "id": "ObklhArmQaDv"
   },
   "source": [
    "## Testproblem 2 - håndskrevne siffer"
   ]
  },
  {
   "cell_type": "markdown",
   "metadata": {},
   "source": [
    "#### Trening"
   ]
  },
  {
   "cell_type": "code",
   "execution_count": 20,
   "metadata": {
    "colab": {},
    "colab_type": "code",
    "id": "b8SiDaaPQabX"
   },
   "outputs": [
    {
     "name": "stderr",
     "output_type": "stream",
     "text": [
      "/home/ajo/anaconda3/lib/python3.7/site-packages/ipykernel_launcher.py:20: RuntimeWarning: overflow encountered in power\n",
      "/home/ajo/anaconda3/lib/python3.7/site-packages/ipykernel_launcher.py:20: RuntimeWarning: invalid value encountered in multiply\n"
     ]
    },
    {
     "ename": "MemoryError",
     "evalue": "Unable to allocate 873. GiB for an array with shape (784, 149401729) and data type float64",
     "output_type": "error",
     "traceback": [
      "\u001b[0;31m---------------------------------------------------------------------------\u001b[0m",
      "\u001b[0;31mMemoryError\u001b[0m                               Traceback (most recent call last)",
      "\u001b[0;32m<ipython-input-20-8600c3c9c0f6>\u001b[0m in \u001b[0;36m<module>\u001b[0;34m\u001b[0m\n\u001b[1;32m      5\u001b[0m \u001b[0md\u001b[0m \u001b[0;34m=\u001b[0m \u001b[0;36m784\u001b[0m \u001b[0;31m# 28x28\u001b[0m\u001b[0;34m\u001b[0m\u001b[0;34m\u001b[0m\u001b[0m\n\u001b[1;32m      6\u001b[0m \u001b[0mY_0\u001b[0m\u001b[0;34m,\u001b[0m \u001b[0mc\u001b[0m \u001b[0;34m=\u001b[0m \u001b[0mget_dataset\u001b[0m\u001b[0;34m(\u001b[0m\u001b[0;34m)\u001b[0m\u001b[0;34m\u001b[0m\u001b[0;34m\u001b[0m\u001b[0m\n\u001b[0;32m----> 7\u001b[0;31m \u001b[0mY_Kk\u001b[0m\u001b[0;34m,\u001b[0m \u001b[0mJ\u001b[0m\u001b[0;34m,\u001b[0m \u001b[0momega\u001b[0m\u001b[0;34m,\u001b[0m \u001b[0mmy\u001b[0m\u001b[0;34m,\u001b[0m \u001b[0miterations\u001b[0m \u001b[0;34m=\u001b[0m \u001b[0malgorithm\u001b[0m\u001b[0;34m(\u001b[0m\u001b[0mY_0\u001b[0m\u001b[0;34m,\u001b[0m \u001b[0mc\u001b[0m\u001b[0;34m,\u001b[0m \u001b[0mI\u001b[0m\u001b[0;34m,\u001b[0m \u001b[0md\u001b[0m\u001b[0;34m,\u001b[0m \u001b[0;34m\"training\"\u001b[0m\u001b[0;34m)\u001b[0m\u001b[0;34m\u001b[0m\u001b[0;34m\u001b[0m\u001b[0m\n\u001b[0m",
      "\u001b[0;32m<ipython-input-16-e9067f34a39e>\u001b[0m in \u001b[0;36malgorithm\u001b[0;34m(Y_0, c, I, d, mode)\u001b[0m\n\u001b[1;32m    133\u001b[0m         \u001b[0mJ\u001b[0m\u001b[0;34m[\u001b[0m\u001b[0mj\u001b[0m\u001b[0;34m-\u001b[0m\u001b[0;36m1\u001b[0m\u001b[0;34m]\u001b[0m \u001b[0;34m=\u001b[0m \u001b[0;36m0.5\u001b[0m\u001b[0;34m*\u001b[0m\u001b[0mnp\u001b[0m\u001b[0;34m.\u001b[0m\u001b[0mlinalg\u001b[0m\u001b[0;34m.\u001b[0m\u001b[0mnorm\u001b[0m\u001b[0;34m(\u001b[0m\u001b[0mZ\u001b[0m\u001b[0;34m-\u001b[0m\u001b[0mc\u001b[0m\u001b[0;34m)\u001b[0m\u001b[0;34m**\u001b[0m\u001b[0;36m2\u001b[0m \u001b[0;31m#J blir en array med iterations antall verdier\u001b[0m\u001b[0;34m\u001b[0m\u001b[0;34m\u001b[0m\u001b[0m\n\u001b[1;32m    134\u001b[0m \u001b[0;34m\u001b[0m\u001b[0m\n\u001b[0;32m--> 135\u001b[0;31m         \u001b[0mP_k\u001b[0m \u001b[0;34m=\u001b[0m \u001b[0mcalculate_P_k\u001b[0m\u001b[0;34m(\u001b[0m\u001b[0momega\u001b[0m\u001b[0;34m,\u001b[0m \u001b[0mZ\u001b[0m\u001b[0;34m,\u001b[0m \u001b[0mc\u001b[0m\u001b[0;34m,\u001b[0m \u001b[0meta_der\u001b[0m\u001b[0;34m,\u001b[0m \u001b[0mYT_k\u001b[0m\u001b[0;34m,\u001b[0m \u001b[0mmy\u001b[0m\u001b[0;34m)\u001b[0m \u001b[0;31m#LAGRE I MINNET! SKAL KANSKJE SKRIVES TIL FIL?\u001b[0m\u001b[0;34m\u001b[0m\u001b[0;34m\u001b[0m\u001b[0m\n\u001b[0m\u001b[1;32m    136\u001b[0m \u001b[0;34m\u001b[0m\u001b[0m\n\u001b[1;32m    137\u001b[0m         \u001b[0mJ_der_my\u001b[0m\u001b[0;34m,\u001b[0m \u001b[0mJ_der_omega\u001b[0m \u001b[0;34m=\u001b[0m \u001b[0mcalculate_projection_derivatives\u001b[0m\u001b[0;34m(\u001b[0m\u001b[0meta_der\u001b[0m\u001b[0;34m,\u001b[0m \u001b[0mYT_k\u001b[0m\u001b[0;34m,\u001b[0m \u001b[0momega\u001b[0m\u001b[0;34m,\u001b[0m \u001b[0mZ\u001b[0m\u001b[0;34m,\u001b[0m \u001b[0mc\u001b[0m\u001b[0;34m,\u001b[0m \u001b[0mY_Kk\u001b[0m\u001b[0;34m,\u001b[0m \u001b[0mmy\u001b[0m\u001b[0;34m)\u001b[0m\u001b[0;34m\u001b[0m\u001b[0;34m\u001b[0m\u001b[0m\n",
      "\u001b[0;32m<ipython-input-16-e9067f34a39e>\u001b[0m in \u001b[0;36mcalculate_P_k\u001b[0;34m(omega, Z, c, eta_der, YT_k, my)\u001b[0m\n\u001b[1;32m     65\u001b[0m \u001b[0;32mdef\u001b[0m \u001b[0mcalculate_P_k\u001b[0m\u001b[0;34m(\u001b[0m\u001b[0momega\u001b[0m\u001b[0;34m,\u001b[0m \u001b[0mZ\u001b[0m\u001b[0;34m,\u001b[0m \u001b[0mc\u001b[0m\u001b[0;34m,\u001b[0m \u001b[0meta_der\u001b[0m\u001b[0;34m,\u001b[0m \u001b[0mYT_k\u001b[0m\u001b[0;34m,\u001b[0m \u001b[0mmy\u001b[0m\u001b[0;34m)\u001b[0m\u001b[0;34m:\u001b[0m\u001b[0;34m\u001b[0m\u001b[0;34m\u001b[0m\u001b[0m\n\u001b[1;32m     66\u001b[0m     \u001b[0;34m''' Calculates part (7) of gradient '''\u001b[0m\u001b[0;34m\u001b[0m\u001b[0;34m\u001b[0m\u001b[0m\n\u001b[0;32m---> 67\u001b[0;31m     \u001b[0mP_k\u001b[0m \u001b[0;34m=\u001b[0m \u001b[0mnp\u001b[0m\u001b[0;34m.\u001b[0m\u001b[0mouter\u001b[0m\u001b[0;34m(\u001b[0m\u001b[0momega\u001b[0m\u001b[0;34m,\u001b[0m\u001b[0;34m(\u001b[0m\u001b[0mZ\u001b[0m\u001b[0;34m-\u001b[0m\u001b[0mc\u001b[0m\u001b[0;34m)\u001b[0m\u001b[0;34m*\u001b[0m\u001b[0meta_der\u001b[0m\u001b[0;34m(\u001b[0m\u001b[0mYT_k\u001b[0m \u001b[0;34m@\u001b[0m \u001b[0momega\u001b[0m \u001b[0;34m+\u001b[0m \u001b[0mmy\u001b[0m\u001b[0;34m)\u001b[0m\u001b[0;34m)\u001b[0m \u001b[0;31m#Blir en dxI matrise\u001b[0m\u001b[0;34m\u001b[0m\u001b[0;34m\u001b[0m\u001b[0m\n\u001b[0m\u001b[1;32m     68\u001b[0m     \u001b[0;32mreturn\u001b[0m \u001b[0mP_k\u001b[0m\u001b[0;34m\u001b[0m\u001b[0;34m\u001b[0m\u001b[0m\n\u001b[1;32m     69\u001b[0m \u001b[0;34m\u001b[0m\u001b[0m\n",
      "\u001b[0;32m<__array_function__ internals>\u001b[0m in \u001b[0;36mouter\u001b[0;34m(*args, **kwargs)\u001b[0m\n",
      "\u001b[0;32m~/anaconda3/lib/python3.7/site-packages/numpy/core/numeric.py\u001b[0m in \u001b[0;36mouter\u001b[0;34m(a, b, out)\u001b[0m\n\u001b[1;32m    904\u001b[0m     \u001b[0ma\u001b[0m \u001b[0;34m=\u001b[0m \u001b[0masarray\u001b[0m\u001b[0;34m(\u001b[0m\u001b[0ma\u001b[0m\u001b[0;34m)\u001b[0m\u001b[0;34m\u001b[0m\u001b[0;34m\u001b[0m\u001b[0m\n\u001b[1;32m    905\u001b[0m     \u001b[0mb\u001b[0m \u001b[0;34m=\u001b[0m \u001b[0masarray\u001b[0m\u001b[0;34m(\u001b[0m\u001b[0mb\u001b[0m\u001b[0;34m)\u001b[0m\u001b[0;34m\u001b[0m\u001b[0;34m\u001b[0m\u001b[0m\n\u001b[0;32m--> 906\u001b[0;31m     \u001b[0;32mreturn\u001b[0m \u001b[0mmultiply\u001b[0m\u001b[0;34m(\u001b[0m\u001b[0ma\u001b[0m\u001b[0;34m.\u001b[0m\u001b[0mravel\u001b[0m\u001b[0;34m(\u001b[0m\u001b[0;34m)\u001b[0m\u001b[0;34m[\u001b[0m\u001b[0;34m:\u001b[0m\u001b[0;34m,\u001b[0m \u001b[0mnewaxis\u001b[0m\u001b[0;34m]\u001b[0m\u001b[0;34m,\u001b[0m \u001b[0mb\u001b[0m\u001b[0;34m.\u001b[0m\u001b[0mravel\u001b[0m\u001b[0;34m(\u001b[0m\u001b[0;34m)\u001b[0m\u001b[0;34m[\u001b[0m\u001b[0mnewaxis\u001b[0m\u001b[0;34m,\u001b[0m \u001b[0;34m:\u001b[0m\u001b[0;34m]\u001b[0m\u001b[0;34m,\u001b[0m \u001b[0mout\u001b[0m\u001b[0;34m)\u001b[0m\u001b[0;34m\u001b[0m\u001b[0;34m\u001b[0m\u001b[0m\n\u001b[0m\u001b[1;32m    907\u001b[0m \u001b[0;34m\u001b[0m\u001b[0m\n\u001b[1;32m    908\u001b[0m \u001b[0;34m\u001b[0m\u001b[0m\n",
      "\u001b[0;31mMemoryError\u001b[0m: Unable to allocate 873. GiB for an array with shape (784, 149401729) and data type float64"
     ]
    }
   ],
   "source": [
    "from loader import *\n",
    "\n",
    "I = 12223 #images --> kjører et beskjedent antall blant de 60000, basert på Stochastic Gradient Descent. \n",
    "#Blir ca 12000 bilder maksimalt med kun utvalg på to siffer. \n",
    "d = 784 # 28x28\n",
    "Y_0, c = get_dataset()\n",
    "Y_Kk, J, omega, my, iterations = algorithm(Y_0, c, I, d, \"training\")"
   ]
  },
  {
   "cell_type": "markdown",
   "metadata": {},
   "source": [
    "#### Testing"
   ]
  },
  {
   "cell_type": "code",
   "execution_count": null,
   "metadata": {},
   "outputs": [],
   "source": [
    "from loader import *\n",
    "\n",
    "I = 12223 #images --> kjører et beskjedent antall blant de 60000, basert på Stochastic Gradient Descent. \n",
    "#Blir ca 12000 bilder maksimalt med kun utvalg på to siffer. \n",
    "d = 784 # 28x28\n",
    "Y_0, c = get_dataset()\n",
    "Y_Kk, J, omega, my, iterations = algorithm(Y_0, c, I, d, \"testing\")"
   ]
  }
 ],
 "metadata": {
  "colab": {
   "collapsed_sections": [],
   "name": "Vitber_prosjekt2.ipynb",
   "provenance": []
  },
  "kernelspec": {
   "display_name": "Python 3",
   "language": "python",
   "name": "python3"
  },
  "language_info": {
   "codemirror_mode": {
    "name": "ipython",
    "version": 3
   },
   "file_extension": ".py",
   "mimetype": "text/x-python",
   "name": "python",
   "nbconvert_exporter": "python",
   "pygments_lexer": "ipython3",
   "version": "3.7.6"
  }
 },
 "nbformat": 4,
 "nbformat_minor": 1
}
