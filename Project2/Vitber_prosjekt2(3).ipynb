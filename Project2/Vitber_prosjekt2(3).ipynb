{
 "cells": [
  {
   "cell_type": "markdown",
   "metadata": {
    "colab_type": "text",
    "id": "VaJs2XvmQFr0"
   },
   "source": [
    "# Binær klassifisering ved hjelp av et nevralt nettverk"
   ]
  },
  {
   "cell_type": "markdown",
   "metadata": {
    "colab_type": "text",
    "id": "CMEhmZw2QHlS"
   },
   "source": [
    "## Introduksjon\n",
    "\n",
    "I denne oppgaven skal det utføres en binær klassifisering av ulike typer bilder. Modellen som skal brukes er et nevralt nettverk med en forholdsvis beskjeden dybde. Den tar et sett med bilder, som skal klassifiseres, samt noen labels som forteller bildenes sanne binære verdi. \n",
    "$\\color{red}{Mer \\, spesifikt \\, om \\, hvordan \\, modellen \\, er \\, bygget \\, opp?}$\n",
    "\n",
    "Tilnærmingen til problemet er todelt. Først skal det nevrale nettverket trenes. I denne fasen skal parameterne assosiert med hver transformasjon av bildet finnes slik at avviket mellom den reelle klassifiseringen til bildet og modellen sin klassifisering blir minimert. Avviket beregnes ved hjelp av en kostfunksjon, som benytter seg av settet med labels. Dette er essensielt en liste over de ulike punktenes reelle binære klassifisering, slik at modellen sin klassifisering kan sammenlignes med denne. Deretter skal et nytt sett med bilder gjennom en valideringsfase, der disse transformeres ved hjelp av parameterne som ble funnet i treningsfasen. Deretter kan man trekke en konklusjon om modellen klassifiserer bildene på en god måte eller ikke. \n",
    "\n",
    "Denne rapporten består av kode, samt presentasjon av resultater fra to testproblemer:\n",
    "\n",
    "I testproblem 1 skal punkter i planet klassifiseres. Det skal skilles mellom to typer punkter. Her er de valgt til å være henholdsvis røde og blå. \"Bildet\" i dette problemet er dermed et punkt, kun beskrevet av to koordinater $(x,y)$. Modellen skal dermed trenes til å avgjøre om et vilkårlig punkt er rødt eller blått.\n",
    "\n",
    "I testproblem 2 skal siffer fra MNIST klassifiseres. Her er det snakk om virkelige bilder med lav oppløsning. Størrelsen på bildene er 28 x 28 piksler. Bildene i settene fra MNIST består av siffer fra 0-9, dvs 10 ulike klasser av bilder. For at dette skal passe inn i vår binære klassifiseringsmodell holder vi oss til kun to forskjellige siffer, som for eksempel 2 og 7. \n",
    "\n",
    "Rapporten tar for seg testproblemene hver for seg. All kode for nettverket og algoritmen som brukes på begge problemene presenteres helt øverst i rapporten. Deretter følger det trening, validering og presentasjon av resultater fra henholdsvis problem 1 og problem 2. Det vil presenteres en tabelloversikt over suksessrater til modellene i begge oppgavene - en oversikt over andel bilder som ble klassifisert på korrekt måte. I tillegg skal to spesifikke eksempler fra trening i hver av oppgavene presenteres. Et av disse eksemplene viser et godt resultat, mens det andre eksempelet viser et svakt resultat. Kostfunksjonens konvergens blir plottet, sammen med treningsdataenes utgangsposisjoner og transformerte posisjoner. \n"
   ]
  },
  {
   "cell_type": "markdown",
   "metadata": {
    "colab_type": "text",
    "id": "x-ms6fen0XZn"
   },
   "source": [
    "## Modell og algoritme"
   ]
  },
  {
   "cell_type": "code",
   "execution_count": 1,
   "metadata": {
    "colab": {
     "base_uri": "https://localhost:8080/",
     "height": 376
    },
    "colab_type": "code",
    "id": "5O2n3uYf0alB",
    "outputId": "9df2421f-1adc-49d1-c094-461ab9ab00fb"
   },
   "outputs": [
    {
     "ename": "ModuleNotFoundError",
     "evalue": "ignored",
     "output_type": "error",
     "traceback": [
      "\u001b[0;31m---------------------------------------------------------------------------\u001b[0m",
      "\u001b[0;31mModuleNotFoundError\u001b[0m                       Traceback (most recent call last)",
      "\u001b[0;32m<ipython-input-1-9e542e28f285>\u001b[0m in \u001b[0;36m<module>\u001b[0;34m()\u001b[0m\n\u001b[1;32m      1\u001b[0m \u001b[0;32mimport\u001b[0m \u001b[0mnumpy\u001b[0m \u001b[0;32mas\u001b[0m \u001b[0mnp\u001b[0m\u001b[0;34m\u001b[0m\u001b[0;34m\u001b[0m\u001b[0m\n\u001b[1;32m      2\u001b[0m \u001b[0;32mimport\u001b[0m \u001b[0mmatplotlib\u001b[0m\u001b[0;34m.\u001b[0m\u001b[0mpyplot\u001b[0m \u001b[0;32mas\u001b[0m \u001b[0mplt\u001b[0m\u001b[0;34m\u001b[0m\u001b[0;34m\u001b[0m\u001b[0m\n\u001b[0;32m----> 3\u001b[0;31m \u001b[0;32mfrom\u001b[0m \u001b[0mspirals\u001b[0m \u001b[0;32mimport\u001b[0m\u001b[0;34m*\u001b[0m\u001b[0;34m\u001b[0m\u001b[0;34m\u001b[0m\u001b[0m\n\u001b[0m\u001b[1;32m      4\u001b[0m \u001b[0;32mfrom\u001b[0m \u001b[0mplotting\u001b[0m \u001b[0;32mimport\u001b[0m\u001b[0;34m*\u001b[0m\u001b[0;34m\u001b[0m\u001b[0;34m\u001b[0m\u001b[0m\n\u001b[1;32m      5\u001b[0m \u001b[0;32mfrom\u001b[0m \u001b[0mloader\u001b[0m \u001b[0;32mimport\u001b[0m\u001b[0;34m*\u001b[0m\u001b[0;34m\u001b[0m\u001b[0;34m\u001b[0m\u001b[0m\n",
      "\u001b[0;31mModuleNotFoundError\u001b[0m: No module named 'spirals'",
      "",
      "\u001b[0;31m---------------------------------------------------------------------------\u001b[0;32m\nNOTE: If your import is failing due to a missing package, you can\nmanually install dependencies using either !pip or !apt.\n\nTo view examples of installing some common dependencies, click the\n\"Open Examples\" button below.\n\u001b[0;31m---------------------------------------------------------------------------\u001b[0m\n"
     ]
    }
   ],
   "source": [
    "import numpy as np\n",
    "import matplotlib.pyplot as plt\n",
    "from spirals import *\n",
    "from plotting import * \n",
    "from loader import *\n",
    "import pickle\n",
    "\n",
    "def sigma(x):\n",
    "    return np.tanh(x)\n",
    "\n",
    "def sigma_der(x):\n",
    "    return 1-(np.tanh(x))**2  \n",
    "\n",
    "def eta(x):\n",
    "    return 0.5*(1+sigma(x/2))\n",
    "\n",
    "def eta_der(x):\n",
    "    return 0.25*sigma_der(x/2)    \n",
    "\n",
    "def adam_method(x, x_der, m_jn, v_jn, j):\n",
    "    beta_1 = 0.9\n",
    "    beta_2 = 0.999\n",
    "    alfa = 0.01\n",
    "    epsilon = 1e-8\n",
    "    m_j = beta_1*m_jn + (1-beta_1)*x_der\n",
    "    v_j = beta_2*v_jn + (1-beta_2)* (x_der*x_der)\n",
    "    m_hatt_j = m_j/(1-beta_1**(j))\n",
    "    v_hatt_j = v_j/(1-beta_2**(j))\n",
    "    val = alfa*m_hatt_j/(np.sqrt(v_hatt_j) + epsilon)\n",
    "    x -= val\n",
    "    return x, m_j, v_j\n",
    "\n",
    "def set_random_parameters(K, d):\n",
    "    \n",
    "    W_k = np.random.randn(K,d,d)\n",
    "    b_k = np.random.randn(K,d,1)  \n",
    "    omega = np.random.randn(d)     \n",
    "    my = np.random.rand() \n",
    "    return W_k, b_k, omega, my\n",
    "\n",
    "def initialize(K,d,I):\n",
    "    Y_Kk = np.zeros((K+1,d,I))\n",
    "    b_k_dim = np.zeros((K,d,I))  #Kunne vi holdt oss med å lage én b_k? Nå virker det litt kaotisk \n",
    "    J_der_W = np.zeros((K,d,d))\n",
    "    J_der_b = np.zeros((K,d,1))\n",
    "    vec_I = np.ones((I,1))  #For matrisemultiplikasjon\n",
    "    P_Kk = np.zeros((K,d,I)) \n",
    "    return Y_Kk, b_k_dim, J_der_W, J_der_b, vec_I, P_Kk\n",
    "\n",
    "def stochastic_gradient_descent(Y_0, C, I_tot, chunk): \n",
    "    ''' Made to pick out pictures to test. Modifies the Adam Descent Algorithm. ''' \n",
    "    start = np.random.randint(I_tot-chunk)\n",
    "    Y0_chunk = Y_0[:,start:start+chunk] \n",
    "    C_chunk = C[start:start+chunk]\n",
    "    return Y0_chunk, C_chunk \n",
    "\n",
    "def calculate_YKk_and_Z(my, omega, b_k, W_k, Y_Kk, b_k_dim, h, K):\n",
    "    for i in range(K):\n",
    "        b_k_dim[i,:,:] = b_k[i,:,:]    #Lager I kolonner med b_k[i], for at dimensjonen skal passe ved addisjon under\n",
    "        Y_Kk[i+1] = Y_Kk[i] + h*sigma(W_k[i] @ Y_Kk[i] + b_k_dim[i]) \n",
    "    \n",
    "    Z = eta(np.transpose(Y_Kk[-1]) @ omega + my)  \n",
    "    return Y_Kk, b_k_dim, Z\n",
    "\n",
    "def calculate_projection_derivatives(my, omega, Y_Kk, Z, c):\n",
    "    ''' Calculates parts of gradient (5) and (6) '''\n",
    "    YT_k = np.transpose(Y_Kk[-1])  #Kunne fjernet denne og satt den inn i lignene nedenfor kanskje?\n",
    "   \n",
    "    J_der_my = np.transpose(eta_der(YT_k @ omega + my)) @ (Z-c) \n",
    "    J_der_omega = Y_Kk[-1] @ ((Z-c) * eta_der(YT_k @ omega + my))\n",
    "    return J_der_my, J_der_omega\n",
    "\n",
    "def calculate_rest_of_gradient(my, omega, b_k_dim, W_k, Y_Kk, Z, c, h, K, P_Kk, J_der_W, J_der_b, vec_I):\n",
    "    ''' Calculates P_(k-1) from (8) '''\n",
    "    YT_k = np.transpose(Y_Kk[-1])   #Kunne fjernet denne og satt den inn i lignene nedenfor kanskje?\n",
    "    P_k = np.outer(omega,(Z-c)*eta_der(YT_k @ omega + my))\n",
    "    P_Kk[-1] = P_k      \n",
    "\n",
    "    for i in range(K-1,0,-1):  #Starter på P_k(=indeks K-1) og helt til og med P_1(=indeks 0)\n",
    "        P_Kk[i-1] = P_Kk[i] + h*np.transpose(W_k[i-1]) @ (sigma_der(W_k[i-1] @ Y_Kk[i-1] +b_k_dim[i-1]) * P_Kk[i])\n",
    "    \n",
    "    for i in range(K):\n",
    "        val = P_Kk[i] * sigma_der(W_k[i] @ Y_Kk[i] + b_k_dim[i])\n",
    "        J_der_W[i] = h*(val @ np.transpose(Y_Kk[i]))\n",
    "        J_der_b[i] = h*(val @ vec_I)\n",
    "        \n",
    "    return J_der_W, J_der_b\n",
    "\n",
    "#Er det nødvendig å ta med alle konstanter i parameterlistene?\n",
    "def algorithm(Y_0, c, K, d, iterations, h, I, chunk): \n",
    "    \n",
    "    W_k, b_k, omega, my = set_random_parameters(K, d)\n",
    "    \n",
    "    j = 1\n",
    "    J = np.zeros(iterations)\n",
    "    \n",
    "    stochastic_method = False\n",
    "    if chunk < I: #Stocastic method\n",
    "        I_tot = I  #new variable name\n",
    "        I = chunk  #to get right dimensions below\n",
    "        Y_0_tot = Y_0\n",
    "        c_tot = c\n",
    "        stochastic_method = True\n",
    "    \n",
    "    Y_Kk, b_k_dim, J_der_W, J_der_b, vec_I, P_Kk = initialize(K, d, I)\n",
    "    \n",
    "    #Til Adam-metoden:\n",
    "    v_j = np.array([0,np.zeros(d),np.zeros((K,d,1)),np.zeros((K,d,d))])\n",
    "    m_j = np.array([0,np.zeros(d),np.zeros((K,d,1)),np.zeros((K,d,d))])\n",
    "    \n",
    "    while j <= iterations:\n",
    "        if stochastic_method:\n",
    "            Y_0, c = stochastic_gradient_descent(Y_0_tot, c_tot, I_tot, chunk)\n",
    "        \n",
    "        Y_Kk[0] = Y_0\n",
    "        Y_Kk, b_k_dim, Z = calculate_YKk_and_Z(my, omega, b_k, W_k, Y_Kk, b_k_dim, h, K) #Makes new Y_Kk and b_k_dim\n",
    "        \n",
    "        J[j-1] = 0.5*np.linalg.norm(Z-c)**2\n",
    "        \n",
    "        J_der_my, J_der_omega = calculate_projection_derivatives(my, omega, Y_Kk, Z, c) \n",
    "        \n",
    "        J_der_W, J_der_b = calculate_rest_of_gradient(my, omega, b_k_dim, W_k, Y_Kk, Z, c, h, K, P_Kk, J_der_W, J_der_b, vec_I)\n",
    "        \n",
    "        my, m_j[0],v_j[0] = adam_method(my, J_der_my, m_j[0], v_j[0], j)\n",
    "        omega, m_j[1],v_j[1] = adam_method(omega,J_der_omega,m_j[1],v_j[1], j)\n",
    "        b_k, m_j[2],v_j[2] = adam_method(b_k,J_der_b,m_j[2],v_j[2], j)\n",
    "        W_k, m_j[3],v_j[3] = adam_method(W_k,J_der_W,m_j[3],v_j[3], j)\n",
    "        \n",
    "        j+= 1\n",
    "    return my, omega, b_k, W_k, Y_Kk, J, Z, c \n",
    "\n",
    "#used to plot the results below\n",
    "def forward_function(grid):\n",
    "    ''' A function that takes one argument, an ?2-by-S? matrix of S datapoints, and\n",
    "    returns a vector of S classification values.'''    \n",
    "    b_k_dim = np.zeros((K,d,len(grid[0,:])))\n",
    "    grid_Kk = np.zeros((K+1,d,len(grid[0,:])))\n",
    "    grid_Kk[0] = grid\n",
    "    grid_Kk, b_k_dim, Z = calculate_YKk_and_Z(my, omega, b_k, W_k, grid_Kk, b_k_dim, h, K)\n",
    "    return Z\n",
    "\n",
    "def last_function(grid):\n",
    "    ''' A function that takes one argument, and S-by-2 matrix of S intermediate states in\n",
    "    the network, and returns a vector of S classification values.\n",
    "    It should multiply by w, add μ and evaluate 𝜂. '''\n",
    "    Z = eta(np.transpose(grid) @ omega + my)\n",
    "    return Z\n",
    "\n",
    "def plot_cost_function_convergence(iterations, J):\n",
    "    ''' Plots the convergence of the cost function as a function of the iteration index ''' \n",
    "    j_values = [i for i in range(1,iterations+1)]\n",
    "    plt.figure()\n",
    "    plt.plot(j_values, J)\n",
    "    plt.xlabel(\"Iteration index j\")\n",
    "    plt.ylabel(\"Cost\")\n",
    "    plt.title(\"Convergence of cost function\")\n",
    "    plt.show()\n",
    "\n",
    "def print_successrate(Z, c, tol=0.5): #All values under 0.5 goes to zero and all values above goes to 1\n",
    "    correctly_classified = 0\n",
    "    for i in range(len(Z)):\n",
    "        if abs(Z[i]-c[i]) <= tol:\n",
    "            correctly_classified+=1\n",
    "    print(\"Ratio of correctly classified points:\", correctly_classified/len(c),\"(with tolerated difference between classification point and label:\",str(tol)+\")\")\n",
    "\n",
    "def write_to_file(my, omega, b_k, W_k, filename):\n",
    "    U = [my, omega, b_k, W_k]\n",
    "    with open(filename, \"wb\") as f:\n",
    "        pickle.dump(U, f)\n",
    "\n",
    "def test_parameters(Y_0, h, K, d, I, filename):\n",
    "    with open(filename, \"rb\") as f:\n",
    "        U = pickle.load(f)\n",
    "    my, omega, b_k, W_k = U[0], U[1], U[2], U[3]\n",
    "    Y_Kk = np.zeros((K+1,d,I))\n",
    "    b_k_dim = np.zeros((K,d,I))\n",
    "    Y_Kk[0] = Y_0\n",
    "    Y_Kk, b_k_dim, Z = calculate_YKk_and_Z(my, omega, b_k, W_k, Y_Kk, b_k_dim, h, K)\n",
    "    return Y_Kk, Z\n",
    "\n",
    "def show_image(Y_k, n):\n",
    "    for i in range(n):\n",
    "        image = Y_k[:,i].reshape((28,28))\n",
    "        plt.imshow(image)\n",
    "        plt.show()\n"
   ]
  },
  {
   "cell_type": "markdown",
   "metadata": {
    "colab_type": "text",
    "id": "CHdud7_iQOEA"
   },
   "source": [
    "## Testproblem 1 - punkter i planet\n"
   ]
  },
  {
   "cell_type": "code",
   "execution_count": 0,
   "metadata": {
    "colab": {
     "base_uri": "https://localhost:8080/",
     "height": 265
    },
    "colab_type": "code",
    "id": "vnteSaxRwGwO",
    "outputId": "8672cdad-00cc-4f04-fde5-2de5af56f70a"
   },
   "outputs": [
    {
     "data": {
      "image/png": "[encoded data removed]",
      "text/plain": [
       "<Figure size 432x288 with 1 Axes>"
      ]
     },
     "metadata": {
      "tags": []
     },
     "output_type": "display_data"
    }
   ],
   "source": [
    "d = 2  \n",
    "h = 0.1\n",
    "\n",
    "print(\"Training session:\")\n",
    "K = 15    #K har veldig mye å si på hvor fort J konvergerer\n",
    "I = 1000   \n",
    "iterations = 10000  \n",
    "chunk = I\n",
    "\n",
    "Y_0, c = get_data_spiral_2d(I)\n",
    "c = c[:,0]\n",
    "\n",
    "my, omega, b_k, W_k, Y_Kk, J, Z, c = algorithm(Y_0, c, K, d, iterations, h, len(Y_0[0,:]), chunk)\n",
    "write_to_file(my, omega, b_k, W_k, \"parameters_points.txt\")\n",
    "\n",
    "print_successrate(Z,c, tol=0.05)\n",
    "plot_cost_function_convergence(iterations, J)\n",
    "print(\"Last item of J function\", J[-1])\n",
    "\n",
    "print(\"Testing parameters:\")\n",
    "#Kan jeg endre noen konstanter her - kan kanskje endre I, men K,d,h må være samme\n",
    "\n",
    "Y_0, c_test = get_data_spiral_2d(I)\n",
    "Y_Kk_test, Z_test = test_parameters(Y_0, h, K, d, I, \"parameters_points.txt\")\n",
    "print_successrate(Z_test,c_test, tol=0.05)"
   ]
  },
  {
   "cell_type": "code",
   "execution_count": 0,
   "metadata": {
    "colab": {},
    "colab_type": "code",
    "id": "b8SiDaaPQabX"
   },
   "outputs": [],
   "source": [
    "print(\"Plotting test-results\")\n",
    "plot_model(forward_function,Y_Kk_test[0,:,:],c_test,100)\n",
    "plot_progression(Y_Kk_test, c_test)\n",
    "plot_separation(last_function,Y_Kk_test[-1,:,:],c_test,100)"
   ]
  },
  {
   "cell_type": "markdown",
   "metadata": {
    "colab_type": "text",
    "id": "Luh1vbpjqhGj"
   },
   "source": [
    "### Presentasjon av resultater: \n",
    "\n",
    "\n",
    "### Suksessrater: \n",
    "\n",
    "Modellen har blitt trent og testet en rekke flere ganger, på samme måte som eksempelet over. Resultatene er presentert i tabellen nedenfor. \n",
    "\n",
    "Trente modellen med 40000 iterasjoner. 1000 bilder. K = 20 lag, og hhv h = 0.1, 0.3, 0.5, 0.7 og 0.9.\n",
    "Deretter kjørte testing på denne dataen med 10, 15 og 30 lag i nettverket. Det er dette man ser i tabellen nedenfor. \n",
    "\n",
    "| tol = 0.05 | K = 5 | K = 7 | K = 10 | K = 15 | K = 17 | K = 20 |\n",
    "|------------|-------|:-----:|--------|--------|--------|--------|\n",
    "| h = 0.1    | 0.069 | 0.437 | 0.997  | 0.997  | 0.996  | 0.999  |\n",
    "| h = 0.3    | 0.153 | 0.888 | 0.998  | 0.996  | 0.997  | 0.234  |\n",
    "| h = 0.5    | 0.930 | 0.565 | 0.010  | 0.364  | 0.997  | 0.217  |\n",
    "| h = 0.7    | 0.077 | 0.576 | 0.998  | 0.997  | 0.0    | 0.985  |\n",
    "| h = 0.9    | 0.914 | 0.344 | 0.848  | 0.0    | 0.678  | 0.995  |\n",
    "\n",
    "\n",
    "Hvis man ser på J-funksjonen til f.eks h0.9,K17 ser man at det er veldig flaks at den resultatet blir såpass bra etter 40000 iterasjoner, for den konvergerer ikke mot en lav verdi (den oscillerer helt vilt). Dermed kan f.eks denne være interessant å plotte. Dette er nok tilfellet på mange flere av disse derimot (blant de større h-verdiene!). h0.7,K17 hadde nok ikke like flaks. \n",
    "\n",
    "Tester heller med K = 5, for å se hvor mye de siste 10-15 lagene har å si!\n",
    "\n",
    "Toleransen ble satt til 0.05 under klassifiseringen i denne oppgaven, for å se hvor mye modellen kunne få rett når man er mye sikrere enn 50 %. Ved tol 0.5 ble resultatene ...\n",
    "\n",
    "Tror det er noe avvik i treninga på noen av disse som er veldig lave. Test gjerne dere hvis dere er keen\n",
    "\n"
   ]
  },
  {
   "cell_type": "markdown",
   "metadata": {
    "colab_type": "text",
    "id": "oPlZt0vUIK_e"
   },
   "source": [
    "### Konklusjon\n",
    "\n",
    "Basert på suksessratene er det åpenbart at det er bedre med flere lag, men man taper altså ikke så mye ved å kutte noen lag. Det ser ut til å gjennomgående fungere bedre når h er mindre, slik at steglengden ikke blir så \"voldsom\" og kostfunksjonen konvergerer mot en lav verdi (slik den ikke gjør for flere av de større h-ene)"
   ]
  },
  {
   "cell_type": "markdown",
   "metadata": {
    "colab_type": "text",
    "id": "ObklhArmQaDv"
   },
   "source": [
    "## Testproblem 2 - håndskrevne siffer"
   ]
  },
  {
   "cell_type": "code",
   "execution_count": 2,
   "metadata": {
    "colab": {
     "base_uri": "https://localhost:8080/",
     "height": 34
    },
    "colab_type": "code",
    "id": "1sLMvcg5L2UJ",
    "outputId": "4a749ea3-d1d3-4858-9056-948f05a0ae81"
   },
   "outputs": [
    {
     "name": "stdout",
     "output_type": "stream",
     "text": [
      "Training session: \n"
     ]
    }
   ],
   "source": [
    "d = 784     #28x28\n",
    "h = 0.1\n",
    "\n",
    "print(\"Training session: \")\n",
    "K = 10            #ser ut som konvergensen nesten er helt uavh. av K. K=3 og K=18 gir omtrent det samme\n",
    "chunk = 256      #kurven blir mye glattere med stor chunk\n",
    "iterations = 350  #Konvergerer ish etter 400 iterasjoner\n",
    "\n",
    "#Y_0, c = get_dataset()  #784x1233\n",
    "#c = c[:,0]\n",
    "#Y_0 = Y_0/255   #For å få mye kjappere konvergens, men kanskje noe feil\n",
    "\n",
    "#my, omega, b_k, W_k, Y_Kk, J, Z, c  = algorithm(Y_0, c, K, d, iterations, h, len(Y_0[0,:]), chunk)\n",
    "#write_to_file(my, omega, b_k, W_k, \"parameters_images.txt\")\n",
    "\n",
    "#print_successrate(Z, c, tol=0.05)\n",
    "#plot_cost_function_convergence(iterations, J)"
   ]
  },
  {
   "cell_type": "code",
   "execution_count": 0,
   "metadata": {
    "colab": {},
    "colab_type": "code",
    "id": "kYYM3OdAIPWq"
   },
   "outputs": [],
   "source": []
  }
 ],
 "metadata": {
  "colab": {
   "collapsed_sections": [],
   "name": "Vitber_prosjekt2.ipynb",
   "provenance": []
  },
  "kernelspec": {
   "display_name": "Python 3",
   "language": "python",
   "name": "python3"
  },
  "language_info": {
   "codemirror_mode": {
    "name": "ipython",
    "version": 3
   },
   "file_extension": ".py",
   "mimetype": "text/x-python",
   "name": "python",
   "nbconvert_exporter": "python",
   "pygments_lexer": "ipython3",
   "version": "3.7.6"
  }
 },
 "nbformat": 4,
 "nbformat_minor": 1
}
